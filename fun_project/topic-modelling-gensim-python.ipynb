{
 "cells": [
  {
   "cell_type": "code",
   "execution_count": 1,
   "source": [
    "# Run in python console\n",
    "import nltk; nltk.download('stopwords')"
   ],
   "outputs": [
    {
     "output_type": "stream",
     "name": "stderr",
     "text": [
      "[nltk_data] Downloading package stopwords to /home/deniz/nltk_data...\n",
      "[nltk_data]   Unzipping corpora/stopwords.zip.\n"
     ]
    },
    {
     "output_type": "execute_result",
     "data": {
      "text/plain": [
       "True"
      ]
     },
     "metadata": {},
     "execution_count": 1
    }
   ],
   "metadata": {}
  },
  {
   "cell_type": "code",
   "execution_count": 5,
   "source": [
    "import re\n",
    "import numpy as np\n",
    "import pandas as pd\n",
    "from pprint import pprint\n",
    "\n",
    "# Gensim\n",
    "import gensim\n",
    "import gensim.corpora as corpora\n",
    "from gensim.utils import simple_preprocess\n",
    "from gensim.models import CoherenceModel\n",
    "\n",
    "# spacy for lemmatization\n",
    "import spacy\n",
    "\n",
    "# Plotting tools\n",
    "import pyLDAvis\n",
    "import pyLDAvis.gensim_models   # changed from gensim to gensim_models\n",
    "import matplotlib.pyplot as plt\n",
    "%matplotlib inline\n",
    "\n",
    "# Enable logging for gensim - optional\n",
    "import logging\n",
    "logging.basicConfig(format='%(asctime)s : %(levelname)s : %(message)s', level=logging.ERROR)\n",
    "\n",
    "import warnings\n",
    "warnings.filterwarnings(\"ignore\",category=DeprecationWarning)"
   ],
   "outputs": [
    {
     "output_type": "stream",
     "name": "stderr",
     "text": [
      "/home/deniz/anaconda3/envs/NLP/lib/python3.9/site-packages/ipykernel/ipkernel.py:287: DeprecationWarning: `should_run_async` will not call `transform_cell` automatically in the future. Please pass the result to `transformed_cell` argument and any exception that happen during thetransform in `preprocessing_exc_tuple` in IPython 7.17 and above.\n",
      "  and should_run_async(code)\n",
      "/home/deniz/anaconda3/envs/NLP/lib/python3.9/site-packages/ipykernel/pylab/backend_inline.py:164: DeprecationWarning: `configure_inline_support` is deprecated since IPython 7.23, directly use `matplotlib_inline.backend_inline.configure_inline_support()`\n",
      "  configure_inline_support(ip, backend)\n",
      "/home/deniz/anaconda3/envs/NLP/lib/python3.9/site-packages/matplotlib_inline/config.py:66: DeprecationWarning: InlineBackend._figure_formats_changed is deprecated in traitlets 4.1: use @observe and @unobserve instead.\n",
      "  def _figure_formats_changed(self, name, old, new):\n"
     ]
    }
   ],
   "metadata": {}
  },
  {
   "cell_type": "markdown",
   "source": [
    "# 5 Prepare Stopwords"
   ],
   "metadata": {}
  },
  {
   "cell_type": "code",
   "execution_count": null,
   "source": [],
   "outputs": [],
   "metadata": {}
  },
  {
   "cell_type": "code",
   "execution_count": 6,
   "source": [
    "# NLTK Stop words\n",
    "from nltk.corpus import stopwords\n",
    "stop_words = stopwords.words('english')\n",
    "stop_words.extend(['from', 'subject', 're', 'edu', 'use'])"
   ],
   "outputs": [],
   "metadata": {}
  },
  {
   "cell_type": "markdown",
   "source": [
    "# 6 Import Newsgroups Data"
   ],
   "metadata": {}
  },
  {
   "cell_type": "code",
   "execution_count": 7,
   "source": [
    "# Import Dataset\n",
    "df = pd.read_json('https://raw.githubusercontent.com/selva86/datasets/master/newsgroups.json')\n",
    "print(df.target_names.unique())\n",
    "df.head()"
   ],
   "outputs": [
    {
     "output_type": "stream",
     "name": "stdout",
     "text": [
      "['rec.autos' 'comp.sys.mac.hardware' 'comp.graphics' 'sci.space'\n",
      " 'talk.politics.guns' 'sci.med' 'comp.sys.ibm.pc.hardware'\n",
      " 'comp.os.ms-windows.misc' 'rec.motorcycles' 'talk.religion.misc'\n",
      " 'misc.forsale' 'alt.atheism' 'sci.electronics' 'comp.windows.x'\n",
      " 'rec.sport.hockey' 'rec.sport.baseball' 'soc.religion.christian'\n",
      " 'talk.politics.mideast' 'talk.politics.misc' 'sci.crypt']\n"
     ]
    },
    {
     "output_type": "execute_result",
     "data": {
      "text/plain": [
       "                                             content  target  \\\n",
       "0  From: lerxst@wam.umd.edu (where's my thing)\\nS...       7   \n",
       "1  From: guykuo@carson.u.washington.edu (Guy Kuo)...       4   \n",
       "2  From: twillis@ec.ecn.purdue.edu (Thomas E Will...       4   \n",
       "3  From: jgreen@amber (Joe Green)\\nSubject: Re: W...       1   \n",
       "4  From: jcm@head-cfa.harvard.edu (Jonathan McDow...      14   \n",
       "\n",
       "            target_names  \n",
       "0              rec.autos  \n",
       "1  comp.sys.mac.hardware  \n",
       "2  comp.sys.mac.hardware  \n",
       "3          comp.graphics  \n",
       "4              sci.space  "
      ],
      "text/html": [
       "<div>\n",
       "<style scoped>\n",
       "    .dataframe tbody tr th:only-of-type {\n",
       "        vertical-align: middle;\n",
       "    }\n",
       "\n",
       "    .dataframe tbody tr th {\n",
       "        vertical-align: top;\n",
       "    }\n",
       "\n",
       "    .dataframe thead th {\n",
       "        text-align: right;\n",
       "    }\n",
       "</style>\n",
       "<table border=\"1\" class=\"dataframe\">\n",
       "  <thead>\n",
       "    <tr style=\"text-align: right;\">\n",
       "      <th></th>\n",
       "      <th>content</th>\n",
       "      <th>target</th>\n",
       "      <th>target_names</th>\n",
       "    </tr>\n",
       "  </thead>\n",
       "  <tbody>\n",
       "    <tr>\n",
       "      <th>0</th>\n",
       "      <td>From: lerxst@wam.umd.edu (where's my thing)\\nS...</td>\n",
       "      <td>7</td>\n",
       "      <td>rec.autos</td>\n",
       "    </tr>\n",
       "    <tr>\n",
       "      <th>1</th>\n",
       "      <td>From: guykuo@carson.u.washington.edu (Guy Kuo)...</td>\n",
       "      <td>4</td>\n",
       "      <td>comp.sys.mac.hardware</td>\n",
       "    </tr>\n",
       "    <tr>\n",
       "      <th>2</th>\n",
       "      <td>From: twillis@ec.ecn.purdue.edu (Thomas E Will...</td>\n",
       "      <td>4</td>\n",
       "      <td>comp.sys.mac.hardware</td>\n",
       "    </tr>\n",
       "    <tr>\n",
       "      <th>3</th>\n",
       "      <td>From: jgreen@amber (Joe Green)\\nSubject: Re: W...</td>\n",
       "      <td>1</td>\n",
       "      <td>comp.graphics</td>\n",
       "    </tr>\n",
       "    <tr>\n",
       "      <th>4</th>\n",
       "      <td>From: jcm@head-cfa.harvard.edu (Jonathan McDow...</td>\n",
       "      <td>14</td>\n",
       "      <td>sci.space</td>\n",
       "    </tr>\n",
       "  </tbody>\n",
       "</table>\n",
       "</div>"
      ]
     },
     "metadata": {},
     "execution_count": 7
    }
   ],
   "metadata": {}
  },
  {
   "cell_type": "markdown",
   "source": [
    "# 7 Remove emails and newline characters"
   ],
   "metadata": {}
  },
  {
   "cell_type": "code",
   "execution_count": 8,
   "source": [
    "# Convert to list\n",
    "data = df.content.values.tolist()\n",
    "\n",
    "# Remove Emails\n",
    "data = [re.sub('\\S*@\\S*\\s?', '', sent) for sent in data]\n",
    "\n",
    "# Remove new line characters\n",
    "data = [re.sub('\\s+', ' ', sent) for sent in data]\n",
    "\n",
    "# Remove distracting single quotes\n",
    "data = [re.sub(\"\\'\", \"\", sent) for sent in data]\n",
    "\n",
    "pprint(data[:1])"
   ],
   "outputs": [
    {
     "output_type": "stream",
     "name": "stdout",
     "text": [
      "['From: (wheres my thing) Subject: WHAT car is this!? Nntp-Posting-Host: '\n",
      " 'rac3.wam.umd.edu Organization: University of Maryland, College Park Lines: '\n",
      " '15 I was wondering if anyone out there could enlighten me on this car I saw '\n",
      " 'the other day. It was a 2-door sports car, looked to be from the late 60s/ '\n",
      " 'early 70s. It was called a Bricklin. The doors were really small. In '\n",
      " 'addition, the front bumper was separate from the rest of the body. This is '\n",
      " 'all I know. If anyone can tellme a model name, engine specs, years of '\n",
      " 'production, where this car is made, history, or whatever info you have on '\n",
      " 'this funky looking car, please e-mail. Thanks, - IL ---- brought to you by '\n",
      " 'your neighborhood Lerxst ---- ']\n"
     ]
    }
   ],
   "metadata": {}
  },
  {
   "cell_type": "markdown",
   "source": [
    "# 8 Tokenize words and Clean-up-text"
   ],
   "metadata": {}
  },
  {
   "cell_type": "code",
   "execution_count": 9,
   "source": [
    "def sent_to_words(sentences):\n",
    "    for sentence in sentences:\n",
    "        yield(gensim.utils.simple_preprocess(str(sentence), deacc=True))  # deacc=True removes punctuations\n",
    "\n",
    "data_words = list(sent_to_words(data))\n",
    "\n",
    "print(data_words[:1])"
   ],
   "outputs": [
    {
     "output_type": "stream",
     "name": "stdout",
     "text": [
      "[['from', 'wheres', 'my', 'thing', 'subject', 'what', 'car', 'is', 'this', 'nntp', 'posting', 'host', 'rac', 'wam', 'umd', 'edu', 'organization', 'university', 'of', 'maryland', 'college', 'park', 'lines', 'was', 'wondering', 'if', 'anyone', 'out', 'there', 'could', 'enlighten', 'me', 'on', 'this', 'car', 'saw', 'the', 'other', 'day', 'it', 'was', 'door', 'sports', 'car', 'looked', 'to', 'be', 'from', 'the', 'late', 'early', 'it', 'was', 'called', 'bricklin', 'the', 'doors', 'were', 'really', 'small', 'in', 'addition', 'the', 'front', 'bumper', 'was', 'separate', 'from', 'the', 'rest', 'of', 'the', 'body', 'this', 'is', 'all', 'know', 'if', 'anyone', 'can', 'tellme', 'model', 'name', 'engine', 'specs', 'years', 'of', 'production', 'where', 'this', 'car', 'is', 'made', 'history', 'or', 'whatever', 'info', 'you', 'have', 'on', 'this', 'funky', 'looking', 'car', 'please', 'mail', 'thanks', 'il', 'brought', 'to', 'you', 'by', 'your', 'neighborhood', 'lerxst']]\n"
     ]
    }
   ],
   "metadata": {}
  },
  {
   "cell_type": "markdown",
   "source": [
    "# 9 Creating Bigram and Trigram Models"
   ],
   "metadata": {}
  },
  {
   "cell_type": "code",
   "execution_count": 10,
   "source": [
    "# Build the bigram and trigram models\n",
    "bigram = gensim.models.Phrases(data_words, min_count=5, threshold=100) # higher threshold fewer phrases.\n",
    "trigram = gensim.models.Phrases(bigram[data_words], threshold=100)  \n",
    "\n",
    "# Faster way to get a sentence clubbed as a trigram/bigram\n",
    "bigram_mod = gensim.models.phrases.Phraser(bigram)\n",
    "trigram_mod = gensim.models.phrases.Phraser(trigram)\n",
    "\n",
    "# See trigram example\n",
    "print(trigram_mod[bigram_mod[data_words[0]]])"
   ],
   "outputs": [
    {
     "output_type": "stream",
     "name": "stdout",
     "text": [
      "['from', 'wheres', 'my', 'thing', 'subject', 'what', 'car', 'is', 'this', 'nntp_posting_host', 'rac_wam_umd_edu', 'organization', 'university', 'of', 'maryland_college_park', 'lines', 'was', 'wondering', 'if', 'anyone', 'out', 'there', 'could', 'enlighten', 'me', 'on', 'this', 'car', 'saw', 'the', 'other', 'day', 'it', 'was', 'door', 'sports', 'car', 'looked', 'to', 'be', 'from', 'the', 'late', 'early', 'it', 'was', 'called', 'bricklin', 'the', 'doors', 'were', 'really', 'small', 'in', 'addition', 'the', 'front_bumper', 'was', 'separate', 'from', 'the', 'rest', 'of', 'the', 'body', 'this', 'is', 'all', 'know', 'if', 'anyone', 'can', 'tellme', 'model', 'name', 'engine', 'specs', 'years', 'of', 'production', 'where', 'this', 'car', 'is', 'made', 'history', 'or', 'whatever', 'info', 'you', 'have', 'on', 'this', 'funky', 'looking', 'car', 'please', 'mail', 'thanks', 'il', 'brought', 'to', 'you', 'by', 'your', 'neighborhood', 'lerxst']\n"
     ]
    }
   ],
   "metadata": {}
  },
  {
   "cell_type": "markdown",
   "source": [
    "# 10 Remove Stopwords, Make Bigrams and Lemmatize"
   ],
   "metadata": {}
  },
  {
   "cell_type": "code",
   "execution_count": 11,
   "source": [
    "# Define functions for stopwords, bigrams, trigrams and lemmatization\n",
    "def remove_stopwords(texts):\n",
    "    return [[word for word in simple_preprocess(str(doc)) if word not in stop_words] for doc in texts]\n",
    "\n",
    "def make_bigrams(texts):\n",
    "    return [bigram_mod[doc] for doc in texts]\n",
    "\n",
    "def make_trigrams(texts):\n",
    "    return [trigram_mod[bigram_mod[doc]] for doc in texts]\n",
    "\n",
    "def lemmatization(texts, allowed_postags=['NOUN', 'ADJ', 'VERB', 'ADV']):\n",
    "    \"\"\"https://spacy.io/api/annotation\"\"\"\n",
    "    texts_out = []\n",
    "    for sent in texts:\n",
    "        doc = nlp(\" \".join(sent)) \n",
    "        texts_out.append([token.lemma_ for token in doc if token.pos_ in allowed_postags])\n",
    "    return texts_out"
   ],
   "outputs": [],
   "metadata": {}
  },
  {
   "cell_type": "code",
   "execution_count": 14,
   "source": [
    "# Remove Stop Words\n",
    "data_words_nostops = remove_stopwords(data_words)\n",
    "\n",
    "# Form Bigrams\n",
    "data_words_bigrams = make_bigrams(data_words_nostops)\n",
    "\n",
    "# Initialize spacy 'en' model, keeping only tagger component (for efficiency)\n",
    "# python3 -m spacy download en\n",
    "#nlp = spacy.load(\"en_core_web_sm\")\n",
    "nlp = spacy.load('en_core_web_sm', disable=['parser', 'ner'])\n",
    "\n",
    "# Do lemmatization keeping only noun, adj, vb, adv\n",
    "data_lemmatized = lemmatization(data_words_bigrams, allowed_postags=['NOUN', 'ADJ', 'VERB', 'ADV'])\n",
    "\n",
    "print(data_lemmatized[:1])"
   ],
   "outputs": [
    {
     "output_type": "stream",
     "name": "stdout",
     "text": [
      "[['where', 'thing', 'car', 'nntp_poste', 'host', 'park', 'line', 'wonder', 'enlighten', 'car', 'see', 'day', 'door', 'sport', 'car', 'look', 'late', 'early', 'call', 'door', 'really', 'small', 'addition', 'front_bumper', 'separate', 'rest', 'body', 'know', 'tellme', 'model', 'name', 'engine', 'spec', 'year', 'production', 'car', 'make', 'history', 'info', 'funky', 'look', 'car', 'mail', 'thank', 'bring', 'neighborhood', 'lerxst']]\n"
     ]
    }
   ],
   "metadata": {}
  },
  {
   "cell_type": "markdown",
   "source": [
    "# 11 Create the Dictionary and Coprus needed for Topic Modeling"
   ],
   "metadata": {}
  },
  {
   "cell_type": "code",
   "execution_count": 15,
   "source": [
    "# Create Dictionary\n",
    "id2word = corpora.Dictionary(data_lemmatized)\n",
    "\n",
    "# Create Corpus\n",
    "texts = data_lemmatized\n",
    "\n",
    "# Term Document Frequency\n",
    "corpus = [id2word.doc2bow(text) for text in texts]\n",
    "\n",
    "# View\n",
    "print(corpus[:1])"
   ],
   "outputs": [
    {
     "output_type": "stream",
     "name": "stdout",
     "text": [
      "[[(0, 1), (1, 1), (2, 1), (3, 1), (4, 5), (5, 1), (6, 2), (7, 1), (8, 1), (9, 1), (10, 1), (11, 1), (12, 1), (13, 1), (14, 1), (15, 1), (16, 1), (17, 1), (18, 1), (19, 2), (20, 1), (21, 1), (22, 1), (23, 1), (24, 1), (25, 1), (26, 1), (27, 1), (28, 1), (29, 1), (30, 1), (31, 1), (32, 1), (33, 1), (34, 1), (35, 1), (36, 1), (37, 1), (38, 1), (39, 1), (40, 1)]]\n"
     ]
    }
   ],
   "metadata": {}
  },
  {
   "cell_type": "code",
   "execution_count": 16,
   "source": [
    "# Human readable format of corpus (term-frequency)\n",
    "[[(id2word[id], freq) for id, freq in cp] for cp in corpus[:1]]"
   ],
   "outputs": [
    {
     "output_type": "execute_result",
     "data": {
      "text/plain": [
       "[[('addition', 1),\n",
       "  ('body', 1),\n",
       "  ('bring', 1),\n",
       "  ('call', 1),\n",
       "  ('car', 5),\n",
       "  ('day', 1),\n",
       "  ('door', 2),\n",
       "  ('early', 1),\n",
       "  ('engine', 1),\n",
       "  ('enlighten', 1),\n",
       "  ('front_bumper', 1),\n",
       "  ('funky', 1),\n",
       "  ('history', 1),\n",
       "  ('host', 1),\n",
       "  ('info', 1),\n",
       "  ('know', 1),\n",
       "  ('late', 1),\n",
       "  ('lerxst', 1),\n",
       "  ('line', 1),\n",
       "  ('look', 2),\n",
       "  ('mail', 1),\n",
       "  ('make', 1),\n",
       "  ('model', 1),\n",
       "  ('name', 1),\n",
       "  ('neighborhood', 1),\n",
       "  ('nntp_poste', 1),\n",
       "  ('park', 1),\n",
       "  ('production', 1),\n",
       "  ('really', 1),\n",
       "  ('rest', 1),\n",
       "  ('see', 1),\n",
       "  ('separate', 1),\n",
       "  ('small', 1),\n",
       "  ('spec', 1),\n",
       "  ('sport', 1),\n",
       "  ('tellme', 1),\n",
       "  ('thank', 1),\n",
       "  ('thing', 1),\n",
       "  ('where', 1),\n",
       "  ('wonder', 1),\n",
       "  ('year', 1)]]"
      ]
     },
     "metadata": {},
     "execution_count": 16
    }
   ],
   "metadata": {}
  },
  {
   "cell_type": "markdown",
   "source": [
    "# 12 Building the Topic Model"
   ],
   "metadata": {}
  },
  {
   "cell_type": "code",
   "execution_count": 17,
   "source": [
    "# Build LDA model\n",
    "lda_model = gensim.models.ldamodel.LdaModel(corpus=corpus,\n",
    "                                           id2word=id2word,\n",
    "                                           num_topics=20, \n",
    "                                           random_state=100,\n",
    "                                           update_every=1, # control how often the model is updated\n",
    "                                           chunksize=100, # number of documents to be used in each training chunk\n",
    "                                           passes=10, # number of passes through the corpus during training\n",
    "                                           alpha='auto',\n",
    "                                           per_word_topics=True)"
   ],
   "outputs": [],
   "metadata": {}
  },
  {
   "cell_type": "markdown",
   "source": [
    "# 13 View the topics in LDA model"
   ],
   "metadata": {}
  },
  {
   "cell_type": "code",
   "execution_count": 18,
   "source": [
    "# Print the Keyword in the 10 topics\n",
    "pprint(lda_model.print_topics())\n",
    "doc_lda = lda_model[corpus]"
   ],
   "outputs": [
    {
     "output_type": "stream",
     "name": "stdout",
     "text": [
      "[(0,\n",
      "  '0.069*\"drive\" + 0.037*\"computer\" + 0.029*\"driver\" + 0.028*\"system\" + '\n",
      "  '0.026*\"machine\" + 0.024*\"software\" + 0.023*\"sale\" + 0.022*\"com\" + '\n",
      "  '0.021*\"cpu\" + 0.019*\"memory\"'),\n",
      " (1,\n",
      "  '0.185*\"key\" + 0.107*\"chip\" + 0.050*\"encryption\" + 0.050*\"season\" + '\n",
      "  '0.045*\"master\" + 0.040*\"trade\" + 0.032*\"secure\" + 0.029*\"pen\" + '\n",
      "  '0.028*\"secret\" + 0.024*\"cd\"'),\n",
      " (2,\n",
      "  '0.036*\"evidence\" + 0.033*\"believe\" + 0.026*\"reason\" + 0.024*\"claim\" + '\n",
      "  '0.021*\"book\" + 0.018*\"sense\" + 0.018*\"exist\" + 0.017*\"faith\" + 0.015*\"true\" '\n",
      "  '+ 0.013*\"question\"'),\n",
      " (3,\n",
      "  '0.036*\"government\" + 0.035*\"state\" + 0.033*\"law\" + 0.030*\"gun\" + '\n",
      "  '0.023*\"people\" + 0.023*\"right\" + 0.018*\"death\" + 0.016*\"country\" + '\n",
      "  '0.013*\"protect\" + 0.013*\"public\"'),\n",
      " (4,\n",
      "  '0.053*\"child\" + 0.040*\"kill\" + 0.030*\"israeli\" + 0.028*\"soldier\" + '\n",
      "  '0.027*\"hell\" + 0.025*\"village\" + 0.023*\"attack\" + 0.023*\"controller\" + '\n",
      "  '0.020*\"man\" + 0.019*\"fire\"'),\n",
      " (5,\n",
      "  '0.017*\"make\" + 0.017*\"say\" + 0.016*\"think\" + 0.015*\"go\" + 0.014*\"know\" + '\n",
      "  '0.013*\"people\" + 0.013*\"see\" + 0.012*\"time\" + 0.012*\"get\" + 0.012*\"good\"'),\n",
      " (6,\n",
      "  '0.082*\"god\" + 0.081*\"physical\" + 0.051*\"human\" + 0.039*\"christianity\" + '\n",
      "  '0.038*\"notice\" + 0.032*\"direct\" + 0.030*\"recommend\" + 0.029*\"external\" + '\n",
      "  '0.022*\"objective\" + 0.021*\"son\"'),\n",
      " (7,\n",
      "  '0.101*\"server\" + 0.083*\"dept\" + 0.051*\"mit\" + 0.044*\"helmet\" + '\n",
      "  '0.030*\"please_respond\" + 0.029*\"sy\" + 0.024*\"giant\" + 0.020*\"kit\" + '\n",
      "  '0.012*\"stroke\" + 0.008*\"hassle\"'),\n",
      " (8,\n",
      "  '0.049*\"power\" + 0.043*\"cost\" + 0.027*\"price\" + 0.025*\"wire\" + 0.025*\"low\" + '\n",
      "  '0.023*\"private\" + 0.022*\"cheap\" + 0.020*\"sell\" + 0.020*\"wing\" + '\n",
      "  '0.019*\"ground\"'),\n",
      " (9,\n",
      "  '0.136*\"_\" + 0.097*\"car\" + 0.073*\"space\" + 0.036*\"pin\" + 0.026*\"engine\" + '\n",
      "  '0.024*\"launch\" + 0.020*\"mission\" + 0.019*\"orbit\" + 0.018*\"printer\" + '\n",
      "  '0.018*\"m\"'),\n",
      " (10,\n",
      "  '0.037*\"system\" + 0.024*\"information\" + 0.021*\"provide\" + 0.020*\"use\" + '\n",
      "  '0.018*\"include\" + 0.017*\"number\" + 0.015*\"also\" + 0.015*\"list\" + '\n",
      "  '0.014*\"technology\" + 0.014*\"send\"'),\n",
      " (11,\n",
      "  '0.127*\"line\" + 0.080*\"write\" + 0.078*\"organization\" + 0.070*\"article\" + '\n",
      "  '0.050*\"nntp_poste\" + 0.043*\"host\" + 0.024*\"reply\" + 0.024*\"thank\" + '\n",
      "  '0.022*\"get\" + 0.017*\"university\"'),\n",
      " (12,\n",
      "  '0.041*\"year\" + 0.019*\"team\" + 0.019*\"game\" + 0.017*\"last\" + 0.015*\"first\" + '\n",
      "  '0.014*\"play\" + 0.013*\"next\" + 0.012*\"win\" + 0.012*\"run\" + 0.011*\"report\"'),\n",
      " (13,\n",
      "  '0.052*\"program\" + 0.050*\"file\" + 0.050*\"window\" + 0.023*\"image\" + '\n",
      "  '0.022*\"entry\" + 0.020*\"version\" + 0.019*\"application\" + 0.018*\"screen\" + '\n",
      "  '0.017*\"run\" + 0.017*\"code\"'),\n",
      " (14,\n",
      "  '0.092*\"bike\" + 0.058*\"ride\" + 0.045*\"motif\" + 0.039*\"doctor\" + 0.033*\"ok\" + '\n",
      "  '0.031*\"rider\" + 0.030*\"dog\" + 0.030*\"cap\" + 0.026*\"ticket\" + '\n",
      "  '0.023*\"decent\"'),\n",
      " (15,\n",
      "  '0.058*\"contain\" + 0.054*\"monitor\" + 0.047*\"character\" + 0.040*\"normal\" + '\n",
      "  '0.039*\"eat\" + 0.026*\"review\" + 0.025*\"font\" + 0.024*\"plane\" + '\n",
      "  '0.024*\"excuse\" + 0.021*\"mirror\"'),\n",
      " (16,\n",
      "  '0.038*\"spacecraft\" + 0.036*\"ammunition\" + 0.028*\"okay\" + '\n",
      "  '0.017*\"online_communication\" + 0.017*\"rec\" + 0.013*\"vms_vnews\" + '\n",
      "  '0.010*\"express_access\" + 0.006*\"radio_shack\" + 0.004*\"birthday\" + '\n",
      "  '0.000*\"lebanese\"'),\n",
      " (17,\n",
      "  '0.180*\"card\" + 0.052*\"bus\" + 0.039*\"upgrade\" + 0.038*\"cable\" + '\n",
      "  '0.031*\"transfer\" + 0.030*\"modem\" + 0.029*\"data\" + 0.027*\"clock\" + '\n",
      "  '0.025*\"quick\" + 0.022*\"trace\"'),\n",
      " (18,\n",
      "  '0.058*\"apple\" + 0.055*\"criminal\" + 0.054*\"pro\" + 0.053*\"blank\" + '\n",
      "  '0.039*\"switch\" + 0.037*\"bio\" + 0.026*\"opinions_expresse\" + 0.024*\"ie\" + '\n",
      "  '0.019*\"hang\" + 0.016*\"simms\"'),\n",
      " (19,\n",
      "  '0.113*\"bit\" + 0.046*\"color\" + 0.041*\"video\" + 0.036*\"faq\" + 0.029*\"picture\" '\n",
      "  '+ 0.026*\"internal\" + 0.023*\"period\" + 0.022*\"size\" + 0.022*\"value\" + '\n",
      "  '0.016*\"mode\"')]\n"
     ]
    }
   ],
   "metadata": {}
  },
  {
   "cell_type": "markdown",
   "source": [
    "# 14 Compute Model Perplexity and Coherence Score"
   ],
   "metadata": {}
  },
  {
   "cell_type": "code",
   "execution_count": 19,
   "source": [
    "# Compute Perplexity\n",
    "print('\\nPerplexity: ', lda_model.log_perplexity(corpus))  # a measure of how good the model is. lower the better.\n",
    "\n",
    "# Compute Coherence Score\n",
    "coherence_model_lda = CoherenceModel(model=lda_model, texts=data_lemmatized, dictionary=id2word, coherence='c_v')\n",
    "coherence_lda = coherence_model_lda.get_coherence()\n",
    "print('\\nCoherence Score: ', coherence_lda)"
   ],
   "outputs": [
    {
     "output_type": "stream",
     "name": "stdout",
     "text": [
      "\n",
      "Perplexity:  -14.09234957387489\n",
      "\n",
      "Coherence Score:  0.4633265357877906\n"
     ]
    }
   ],
   "metadata": {}
  },
  {
   "cell_type": "markdown",
   "source": [
    "# 15 Visualize the topics-keywords"
   ],
   "metadata": {}
  },
  {
   "cell_type": "code",
   "execution_count": 22,
   "source": [
    "# Visualize the topics\n",
    "pyLDAvis.enable_notebook()\n",
    "vis = pyLDAvis.gensim_models.prepare(lda_model, corpus, id2word)\n",
    "vis"
   ],
   "outputs": [
    {
     "output_type": "stream",
     "name": "stderr",
     "text": [
      "/home/deniz/anaconda3/envs/NLP/lib/python3.9/site-packages/pyLDAvis/_prepare.py:246: FutureWarning: In a future version of pandas all arguments of DataFrame.drop except for the argument 'labels' will be keyword-only\n",
      "  default_term_info = default_term_info.sort_values(\n"
     ]
    },
    {
     "output_type": "execute_result",
     "data": {
      "text/plain": [
       "PreparedData(topic_coordinates=              x         y  topics  cluster       Freq\n",
       "topic                                                \n",
       "5     -0.328452  0.062996       1        1  39.963553\n",
       "11    -0.239853 -0.159780       2        1  10.749359\n",
       "12    -0.208118  0.022924       3        1  10.111323\n",
       "10    -0.229459 -0.066360       4        1   7.817423\n",
       "2     -0.199951  0.206462       5        1   6.262872\n",
       "3     -0.131223  0.262708       6        1   4.783732\n",
       "13    -0.135818 -0.179398       7        1   4.555593\n",
       "0     -0.117445 -0.230557       8        1   3.832682\n",
       "8      0.017881 -0.040101       9        1   2.153656\n",
       "4      0.011368  0.175040      10        1   1.935912\n",
       "19     0.088583 -0.010872      11        1   1.703412\n",
       "9      0.069776 -0.023167      12        1   1.633068\n",
       "15     0.150853 -0.003343      13        1   0.913946\n",
       "1      0.131558 -0.019608      14        1   0.841118\n",
       "6      0.137510  0.001670      15        1   0.817832\n",
       "14     0.177365 -0.001657      16        1   0.627507\n",
       "17     0.179826 -0.000053      17        1   0.551977\n",
       "18     0.196116 -0.000399      18        1   0.385651\n",
       "7      0.206261  0.000754      19        1   0.284208\n",
       "16     0.223222  0.002740      20        1   0.075175, topic_info=               Term         Freq         Total Category  logprob  loglift\n",
       "18             line  17082.00000  17082.000000  Default  30.0000   30.000\n",
       "210           write  12959.00000  12959.000000  Default  29.0000   29.000\n",
       "144    organization  10478.00000  10478.000000  Default  28.0000   28.000\n",
       "45          article   9867.00000   9867.000000  Default  27.0000   27.000\n",
       "25       nntp_poste   6800.00000   6800.000000  Default  26.0000   26.000\n",
       "...             ...          ...           ...      ...      ...      ...\n",
       "22639    shai_guday      0.01503      1.217017  Topic20 -11.0456    2.799\n",
       "3804         dollar      0.01503      1.217015  Topic20 -11.0456    2.799\n",
       "4421           food      0.01503      1.217037  Topic20 -11.0456    2.799\n",
       "9784      terrorist      0.01503      1.217046  Topic20 -11.0456    2.799\n",
       "7815      scientist      0.01503      1.217001  Topic20 -11.0456    2.799\n",
       "\n",
       "[890 rows x 6 columns], token_table=      Topic      Freq          Term\n",
       "term                               \n",
       "969      12  0.999595             _\n",
       "41       16  0.973737  acceleration\n",
       "85        6  0.053758        access\n",
       "85        8  0.777319        access\n",
       "85       14  0.167087        access\n",
       "...     ...       ...           ...\n",
       "1320     11  0.995475   workstation\n",
       "1536     16  0.968090         worse\n",
       "210       1  0.164432         write\n",
       "210       2  0.835507         write\n",
       "40        3  0.999727          year\n",
       "\n",
       "[1105 rows x 3 columns], R=30, lambda_step=0.01, plot_opts={'xlab': 'PC1', 'ylab': 'PC2'}, topic_order=[6, 12, 13, 11, 3, 4, 14, 1, 9, 5, 20, 10, 16, 2, 7, 15, 18, 19, 8, 17])"
      ],
      "text/html": [
       "\n",
       "<link rel=\"stylesheet\" type=\"text/css\" href=\"https://cdn.jsdelivr.net/gh/bmabey/pyLDAvis@3.3.1/pyLDAvis/js/ldavis.v1.0.0.css\">\n",
       "\n",
       "\n",
       "<div id=\"ldavis_el296791406112963079042835510570\"></div>\n",
       "<script type=\"text/javascript\">\n",
       "\n",
       "var ldavis_el296791406112963079042835510570_data = {\"mdsDat\": {\"x\": [-0.3284520833268486, -0.23985256950505396, -0.20811764992677712, -0.22945884174273384, -0.19995128877033447, -0.13122309798653425, -0.13581769708901348, -0.11744486791771755, 0.017881205921055462, 0.011367697971050807, 0.08858294977865819, 0.06977642236642005, 0.15085295871243526, 0.1315580335469904, 0.13751005492525956, 0.17736468504898475, 0.1798255189628791, 0.19611550034806122, 0.20626126444052276, 0.22322180424269553], \"y\": [0.06299647696998405, -0.1597796863684906, 0.02292443203283364, -0.06636003553746107, 0.20646192121734855, 0.2627077521168339, -0.17939782363610834, -0.23055671330484023, -0.04010080040572957, 0.17503950083630435, -0.010871696002349147, -0.023167311770377796, -0.0033428246696259856, -0.01960783894581517, 0.001669664700669674, -0.0016571907464429409, -5.2980733853054216e-05, -0.00039879468029846465, 0.0007542024449940106, 0.0027397464824244116], \"topics\": [1, 2, 3, 4, 5, 6, 7, 8, 9, 10, 11, 12, 13, 14, 15, 16, 17, 18, 19, 20], \"cluster\": [1, 1, 1, 1, 1, 1, 1, 1, 1, 1, 1, 1, 1, 1, 1, 1, 1, 1, 1, 1], \"Freq\": [39.9635533173559, 10.749358767383352, 10.111323266204478, 7.81742300441423, 6.26287167184158, 4.78373221186927, 4.555593139175725, 3.8326819626894415, 2.1536555281954644, 1.9359120740360698, 1.7034121645959521, 1.6330684572755005, 0.9139459654421157, 0.8411181390352065, 0.8178315720097064, 0.6275074534553254, 0.5519773736378668, 0.38565068425281374, 0.28420795159455786, 0.07517529553544128]}, \"tinfo\": {\"Term\": [\"line\", \"write\", \"organization\", \"article\", \"nntp_poste\", \"host\", \"year\", \"people\", \"_\", \"system\", \"drive\", \"bit\", \"key\", \"program\", \"get\", \"file\", \"window\", \"right\", \"say\", \"believe\", \"use\", \"car\", \"m\", \"state\", \"evidence\", \"reason\", \"make\", \"know\", \"work\", \"thank\", \"think\", \"see\", \"thing\", \"come\", \"even\", \"much\", \"tell\", \"seem\", \"s\", \"never\", \"bad\", \"course\", \"little\", \"put\", \"probably\", \"talk\", \"idea\", \"enough\", \"let\", \"actually\", \"maybe\", \"kind\", \"money\", \"turn\", \"stop\", \"remember\", \"ill\", \"feel\", \"love\", \"always\", \"make\", \"way\", \"take\", \"really\", \"lot\", \"go\", \"give\", \"still\", \"well\", \"time\", \"say\", \"good\", \"know\", \"far\", \"back\", \"people\", \"point\", \"get\", \"also\", \"sure\", \"work\", \"want\", \"many\", \"try\", \"find\", \"right\", \"organization\", \"nntp_poste\", \"host\", \"thank\", \"university\", \"keyword\", \"advance\", \"appreciate\", \"line\", \"computer_science\", \"brain\", \"cool\", \"disclaimer\", \"version_pl\", \"hole\", \"distribution_usa\", \"resource\", \"crash\", \"reserve_university\", \"case_western\", \"usa\", \"nuclear\", \"cub\", \"solid\", \"joke\", \"touch\", \"dump\", \"automatically\", \"hence\", \"thermal\", \"reply\", \"article\", \"interested\", \"write\", \"engineering\", \"wonder\", \"sound\", \"fine\", \"help\", \"post\", \"news\", \"email\", \"info\", \"need\", \"mail\", \"net\", \"get\", \"look\", \"question\", \"know\", \"want\", \"read\", \"m\", \"try\", \"use\", \"find\", \"year\", \"team\", \"game\", \"play\", \"fan\", \"office\", \"hit\", \"goal\", \"division\", \"watch\", \"serious\", \"score\", \"family\", \"total\", \"final\", \"kid\", \"health\", \"series\", \"trial\", \"star\", \"air\", \"corporation\", \"trust\", \"average\", \"nhl\", \"race\", \"medium\", \"vote\", \"third\", \"baseball\", \"record\", \"report\", \"win\", \"next\", \"last\", \"increase\", \"field\", \"week\", \"month\", \"lose\", \"pick\", \"rate\", \"first\", \"age\", \"run\", \"high\", \"second\", \"lead\", \"early\", \"home\", \"information\", \"newsgroup\", \"request\", \"develop\", \"clipper\", \"development\", \"tap\", \"route\", \"activity\", \"operate\", \"site\", \"atheism\", \"communication\", \"weight\", \"obtain\", \"addition\", \"agency\", \"tool\", \"associate\", \"waste\", \"analysis\", \"usenet\", \"link\", \"propose\", \"requirement\", \"ensure\", \"description\", \"proposal\", \"additional\", \"facility\", \"provide\", \"product\", \"technology\", \"list\", \"service\", \"receive\", \"datum\", \"address\", \"system\", \"solution\", \"available\", \"include\", \"research\", \"produce\", \"source\", \"send\", \"message\", \"security\", \"number\", \"general\", \"public\", \"standard\", \"use\", \"group\", \"require\", \"mail\", \"support\", \"also\", \"base\", \"new\", \"issue\", \"post\", \"evidence\", \"faith\", \"religion\", \"player\", \"discussion\", \"patient\", \"belief\", \"bible\", \"church\", \"atheist\", \"christian\", \"conclusion\", \"logic\", \"knowledge\", \"revelation\", \"disease\", \"ignore\", \"proof\", \"treatment\", \"gateway\", \"interpretation\", \"false\", \"assumption\", \"scripture\", \"context\", \"medical\", \"apparently\", \"imply\", \"blind\", \"tradition\", \"book\", \"claim\", \"argument\", \"religious\", \"exist\", \"therefore\", \"sense\", \"believe\", \"science\", \"prove\", \"reason\", \"true\", \"study\", \"statement\", \"word\", \"speak\", \"exactly\", \"question\", \"fact\", \"follow\", \"read\", \"say\", \"many\", \"government\", \"law\", \"gun\", \"country\", \"protect\", \"drug\", \"crime\", \"police\", \"weapon\", \"citizen\", \"firearm\", \"legal\", \"listen\", \"terrorism\", \"freedom\", \"court\", \"tax\", \"property\", \"militia\", \"topic\", \"aim\", \"western\", \"minority\", \"violence\", \"majority\", \"arab\", \"violation\", \"anywhere\", \"gun_control\", \"islamic\", \"debate\", \"nation\", \"political\", \"safety\", \"military\", \"death\", \"state\", \"society\", \"policy\", \"war\", \"right\", \"member\", \"public\", \"act\", \"force\", \"people\", \"person\", \"issue\", \"kill\", \"case\", \"carry\", \"program\", \"file\", \"window\", \"image\", \"entry\", \"application\", \"screen\", \"graphic\", \"display\", \"input\", \"format\", \"scan\", \"object\", \"feature\", \"digital\", \"load\", \"manager\", \"library\", \"directory\", \"compile\", \"map\", \"task\", \"button\", \"widget\", \"routine\", \"utility\", \"specification\", \"compression\", \"strip\", \"usage\", \"version\", \"output\", \"code\", \"error\", \"user\", \"section\", \"set\", \"build\", \"function\", \"do\", \"run\", \"use\", \"type\", \"source\", \"problem\", \"follow\", \"computer\", \"driver\", \"machine\", \"sale\", \"cpu\", \"memory\", \"disk\", \"tape\", \"instal\", \"pc\", \"package\", \"distribution\", \"scsi\", \"mb\", \"ide\", \"manual\", \"port\", \"mac\", \"mouse\", \"interface\", \"ram\", \"battery\", \"drive\", \"background\", \"motherboard\", \"configuration\", \"super\", \"plug\", \"duo\", \"hr\", \"speed\", \"fast\", \"board\", \"slow\", \"software\", \"com\", \"hardware\", \"network\", \"access\", \"model\", \"offer\", \"buy\", \"system\", \"copy\", \"use\", \"work\", \"problem\", \"price\", \"run\", \"cost\", \"wire\", \"private\", \"wing\", \"unit\", \"material\", \"mount\", \"signal\", \"be\", \"dealer\", \"market\", \"insurance\", \"warranty\", \"industry\", \"circuit\", \"cycle\", \"dual\", \"channel\", \"oil\", \"acquire\", \"band\", \"serial\", \"red\", \"floor\", \"cylinder\", \"panel\", \"customer\", \"assembly\", \"bottom\", \"receiver\", \"ground\", \"power\", \"extra\", \"cheap\", \"low\", \"price\", \"supply\", \"sell\", \"clearly\", \"pay\", \"replace\", \"high\", \"buy\", \"build\", \"israeli\", \"soldier\", \"hell\", \"village\", \"controller\", \"turk\", \"turkish\", \"occupy\", \"armenian\", \"girl\", \"cross\", \"inhabitant\", \"invasion\", \"escape\", \"troop\", \"muslim\", \"koresh\", \"genocide\", \"massacre\", \"innocent\", \"slaughter\", \"compound\", \"soviet\", \"cult\", \"occupation\", \"finland\", \"moslem\", \"mid\", \"scope\", \"atf\", \"child\", \"kill\", \"attack\", \"woman\", \"civilian\", \"fire\", \"murder\", \"man\", \"withdraw\", \"war\", \"jewish\", \"community\", \"people\", \"lie\", \"bit\", \"color\", \"video\", \"faq\", \"picture\", \"internal\", \"period\", \"resolution\", \"workstation\", \"rob\", \"bug\", \"greatly_appreciate\", \"meaning\", \"icon\", \"default\", \"connector\", \"finger\", \"regularly\", \"shape\", \"curious\", \"depth\", \"vendor\", \"assign\", \"previously\", \"amp\", \"spec\", \"compute\", \"fee\", \"green\", \"pixel\", \"size\", \"value\", \"mode\", \"release\", \"wide\", \"special\", \"operation\", \"_\", \"car\", \"pin\", \"engine\", \"launch\", \"mission\", \"orbit\", \"printer\", \"satellite\", \"processor\", \"vehicle\", \"moon\", \"flight\", \"saturn\", \"steve\", \"max\", \"shuttle\", \"mph\", \"gear\", \"highway\", \"lunar\", \"solar\", \"environmental\", \"planetary\", \"telescope\", \"bj\", \"jack\", \"turbo\", \"module\", \"responce\", \"space\", \"mile\", \"fuel\", \"earth\", \"m\", \"model\", \"design\", \"monitor\", \"character\", \"normal\", \"eat\", \"font\", \"plane\", \"excuse\", \"mirror\", \"fairly\", \"export\", \"corner\", \"soul\", \"algorithm\", \"insert\", \"guilty\", \"advanced\", \"brave\", \"scale\", \"trivial\", \"tire\", \"positively\", \"ed\", \"brief\", \"buffer\", \"click\", \"alarm\", \"adobe\", \"generic\", \"postscript\", \"distribution_inet\", \"contain\", \"strange\", \"surface\", \"review\", \"text\", \"key\", \"chip\", \"season\", \"master\", \"trade\", \"secure\", \"pen\", \"secret\", \"cd\", \"telnet\", \"session\", \"registration\", \"penguin\", \"implementation\", \"captain\", \"leafs\", \"flyer\", \"nist\", \"lemieux\", \"encryption\", \"conjecture\", \"register\", \"finish\", \"warrant\", \"access\", \"user\", \"contain\", \"ripem\", \"encrypt\", \"law_enforcement\", \"break\", \"god\", \"physical\", \"christianity\", \"notice\", \"direct\", \"recommend\", \"external\", \"son\", \"motto\", \"german\", \"father\", \"technology_pasadena\", \"holy\", \"daughter\", \"sight\", \"origin\", \"human_being\", \"uunet\", \"caltech\", \"suitable\", \"resurrection\", \"schneider\", \"translate\", \"roman\", \"keith_allan\", \"impressive\", \"tight\", \"bury\", \"sister\", \"jon_livesey\", \"human\", \"objective\", \"nature\", \"clearly\", \"universe\", \"bike\", \"ride\", \"motif\", \"doctor\", \"ok\", \"rider\", \"dog\", \"cap\", \"ticket\", \"decent\", \"noise\", \"dark\", \"diet\", \"colorado_boulder\", \"slight\", \"dry\", \"related\", \"sho\", \"testing\", \"winter\", \"nose\", \"tar\", \"going\", \"hair\", \"wash\", \"tricky\", \"annoy\", \"acceleration\", \"worse\", \"incline\", \"advice\", \"card\", \"bus\", \"upgrade\", \"cable\", \"modem\", \"data\", \"clock\", \"quick\", \"trace\", \"floppy\", \"ftp_site\", \"electrical\", \"enable\", \"floppy_disk\", \"operator\", \"admin\", \"adapter\", \"poll\", \"functionality\", \"reload\", \"american_express\", \"si\", \"keen\", \"carrying\", \"transfer\", \"expansion\", \"busmastere\", \"cache\", \"vesa_local\", \"vlbus\", \"hook\", \"slave\", \"apple\", \"criminal\", \"pro\", \"blank\", \"bio\", \"opinions_expresse\", \"ie\", \"hang\", \"simms\", \"trigger\", \"diagnostic\", \"rom\", \"tavare\", \"rifle\", \"macintosh\", \"reset\", \"eric\", \"sk\", \"oracle\", \"cherry\", \"oracle_corporation\", \"evidently\", \"ist\", \"turning\", \"unauthenticated_us\", \"ists_ca\", \"physics_laboratory\", \"bee\", \"parity\", \"eric_bosco\", \"switch\", \"necessarily\", \"server\", \"dept\", \"mit\", \"helmet\", \"please_respond\", \"sy\", \"giant\", \"kit\", \"stroke\", \"hassle\", \"appreciated\", \"automate\", \"verification\", \"contrib\", \"windshield\", \"accessible\", \"client\", \"c\", \"ei\", \"rlk\", \"oreilly\", \"bat\", \"cbd\", \"ucs\", \"cx\", \"netware\", \"animation\", \"qs\", \"xfree\", \"queue\", \"keyboard\", \"dy\", \"sp\", \"ai\", \"spacecraft\", \"ammunition\", \"okay\", \"online_communication\", \"rec\", \"vms_vnews\", \"express_access\", \"radio_shack\", \"birthday\", \"magellan\", \"redundancy\", \"flake\", \"hawk\", \"tax_exempt\", \"ron_baalke\", \"aerobrake\", \"bird\", \"dock\", \"operational\", \"funding_cut\", \"food_stick\", \"zoroastrian\", \"command_loss\", \"part_vegetable\", \"momentum\", \"duo_dock\", \"markspace\", \"antenna\", \"ariane\", \"around_jupiter\", \"dangerous_ordnance\", \"applicant\", \"lebanese\", \"explosive\", \"comet\", \"snip\", \"lebanese_resistance\", \"patrol\", \"syrian\", \"northern\", \"shai_guday\", \"dollar\", \"food\", \"terrorist\", \"scientist\"], \"Freq\": [17082.0, 12959.0, 10478.0, 9867.0, 6800.0, 5750.0, 5222.0, 8272.0, 2783.0, 5008.0, 3351.0, 2404.0, 1955.0, 2962.0, 9322.0, 2870.0, 2870.0, 4132.0, 9092.0, 3299.0, 6239.0, 1993.0, 3616.0, 3066.0, 2790.0, 3237.0, 8459.0, 8800.0, 4819.0, 3212.0, 7839.573524046904, 6268.981373850416, 4792.045716744277, 4733.672520060474, 4252.2896268707855, 3827.487785135052, 3438.25207511211, 3176.4832191948385, 3110.8465413693466, 2591.7141118438763, 2208.3127835463147, 2122.798822796786, 2087.0428906394072, 2023.0237136543344, 2002.8591651925442, 1899.9703028105139, 1749.0809313093998, 1742.5361969372934, 1687.364192272823, 1577.5842213658186, 1499.2323127734635, 1393.2520814794718, 1391.1886428623047, 1303.3242111279349, 1293.351177079213, 1281.8360727107404, 1230.5336420980466, 1228.5310608715886, 1227.59733128885, 1219.7434635062589, 8451.324140299399, 4506.468796705364, 4822.271554129821, 3132.2079518484165, 2056.2262002728016, 7366.569364488414, 4181.149435662504, 2717.5345520192886, 6001.169215816671, 6228.472269625581, 8262.980542367994, 6130.074496141822, 7120.554878152193, 2018.6636663406548, 2718.9366037063924, 6377.144776597319, 3464.78193356995, 6215.466975280012, 4372.373150413983, 2419.0351130129743, 3483.382143969412, 3263.0653320778483, 3081.1973335900234, 3030.646759898179, 2914.895303259139, 2754.8163491759037, 10477.211410425562, 6799.133618436485, 5748.949521655053, 3210.903938016836, 2241.262126515528, 1056.5105734990593, 964.572577153036, 754.5755334682374, 17054.926873375065, 633.1035052227701, 608.2957036549365, 553.302796006462, 551.3110019744372, 541.1365332220206, 361.85826195133797, 348.91153802530977, 325.5970175206884, 310.50440176250055, 257.5557359626412, 257.5539014650206, 225.14163687557166, 215.09950282331167, 209.9654965975101, 204.8259868788466, 181.5178792761641, 179.00598164948374, 142.33269650966187, 140.5067128395039, 125.19718733700729, 120.72276924289844, 3226.7055792656734, 9366.471958338363, 975.1141963010529, 10828.19865898944, 550.3343593437083, 729.816212811883, 935.6723093033938, 430.56176579150747, 1886.3241540501024, 1920.031370126664, 874.1946877579107, 932.0208750649506, 912.4442453789459, 2221.2859840143587, 1439.2767145892567, 778.2422461570907, 2965.5747210297145, 1613.2972216023445, 1308.90959936791, 1679.141700099392, 1230.8671228455305, 950.528604137321, 1038.2296949529762, 959.000847251373, 1012.3725607461286, 801.3521496194084, 5221.281951262936, 2438.455916423743, 2391.5653470330963, 1722.3087488446772, 761.4453383775877, 749.9242236525808, 733.2071061859706, 709.7903751702038, 704.9869855225019, 662.2894413814349, 622.789437389047, 605.0608471207928, 571.6112734340916, 559.5393204735087, 533.9703263635702, 498.7406313402225, 490.81710325371364, 476.1582400209998, 466.6368857834426, 463.50775057576715, 463.0989432979024, 460.9487155383272, 442.1374747527578, 437.58867891523346, 436.5158216020637, 430.31976163111835, 419.63549389889766, 407.5011535082922, 403.2542361383101, 401.44013356318317, 567.4619636319321, 1404.9047490004393, 1479.8711367814242, 1606.8174923579677, 2101.375717585636, 830.0013071077339, 703.1252738163789, 1085.357571323707, 724.9666558544673, 1066.9605063797205, 658.5908549507867, 800.4237067612189, 1911.135883617368, 666.1650134291687, 1468.6736107596555, 1046.0207480702718, 852.2469242952454, 810.0946728404191, 653.8520060581153, 625.9849717007323, 2378.825530591797, 705.9416867935306, 642.33323352619, 580.3522822393677, 574.7272701395017, 526.5019991619279, 502.449753018531, 485.5408731431934, 480.72509651606873, 472.73910731240903, 470.8310959103284, 448.7234870333234, 442.2013465086266, 439.80205592286336, 439.7588620330716, 436.39712765797714, 429.1864391287429, 426.59635652502925, 406.2856955636815, 368.81549789346826, 367.2853988185998, 347.2922608390742, 334.3944376356377, 321.21168071569724, 305.2303519943257, 301.2868456400398, 297.16766740979494, 281.2022798336001, 279.54474281989496, 277.4296561700269, 2023.4532072674415, 708.3625059072576, 1397.7195178609734, 1469.8795859151924, 988.2921623870818, 1174.1124587165345, 1225.3648596600026, 1224.4817339006058, 3668.0889769224827, 837.1317926310242, 1334.1361964133532, 1758.027986001641, 888.9877221380879, 690.3669827052045, 1285.2205529797197, 1335.2826817500022, 1199.6275957018452, 667.2418316028931, 1662.7374303244078, 781.0081061228639, 1060.244790303209, 765.8098776061759, 1974.2940907781494, 1253.916887426852, 879.561693347832, 1099.7925137275736, 959.4837991813414, 1484.50001063475, 873.2651462538746, 1125.387196799259, 757.759485263777, 712.7109492769307, 2789.6760920181237, 1341.3958800777434, 989.3565926214224, 989.232937362341, 875.2148956005057, 872.8661034187007, 869.6964507936327, 822.7257960011489, 732.5943400279821, 731.327092869312, 710.2262583605849, 626.3155681397822, 479.7282512478646, 461.16874425194095, 441.2379574370032, 418.87469920169787, 416.62032935720566, 374.0438942826776, 373.9653673465766, 333.94527819841073, 332.62935822499594, 307.17961502705435, 291.71251266042515, 281.7774301387151, 280.0980901359879, 277.9210596401498, 277.2863763674007, 256.65211756067697, 245.0056301751748, 216.0639779308183, 1671.198049356191, 1919.3360053694503, 941.3249289333461, 579.2135479051005, 1440.454851112136, 445.20077231195853, 1451.6377591701162, 2615.2277543761793, 938.7340881592969, 792.303094316537, 2059.9609755374386, 1143.4971849222227, 688.7663704902345, 565.5522727395762, 910.3445361836932, 709.0288048026374, 479.0974047960976, 990.7732200103301, 793.1148925540518, 751.2673803838245, 709.4824997484865, 817.5743705270811, 689.3399204153351, 2178.59516436101, 2002.9868914357326, 1783.5082013668348, 941.4594265464533, 764.3765590309542, 751.4194857149841, 614.018820514398, 574.2650543645115, 560.6225982358998, 550.2159215597705, 487.22919642039244, 462.65776484659466, 405.2758779540549, 369.50074284316554, 364.3241432546738, 352.3122763627998, 331.3795197008623, 308.3690672996742, 297.8598176541503, 296.60834369449793, 269.5981037071559, 249.30163438761082, 233.9008961419944, 226.73274815303762, 218.136156432334, 206.79838234871514, 203.980319103025, 202.43102068897085, 200.24550471005443, 190.72466773532685, 320.5492655054039, 370.14116101534586, 377.9175039130364, 532.2547387099643, 527.5798116526022, 1073.2199460699196, 2126.8610986739122, 459.0097118346754, 397.6889670953528, 567.8701949207428, 1376.5493452063674, 526.9774361898872, 754.5807427652124, 506.36509794663044, 559.0016941203538, 1394.172023301665, 618.350944521391, 546.0845893736825, 507.36637759399576, 511.6952081015633, 423.83840355912923, 2961.2509241189123, 2869.56147314387, 2869.075379583551, 1338.2621395769324, 1227.7668642472847, 1069.317162092099, 1031.3759223861714, 969.4357800534973, 938.1124086026151, 806.8269584787738, 685.1066643583611, 682.0955848041617, 598.9393510537949, 532.6511592366911, 531.4847792271806, 441.82760228584584, 451.5085669967497, 438.99490056865994, 395.795887067526, 290.02062061005444, 279.2771236335251, 265.35615680929254, 252.9527438855884, 234.64566513278913, 218.01948717328625, 215.9610717891536, 210.4426951772286, 194.50598702896252, 193.55315008942173, 188.39948983729107, 1117.958626666277, 331.8009043498369, 984.1003466941936, 710.4395068045618, 753.5172095549686, 580.1094984523322, 982.163095871233, 782.9370866801347, 509.0671691469405, 971.0438651584465, 996.1488113783689, 971.0373796581885, 550.690152925548, 501.01488897828057, 494.9831079391713, 479.9515257756794, 1770.7155943750743, 1389.3765441327073, 1252.786224584957, 1118.081472628782, 1032.2963764444617, 913.8897086513907, 781.6754623143925, 683.1705221543307, 648.5995616790236, 618.4206856383253, 604.2646617171217, 577.1817660122686, 526.6817845561557, 519.4329936617676, 467.74836053664006, 419.7838771332219, 419.0036206768028, 416.06158065524136, 401.53975841023566, 358.1512872573738, 355.6776649817888, 268.0826967264987, 3336.183399583661, 233.0165287759137, 226.31077776997228, 190.87992959780976, 176.71545282378818, 174.81111229586136, 162.82806414306847, 160.87996109407058, 766.2336655589809, 842.3359964782126, 558.5616965972807, 628.3893272802011, 1138.738277056112, 1042.26403415638, 643.1515862275861, 590.3630284140605, 534.7170485553316, 628.0574298158491, 587.7687181843515, 810.4589020546935, 1339.2590878096767, 657.0554110110075, 894.196618893493, 822.0733007230115, 745.8187290048775, 601.9763089801539, 623.8506372819022, 1172.73956437954, 677.1920900380486, 613.6150772439552, 534.0497824911431, 491.52505893542633, 442.0247408715379, 418.5218231438098, 399.74369040384784, 398.050318256124, 353.15636649283357, 351.8218944451624, 338.00794745993664, 318.84450162327227, 310.387517485684, 270.27301128838354, 267.50824154487213, 248.5173220849924, 247.39490794952928, 230.54527580320467, 208.50732440012584, 200.84295634373348, 196.2385628502116, 189.5380429898326, 184.32687938107586, 181.56809088704367, 172.45440074045925, 159.07629333125493, 158.2251715828843, 157.49048314895546, 156.8202816316806, 508.86163515699906, 1321.7878782924536, 284.3727514209938, 589.3507062474438, 670.6638829384013, 729.1269776903758, 262.8350762479896, 553.1337882874556, 285.47769930272557, 468.75057194784415, 324.1583391595387, 501.8752844522851, 438.33300311525153, 266.50180836044484, 735.2870692658056, 678.7769924794218, 649.2526208507509, 601.1631691367347, 552.1935945720847, 419.994940588353, 399.89664854529434, 374.84296665959386, 354.2137319225299, 253.25986835432013, 224.92935536041037, 203.92491630029258, 189.76711464267828, 189.07241397782485, 184.57286497043748, 179.4639957990686, 167.8106700083457, 151.90361288988564, 150.73121515625647, 149.81526389594342, 143.99077532872298, 131.74424764028979, 119.78125234144349, 113.55274536759677, 105.70203146760562, 99.61182305873784, 97.50976167849339, 94.38609928070531, 92.47127296762629, 87.82052061655298, 1281.9717634694214, 959.5317992896835, 561.4578815535841, 459.9347167543984, 226.8937507074987, 462.07895445297277, 359.14677983757224, 473.49421107887525, 184.5245666476794, 227.52194516926525, 198.61930714159902, 186.26512479596116, 224.98178773043912, 170.66264304540843, 2403.8465366924756, 987.1200473386505, 869.5455276211452, 777.6278154729532, 611.2307100016053, 548.6778851360422, 496.7944261544297, 300.2406390778111, 276.11208161398565, 254.03603933722866, 231.3558250356511, 230.8838175047615, 228.5645085385471, 217.39451174105375, 212.28963083161503, 204.01840748026925, 176.67939973696224, 170.88799494552805, 169.01175208996506, 165.63892374597424, 163.2454325130505, 163.01297685441375, 155.5330807080069, 154.0670069503933, 153.61166657669446, 152.38015547671847, 151.4041080669216, 148.94584649207064, 145.00354203605164, 142.3918770197941, 473.6982982010231, 464.71425323486926, 331.2070244972311, 266.15832017371207, 192.68211678050088, 193.80892394427872, 182.66922022675993, 2781.975317464805, 1992.6818186686232, 737.2900669270963, 534.8202179517863, 485.51286141172454, 406.7499509921192, 387.40920551486437, 377.91781141242205, 351.36966943295084, 348.62061703742467, 337.7914567232926, 322.95082719797057, 273.508055177848, 240.39496843825003, 202.4703825572747, 196.08824678958013, 187.16176353584618, 170.64957416686926, 154.48725258654642, 152.7679657417921, 150.20102677649405, 143.0880075842975, 133.38141796981088, 113.82257086445368, 111.66047768668045, 104.37797952292172, 101.86560884177145, 100.93960592664989, 100.91983480920506, 92.12998665145138, 1493.9945898685814, 263.70285771062083, 164.78097292727463, 320.42568866266316, 373.6992742859013, 130.6950138138991, 129.056374071821, 613.3492853230323, 539.7646432006512, 456.99887809972944, 441.9267297120639, 285.07538930701645, 280.1624687300005, 270.15999450473055, 244.8737364211002, 236.28155387607657, 188.50389718524704, 175.56730043293442, 174.9563901813549, 171.87206235451046, 167.75522773345196, 149.69185662170182, 143.84425893061115, 142.98192224173914, 142.75628367826948, 133.05034867204162, 115.78856663572476, 101.41672219624049, 97.44150758200306, 97.12504621726161, 90.73391949328976, 86.10693716485277, 82.7264913848951, 81.01741551147941, 79.83092268906398, 77.05940881056421, 76.7439659495242, 665.4871190323627, 164.17761350134393, 207.0142581099262, 300.41249796649936, 85.91134179433551, 1954.2268278978631, 1128.695337186307, 522.6604097070712, 476.8536261778328, 423.95337518565304, 340.73998246243167, 302.79888096427885, 293.8134112514296, 253.9707475741736, 240.10500271296056, 210.71638661911166, 156.27966655489135, 135.02635390382818, 129.0645209753597, 128.72639982458944, 121.91200573619744, 78.2246751952737, 71.21439580203983, 21.25496159162252, 528.5559218536373, 4.111046217757672, 101.81411947624936, 57.54996891590441, 35.558757818308116, 115.06379855121617, 66.07425547361876, 43.01172622233774, 0.04935313830496853, 0.04932812124500334, 0.049319576145785346, 24.697522521743377, 841.7880738441601, 829.0773495574352, 401.3440625342711, 391.7192882713886, 332.43186677300184, 306.0819610436901, 293.9391447048216, 211.2927344407928, 198.7345134982695, 187.2534166137342, 186.8061943536609, 164.07955049332506, 156.87239323189596, 146.3769374856042, 142.22242382303224, 136.68425247194966, 120.75887602747127, 107.74381308952081, 98.5559733141804, 83.84776060683976, 81.705184054691, 81.51721747976028, 79.92812404413111, 73.10144258536945, 71.33161646310148, 69.27566524607896, 66.67038228642468, 62.17695427700492, 51.33315054458228, 46.24778910739212, 525.4287234756428, 229.2804561724198, 172.52254790269302, 120.62457192465853, 93.94064760667017, 720.9008747471131, 453.28040805943084, 351.0183928899828, 306.27795395101754, 255.70891665883096, 241.78799295687887, 237.55890033374516, 232.39790622714554, 206.65992165088966, 183.58134106604606, 167.2671705169387, 130.47782112285176, 103.92907068647773, 83.58652374294883, 79.89327483893152, 75.79105865572689, 74.22028629842639, 72.1571437271667, 71.31690492477843, 64.21234418412936, 61.72736143119516, 60.44284639865644, 58.64435620404225, 54.55777715579858, 52.950300916975344, 46.77726089134546, 40.388566797939795, 38.89180264623537, 37.059519251974805, 30.794648128454316, 62.927616799956894, 1243.73680724307, 358.07264000179805, 270.53755921826536, 261.48371813735355, 205.98356075152418, 197.59934923790703, 185.55082208669495, 174.84183747844213, 151.96790928990427, 149.09295037372635, 133.3567521587924, 128.63824756022285, 103.46404177775554, 58.01133589472706, 54.65509159641124, 48.56871972063169, 42.05761209417633, 34.82230912755418, 32.844798240997775, 26.653652223162496, 20.003410410339704, 14.312911719192149, 9.26490785418745, 2.291125395651679, 214.04658040655153, 106.99570941599622, 0.051516355799702665, 0.05151345290191434, 0.05151247478575815, 0.05151052484358181, 0.051511433768241424, 0.05151267607011183, 279.814122973313, 265.62985557174136, 260.24391366995314, 256.47502339805567, 179.504773481097, 126.1193796334856, 115.55276843055776, 93.02276169676573, 79.28262006706242, 66.83285078838196, 55.250830094509894, 55.18678309901663, 54.16277820606339, 51.509917631141164, 50.433665294562516, 38.68188766111788, 37.208863017403736, 36.276750172263505, 31.135315956158145, 28.14042138422424, 23.633852110903774, 22.520869056420686, 20.71619690147329, 19.633351756547423, 14.20876767245516, 10.227953488825715, 10.227953488825715, 8.058385142596364, 4.765854525153578, 4.575595751705337, 190.7919853866917, 8.03325259214098, 359.1250901764792, 296.3397005187477, 181.75154225853882, 157.6651179800618, 105.79787736832651, 102.22365397524548, 85.34171141443372, 71.36605692445241, 43.307274696958245, 28.00819292557951, 26.73406318438861, 18.306181977055825, 14.19360735728679, 14.048392779232852, 12.343192704125338, 5.861237335839852, 0.03907383223806412, 0.03907325574380052, 0.0390731618205778, 0.03907299340652327, 0.039069239716346266, 0.03906902596004628, 0.03906829400665542, 0.039069440517718976, 0.039069145793123546, 0.03906807701162362, 0.039068653505887216, 0.039069032437509914, 0.03906786325532364, 0.039067678647610016, 0.03906923000015081, 0.03907002996690984, 0.03906981621060986, 0.03906848509183268, 35.797679474729684, 33.50089277979562, 26.35252683988177, 16.160968355888873, 15.577064246288089, 11.934344989557454, 9.250280202104909, 5.396443952953871, 3.5047777860906315, 0.015030736125470316, 0.015030316356832942, 0.015030309503467435, 0.0150306179049153, 0.01503028894337091, 0.015030292370053664, 0.015030271809957139, 0.01503041059060868, 0.015030282090005401, 0.015030270096615762, 0.015030208416326189, 0.015030244396495107, 0.01503036947041563, 0.01503021355635032, 0.015030235829788222, 0.015030204989643435, 0.015030181002864157, 0.015030177576181402, 0.015030342056953598, 0.015030261529908877, 0.01503021355635032, 0.015030485977629269, 0.015030367757074253, 0.015031111347231885, 0.015030371183757007, 0.015030330063563958, 0.015030420870656942, 0.015030436290729334, 0.015030420870656942, 0.015030424297339695, 0.015030434577387957, 0.015030420870656942, 0.015030390030512155, 0.015030422583998318, 0.015030434577387957, 0.015030326636881204], \"Total\": [17082.0, 12959.0, 10478.0, 9867.0, 6800.0, 5750.0, 5222.0, 8272.0, 2783.0, 5008.0, 3351.0, 2404.0, 1955.0, 2962.0, 9322.0, 2870.0, 2870.0, 4132.0, 9092.0, 3299.0, 6239.0, 1993.0, 3616.0, 3066.0, 2790.0, 3237.0, 8459.0, 8800.0, 4819.0, 3212.0, 7840.717138980623, 6270.124988784135, 4793.189331677996, 4734.81669583479, 4253.433241804504, 3828.6314000687703, 3439.3956900458284, 3177.6268341285568, 3111.990156303065, 2592.8577267775945, 2209.4563999635548, 2123.942437734965, 2088.1865055731255, 2024.1673285927045, 2004.002780126262, 1901.1139177442317, 1750.2245462431176, 1743.6798118710112, 1688.5078072065407, 1578.7278362995364, 1500.3759277071813, 1394.39569641765, 1392.3322577960225, 1304.4678260616527, 1294.4947920184459, 1282.9796876444582, 1231.6772570317644, 1229.6746758053064, 1228.7409462225678, 1220.8870784399767, 8459.283063248895, 4525.76015239219, 4846.813362477874, 3139.2136174928105, 2060.2671543621746, 7627.49335290675, 4293.108339503488, 2765.2285439755683, 6324.7587081597085, 6709.265195179761, 9092.057016903433, 6676.240245101169, 8800.770237574974, 2068.0008738843644, 2945.772306843567, 8272.129994604538, 4021.1518429131866, 9322.717855358767, 6128.70182799893, 2634.7598894463626, 4819.609994651404, 4495.006114246771, 4070.6363895407053, 4121.629240344368, 4092.748332970718, 4132.437354672335, 10478.358549462624, 6800.280636398451, 5750.096539617019, 3212.0509559788006, 2242.4091444774926, 1057.6575914610237, 965.7195951241205, 755.7225514302014, 17082.649486417602, 634.2505231847341, 609.4427216448335, 554.4498139912216, 552.4580199411937, 542.2835511894441, 363.0052799252507, 350.05855598727373, 326.7440354926807, 311.6514198083093, 258.7027539246052, 258.70091942698457, 226.2886548375359, 216.2465208322374, 211.1125145885245, 205.97300484081083, 182.66489725045778, 180.15299961856374, 143.47971447811534, 141.65373084216773, 126.34420534030657, 121.86978730870428, 3295.0169302735926, 9867.283846385326, 1035.1112284680394, 12959.797698028884, 597.6361038550609, 821.3212295537674, 1095.5256642991742, 481.5214394841121, 2833.3945561752653, 3033.863282641334, 1236.234543223644, 1356.5242498273462, 1352.4735698572229, 4667.0893524759085, 2564.629625507303, 1101.7383933456704, 9322.717855358767, 4115.956579690448, 3435.4387042676613, 8800.770237574974, 4495.006114246771, 2595.953109947635, 3616.072159472811, 4121.629240344368, 6239.087081565316, 4092.748332970718, 5222.423764741528, 2439.597729902335, 2392.707160511688, 1723.4505623232687, 762.5871518616384, 751.0660371464841, 734.3489196645618, 710.9321886534548, 706.1287990010931, 663.4312548600261, 623.9312508860288, 606.202660599384, 572.753086923043, 560.6811339520999, 535.1121398421614, 499.88244484271956, 491.9589167391191, 477.30005350984317, 467.77869926203385, 464.6495640543584, 464.24075677649364, 462.0905290245744, 443.2792882529842, 438.7304924039367, 437.6576350806549, 431.46157511436206, 420.7773073774889, 408.64296699369766, 404.39604961690134, 402.5819470417744, 570.9670615127654, 1496.175943907575, 1611.1431956988638, 1762.596029056376, 2355.6695600506705, 902.5202778143428, 752.8042055850339, 1289.7920582239867, 814.8058199071388, 1385.1460109426862, 741.577948224402, 1026.070899802263, 4004.594751696501, 802.4448991705449, 3250.9720227495145, 2175.500835109467, 1422.654794117719, 1276.2591167204803, 880.3842645305585, 1194.507673554643, 2379.966499404951, 707.0825232233096, 643.474069424933, 581.4931181334581, 575.8681060383846, 527.6428350653232, 503.59058891741404, 486.6817090961667, 481.8659324169734, 473.87994321561996, 471.97193180441883, 449.8643229409949, 443.34218240271707, 440.94289184903914, 440.89969792716204, 437.5379635520676, 430.32727502283336, 427.7371924363159, 407.42653147615067, 369.95633381360534, 368.42623471950446, 348.43309673316463, 335.5352735351877, 322.3525166097877, 306.37118788841616, 302.42768154316525, 298.3085033038854, 282.34311572769053, 280.6855787139854, 278.57049206411733, 2078.3581220672245, 722.0189734029941, 1500.6123854404402, 1705.5505398298453, 1104.3408570811243, 1339.0605041617212, 1420.6293805306886, 1438.3413869405995, 5008.424643902865, 940.4754769376641, 1649.2171877556311, 2480.6459384033383, 1139.415262977468, 818.9711922300612, 1949.4028610003081, 2169.1835990095856, 1881.6269265182013, 809.1166750382647, 3191.3981153911327, 1050.3594153408433, 1815.8944143236483, 1080.5049834295814, 6239.087081565316, 2889.9505295873737, 1481.9598719788346, 2564.629625507303, 1992.425593197976, 6128.70182799893, 1697.8580095431914, 4076.0218755548585, 2013.2656761288958, 3033.863282641334, 2790.831872413073, 1342.551660472693, 990.5123730117118, 990.388717759832, 876.3706759963629, 874.0218838421789, 870.8522311839222, 823.8815763914383, 733.7501204182715, 732.4828732596014, 711.3820387508744, 627.4713485300716, 480.8913576141229, 462.3245246422305, 442.39373782729274, 420.03047959918894, 417.7761097614252, 375.19967467775973, 375.12114773686613, 335.10105862413366, 333.78513861528546, 308.3353954173439, 292.86829305071467, 282.9332105290046, 281.2538705262774, 279.0768400304393, 278.4421567623427, 257.8078979509665, 246.1614105736998, 217.21975832110806, 1689.4162687685762, 1949.5753141337295, 949.5111225189967, 595.189648101574, 1616.214426893262, 462.2387157296545, 1692.528860174065, 3299.942289563431, 1062.290680197676, 928.0741883259979, 3237.709388151249, 1579.9771923015464, 834.2993919715911, 651.9029704456502, 1311.0981657131952, 956.2936031788024, 528.5101422894138, 3435.4387042676613, 2284.843835725526, 2345.4526534967044, 2595.953109947635, 9092.057016903433, 4070.6363895407053, 2179.7401832896444, 2004.131910364367, 1784.6532202954693, 942.6044454750875, 765.5215779742351, 752.5645046436183, 615.1638394430322, 575.4100732931456, 561.7676171645339, 551.3609404884047, 488.37421534902666, 463.8027837752289, 406.4208968942655, 370.64576182691707, 365.469162183308, 353.45729529143404, 332.52453862949653, 309.51408622830843, 299.0048365827845, 297.7533626709354, 270.7431226468206, 250.44665332809927, 235.04591507062884, 227.87776709197982, 219.28117536542902, 207.9434012828648, 205.12533803165945, 203.5760396442311, 201.39052363868888, 191.8696866739371, 328.9475674058161, 383.82971699389645, 392.60866094300144, 579.1851791998774, 577.070619004266, 1268.7258869614964, 3066.267117778025, 542.8415432312411, 476.7681627417177, 796.4673239160829, 4132.437354672335, 863.7813899113225, 1815.8944143236483, 834.3135132043336, 1042.7303770926642, 8272.129994604538, 1694.0351716142184, 2013.2656761288958, 1467.9733607097542, 3111.7059329554245, 861.5451830093965, 2962.384807332667, 2870.695356357625, 2870.2092627973057, 1339.39602279534, 1228.90074746104, 1070.4510453058542, 1032.5098056097809, 970.5696632672523, 939.2462918163701, 807.9608416925288, 686.240547572116, 683.2294680590708, 600.0732342675499, 533.7850424504461, 532.6186624587035, 442.96148549960077, 452.66952480101986, 440.12878378241487, 396.9297702812809, 291.15450382380936, 280.41100684728, 266.4900402134895, 254.08662710248862, 235.7795483465443, 219.1533703870414, 217.09495500290876, 211.57657840680352, 195.63987024817715, 194.68703332262214, 189.53337309387325, 1235.468067326413, 348.67743129053616, 1256.181893853985, 874.8228125623663, 1006.0895677517024, 874.6144730151844, 2182.3455548317797, 1590.380180783258, 826.4516720887904, 2933.713882701712, 3250.9720227495145, 6239.087081565316, 1553.8899687593657, 1949.4028610003081, 4136.8289082926785, 2345.4526534967044, 1771.8683112239792, 1390.5292609816122, 1253.9389414338618, 1119.2341894776869, 1033.4490933010227, 915.0424255002955, 782.8281791632972, 684.3232390032355, 649.7522785279284, 619.57340248723, 605.4173785660265, 578.3344828715335, 527.8345014050605, 520.5857105106724, 468.9010773855448, 420.9365939821266, 420.15633752570756, 417.2142975041461, 402.6924752591404, 359.3040041062785, 356.8303818306935, 269.2354135754034, 3351.510180734399, 234.16924568128547, 227.4634946188772, 192.0326464467147, 177.86816970793325, 175.9638291733298, 163.9807809919734, 162.03267803484553, 846.5198019400445, 939.9758572455357, 617.3664234708589, 716.2222221043965, 1476.3777503995393, 1396.490086793915, 789.3322113117752, 762.9758711814638, 688.2634010891319, 893.3275444648924, 826.4395089351415, 1645.4641578934702, 5008.424643902865, 1106.044797179663, 6239.087081565316, 4819.609994651404, 4136.8289082926785, 1332.18949805502, 3250.9720227495145, 1173.8900324874164, 678.3425581503195, 614.7655453690057, 535.2002506110132, 492.6755270433024, 443.1752089940948, 419.67229126480134, 400.8941585117239, 399.2007863695153, 354.30683460070964, 352.97236255303847, 339.1584155678127, 319.99496974372363, 311.5379856093799, 271.4234793962596, 268.65870966551756, 249.66779023114577, 248.54537606219807, 231.69574391108094, 209.65779252758566, 201.99342445160974, 197.3890309748291, 190.68851109770887, 185.47734750158313, 182.7185590244842, 173.6048688483355, 160.22676147795408, 159.37563971857168, 158.64095128588187, 157.97074973955685, 527.8745665548782, 1752.6725226596234, 320.64392340980146, 782.3414450877767, 1134.8631777199505, 1332.18949805502, 331.26933698118376, 1248.502663686345, 407.20341431294986, 1287.5938559146352, 599.8618273702406, 2175.500835109467, 1645.4641578934702, 1590.380180783258, 736.434207735537, 679.9241309491532, 650.3997593392602, 602.3103076064662, 553.3407330580768, 421.14207905808445, 401.04378701502577, 375.9901051293253, 355.36087039226135, 254.4070068240517, 226.07649388867557, 205.07205477002415, 190.91425311240985, 190.21955244755642, 185.72000344016905, 180.61113426880019, 168.95780847807728, 153.0507513596172, 151.87835362598804, 150.962402365675, 145.13791382616483, 132.89138611002136, 120.92839082768155, 114.69988383732834, 106.8491699441514, 100.75896155781413, 98.65690017448956, 95.53323780670834, 93.61841144417207, 88.96765908628456, 1611.9143941732557, 1467.9733607097542, 963.2444109809933, 747.2675556915946, 300.0510630564072, 778.7400727461463, 614.7849075614132, 2224.155600801851, 374.39915848950443, 796.4673239160829, 537.6763789902589, 621.615124846932, 8272.129994604538, 613.5481967781067, 2404.9890706650035, 988.2625813111779, 870.6880615936726, 778.7703494454806, 612.3732440050499, 549.820419114029, 497.936960139674, 301.38317305499106, 277.2546156027737, 255.17857332377207, 232.49835900817874, 232.02635147728915, 229.70704253412518, 218.53704572472307, 213.43216481872258, 205.16094146304889, 177.8219337142824, 172.03052894002903, 170.1542860624927, 166.78145772401712, 164.38796648557815, 164.15551085776028, 156.67561475263082, 155.20954095192653, 154.7542005492221, 153.52268945470558, 152.54664203944924, 150.08838049067108, 146.14607600857929, 143.53441099232174, 727.9809750060978, 896.6685437263891, 754.7396603638539, 630.87427158559, 340.11009044603003, 526.2978891134961, 395.8738998102479, 2783.1284453738226, 1993.8349465776405, 738.4431948603948, 535.9733458652642, 486.66598932625715, 407.90307890559717, 388.56233342388174, 379.07093933338814, 352.5227973419682, 349.7737449772835, 338.94458463230995, 324.10395510698794, 274.6611830868654, 241.54809634726755, 203.62351050510813, 197.24137469859764, 188.3148914448637, 171.80270207588677, 155.6403805050163, 153.9210937103188, 151.35415468551156, 144.241135493315, 134.53454594241813, 114.97569877347118, 112.81360560542592, 105.53110743193922, 103.01873675078895, 102.09273383566739, 102.07296272864322, 93.28311577827604, 1626.9224893904684, 369.7221906157151, 209.58133100893937, 935.8970750984281, 3616.072159472811, 893.3275444648924, 980.2279182901822, 614.504855631583, 540.9202135156912, 458.15444841373966, 443.08230002061464, 286.2309596155672, 281.31803903855126, 271.3155648448431, 246.02930673868596, 237.43712418462744, 189.65946750415821, 176.72287074971317, 176.11196049436634, 173.02763266785385, 168.9107980825804, 150.8474269715877, 144.99982925863537, 144.13749255029, 143.91185398682035, 134.20591904460406, 116.94413694427563, 102.5722926349971, 98.59707791240251, 98.28061656176496, 91.88948981044517, 87.26250747340363, 83.88206169344596, 82.17298582003028, 80.98649301513136, 78.21497911911507, 77.89953628094425, 709.6051136593411, 199.27896084398083, 271.46248096596105, 539.9506526851895, 548.0623933025234, 1955.3944995497263, 1129.8630088381701, 523.8280813661358, 478.02129785089227, 425.12104683751625, 341.90765411875543, 303.96655263492, 294.9810829032928, 255.13841923068932, 241.2726744026773, 211.88405831710935, 157.44733821356883, 136.19402555569144, 130.23219262722296, 129.8940714764527, 123.07967738806073, 79.39234684713699, 72.38206745947089, 22.42263324348578, 599.4471796343473, 5.278717902431392, 168.82100246697755, 168.98344911725445, 161.93024656781367, 688.2634010891319, 1006.0895677517024, 709.6051136593411, 1.2171699916360632, 1.2170704825724974, 1.2170509317579727, 750.0774738402446, 842.9557223674936, 830.2449981126505, 402.51171105760477, 392.8869367902617, 333.59951530223526, 307.2496095806288, 295.1067932480361, 212.46038296518117, 199.90216202160323, 188.42106513260734, 187.97384287804928, 165.2471990121982, 158.0400417507691, 147.5445860091298, 143.3900723518812, 137.85190100079862, 121.92652455080501, 108.91146163516811, 99.72362183305356, 85.01540914937668, 82.87283257356415, 82.68486599863343, 81.09577258125421, 74.2690911042426, 72.49926498197463, 70.44331379238493, 67.8380308176063, 63.34460280604576, 52.500799068247964, 47.415437626265266, 619.335412582024, 263.14550640109024, 471.7379717439903, 407.20341431294986, 324.9678291864984, 722.0609513177824, 454.4404846301002, 352.17846946065214, 307.43803052168687, 256.868993240642, 242.94806952754826, 238.71897690441455, 233.5579828329667, 207.81999822155905, 184.74141764870956, 168.4272470876081, 131.63789769798174, 105.08914725714713, 84.7466003182707, 81.05335141872136, 76.95113523104875, 75.38036300252153, 73.31722034375403, 72.47698149544783, 65.37242075479877, 62.88743800186456, 61.60292296932584, 59.80443282364692, 55.71785372646798, 54.11037748764474, 47.93733752083417, 41.54864337509843, 40.051879216904766, 38.21959587513564, 31.954724722130557, 530.1712800585148, 1244.9022768291136, 359.23810958784173, 271.70302880430904, 262.64918772339723, 207.1490303375679, 198.7648188286032, 186.71629168784355, 176.00730706448584, 153.13337889739788, 150.25841996962427, 134.52222176633813, 129.80371714626656, 104.62951138493526, 59.17680548556332, 55.82056118245496, 49.734189311136, 43.22308168022005, 35.98777872791524, 34.01026783353073, 27.819121859063223, 21.168880064042153, 15.478381305235859, 10.430377508415608, 3.456595722022409, 341.6559457628044, 179.5230935610335, 1.2170130061506743, 1.2170255818667133, 1.2170036785839393, 1.2169948945000044, 1.2170178627812103, 1.2171602066480938, 280.9863819664993, 266.8021145717419, 261.4161726794541, 257.6472825139256, 180.6770324941697, 127.29163862667195, 116.72502742374412, 94.19502068995209, 80.45487906024879, 68.00510978838254, 56.42308914511879, 56.359042092203, 55.33503721163176, 52.68217663670953, 51.605924314910794, 39.854146654304245, 38.381122013828836, 37.44900926510452, 32.30757494934451, 29.3126803774106, 24.806111104090135, 23.693128103667735, 21.88845589465965, 20.80561087775224, 15.381026665641519, 11.400212489213638, 11.400212489213638, 9.230644156479547, 5.938113518339938, 5.747854812301618, 352.0323364350325, 445.89183924093805, 360.3029987096889, 297.5176090519574, 182.9294507917485, 158.8430265132715, 106.97578592114091, 103.40156255497983, 86.51961995949743, 72.54396546312158, 44.485183238403216, 29.186101458789196, 27.911971784482432, 19.484090525418377, 15.371515900804257, 15.226301312442539, 13.521101281944333, 7.039146085303713, 1.2170452489897237, 1.2170584149931427, 1.217124832475416, 1.2171205312537805, 1.2170105955384976, 1.2170053426776768, 1.2169844645072323, 1.2170221911747068, 1.2170162716134927, 1.2169887980741427, 1.2170105738661279, 1.2170223842832146, 1.2169887966901323, 1.216983611072089, 1.2170372307492683, 1.2170671439164646, 1.217060982989635, 1.2170203084316447, 36.99962308141114, 34.702836472942, 27.55447044191076, 17.362911957917863, 16.77900786573889, 13.136288591586444, 10.452223804133899, 6.598387554982861, 4.706721388119622, 1.2169867145772542, 1.2169762682360232, 1.2169758823661547, 1.217004027411663, 1.2169786191015703, 1.2169791440158657, 1.2169778349077667, 1.216990176144313, 1.2169811739088472, 1.2169802586241485, 1.2169760089860748, 1.2169791543822401, 1.216989571086169, 1.216977345714628, 1.2169798864019252, 1.2169778082937013, 1.2169766419903374, 1.2169765574131544, 1.2169901272695143, 1.2169839665109543, 1.216980440924125, 1.2170036035297567, 1.2169967792208596, 1.2170873297511986, 1.2169998772678658, 1.2169963799943242, 1.2170123717301902, 1.217015988684128, 1.2170146678723641, 1.2170163984750744, 1.2170199603211544, 1.2170172945005069, 1.2170150484869193, 1.2170371169663396, 1.2170456738132267, 1.2170011483832033], \"Category\": [\"Default\", \"Default\", \"Default\", \"Default\", \"Default\", \"Default\", \"Default\", \"Default\", \"Default\", \"Default\", \"Default\", \"Default\", \"Default\", \"Default\", \"Default\", \"Default\", \"Default\", \"Default\", \"Default\", \"Default\", \"Default\", \"Default\", \"Default\", \"Default\", \"Default\", \"Default\", \"Default\", \"Default\", \"Default\", \"Default\", \"Topic1\", \"Topic1\", \"Topic1\", \"Topic1\", \"Topic1\", \"Topic1\", \"Topic1\", \"Topic1\", \"Topic1\", \"Topic1\", \"Topic1\", \"Topic1\", \"Topic1\", \"Topic1\", \"Topic1\", \"Topic1\", \"Topic1\", \"Topic1\", \"Topic1\", \"Topic1\", \"Topic1\", \"Topic1\", \"Topic1\", \"Topic1\", \"Topic1\", \"Topic1\", \"Topic1\", \"Topic1\", \"Topic1\", \"Topic1\", \"Topic1\", \"Topic1\", \"Topic1\", \"Topic1\", \"Topic1\", \"Topic1\", \"Topic1\", \"Topic1\", \"Topic1\", \"Topic1\", \"Topic1\", \"Topic1\", \"Topic1\", \"Topic1\", \"Topic1\", \"Topic1\", \"Topic1\", \"Topic1\", \"Topic1\", \"Topic1\", \"Topic1\", \"Topic1\", \"Topic1\", \"Topic1\", \"Topic1\", \"Topic1\", \"Topic2\", \"Topic2\", \"Topic2\", \"Topic2\", \"Topic2\", \"Topic2\", \"Topic2\", \"Topic2\", \"Topic2\", \"Topic2\", \"Topic2\", \"Topic2\", \"Topic2\", \"Topic2\", \"Topic2\", \"Topic2\", \"Topic2\", \"Topic2\", \"Topic2\", \"Topic2\", \"Topic2\", \"Topic2\", \"Topic2\", \"Topic2\", \"Topic2\", \"Topic2\", \"Topic2\", \"Topic2\", \"Topic2\", \"Topic2\", \"Topic2\", \"Topic2\", \"Topic2\", \"Topic2\", \"Topic2\", \"Topic2\", \"Topic2\", \"Topic2\", \"Topic2\", \"Topic2\", \"Topic2\", \"Topic2\", \"Topic2\", \"Topic2\", \"Topic2\", \"Topic2\", \"Topic2\", \"Topic2\", \"Topic2\", \"Topic2\", \"Topic2\", \"Topic2\", \"Topic2\", \"Topic2\", \"Topic2\", \"Topic2\", \"Topic3\", \"Topic3\", \"Topic3\", \"Topic3\", \"Topic3\", \"Topic3\", \"Topic3\", \"Topic3\", \"Topic3\", \"Topic3\", \"Topic3\", \"Topic3\", \"Topic3\", \"Topic3\", \"Topic3\", \"Topic3\", \"Topic3\", \"Topic3\", \"Topic3\", \"Topic3\", \"Topic3\", \"Topic3\", \"Topic3\", \"Topic3\", \"Topic3\", \"Topic3\", \"Topic3\", \"Topic3\", \"Topic3\", \"Topic3\", \"Topic3\", \"Topic3\", \"Topic3\", \"Topic3\", \"Topic3\", \"Topic3\", \"Topic3\", \"Topic3\", \"Topic3\", \"Topic3\", \"Topic3\", \"Topic3\", \"Topic3\", \"Topic3\", \"Topic3\", \"Topic3\", \"Topic3\", \"Topic3\", \"Topic3\", \"Topic3\", \"Topic4\", \"Topic4\", \"Topic4\", \"Topic4\", \"Topic4\", \"Topic4\", \"Topic4\", \"Topic4\", \"Topic4\", \"Topic4\", \"Topic4\", \"Topic4\", \"Topic4\", \"Topic4\", \"Topic4\", \"Topic4\", \"Topic4\", \"Topic4\", \"Topic4\", \"Topic4\", \"Topic4\", \"Topic4\", \"Topic4\", \"Topic4\", \"Topic4\", \"Topic4\", \"Topic4\", \"Topic4\", \"Topic4\", \"Topic4\", \"Topic4\", \"Topic4\", \"Topic4\", \"Topic4\", \"Topic4\", \"Topic4\", \"Topic4\", \"Topic4\", \"Topic4\", \"Topic4\", \"Topic4\", \"Topic4\", \"Topic4\", \"Topic4\", \"Topic4\", \"Topic4\", \"Topic4\", \"Topic4\", \"Topic4\", \"Topic4\", \"Topic4\", \"Topic4\", \"Topic4\", \"Topic4\", \"Topic4\", \"Topic4\", \"Topic4\", \"Topic4\", \"Topic4\", \"Topic4\", \"Topic4\", \"Topic4\", \"Topic5\", \"Topic5\", \"Topic5\", \"Topic5\", \"Topic5\", \"Topic5\", \"Topic5\", \"Topic5\", \"Topic5\", \"Topic5\", \"Topic5\", \"Topic5\", \"Topic5\", \"Topic5\", \"Topic5\", \"Topic5\", \"Topic5\", \"Topic5\", \"Topic5\", \"Topic5\", \"Topic5\", \"Topic5\", \"Topic5\", \"Topic5\", \"Topic5\", \"Topic5\", \"Topic5\", \"Topic5\", \"Topic5\", \"Topic5\", \"Topic5\", \"Topic5\", \"Topic5\", \"Topic5\", \"Topic5\", \"Topic5\", \"Topic5\", \"Topic5\", \"Topic5\", \"Topic5\", \"Topic5\", \"Topic5\", \"Topic5\", \"Topic5\", \"Topic5\", \"Topic5\", \"Topic5\", \"Topic5\", \"Topic5\", \"Topic5\", \"Topic5\", \"Topic5\", \"Topic5\", \"Topic6\", \"Topic6\", \"Topic6\", \"Topic6\", \"Topic6\", \"Topic6\", \"Topic6\", \"Topic6\", \"Topic6\", \"Topic6\", \"Topic6\", \"Topic6\", \"Topic6\", \"Topic6\", \"Topic6\", \"Topic6\", \"Topic6\", \"Topic6\", \"Topic6\", \"Topic6\", \"Topic6\", \"Topic6\", \"Topic6\", \"Topic6\", \"Topic6\", \"Topic6\", \"Topic6\", \"Topic6\", \"Topic6\", \"Topic6\", \"Topic6\", \"Topic6\", \"Topic6\", \"Topic6\", \"Topic6\", \"Topic6\", \"Topic6\", \"Topic6\", \"Topic6\", \"Topic6\", \"Topic6\", \"Topic6\", \"Topic6\", \"Topic6\", \"Topic6\", \"Topic6\", \"Topic6\", \"Topic6\", \"Topic6\", \"Topic6\", \"Topic6\", \"Topic7\", \"Topic7\", \"Topic7\", \"Topic7\", \"Topic7\", \"Topic7\", \"Topic7\", \"Topic7\", \"Topic7\", \"Topic7\", \"Topic7\", \"Topic7\", \"Topic7\", \"Topic7\", \"Topic7\", \"Topic7\", \"Topic7\", \"Topic7\", \"Topic7\", \"Topic7\", \"Topic7\", \"Topic7\", \"Topic7\", \"Topic7\", \"Topic7\", \"Topic7\", \"Topic7\", \"Topic7\", \"Topic7\", \"Topic7\", \"Topic7\", \"Topic7\", \"Topic7\", \"Topic7\", \"Topic7\", \"Topic7\", \"Topic7\", \"Topic7\", \"Topic7\", \"Topic7\", \"Topic7\", \"Topic7\", \"Topic7\", \"Topic7\", \"Topic7\", \"Topic7\", \"Topic8\", \"Topic8\", \"Topic8\", \"Topic8\", \"Topic8\", \"Topic8\", \"Topic8\", \"Topic8\", \"Topic8\", \"Topic8\", \"Topic8\", \"Topic8\", \"Topic8\", \"Topic8\", \"Topic8\", \"Topic8\", \"Topic8\", \"Topic8\", \"Topic8\", \"Topic8\", \"Topic8\", \"Topic8\", \"Topic8\", \"Topic8\", \"Topic8\", \"Topic8\", \"Topic8\", \"Topic8\", \"Topic8\", \"Topic8\", \"Topic8\", \"Topic8\", \"Topic8\", \"Topic8\", \"Topic8\", \"Topic8\", \"Topic8\", \"Topic8\", \"Topic8\", \"Topic8\", \"Topic8\", \"Topic8\", \"Topic8\", \"Topic8\", \"Topic8\", \"Topic8\", \"Topic8\", \"Topic8\", \"Topic8\", \"Topic9\", \"Topic9\", \"Topic9\", \"Topic9\", \"Topic9\", \"Topic9\", \"Topic9\", \"Topic9\", \"Topic9\", \"Topic9\", \"Topic9\", \"Topic9\", \"Topic9\", \"Topic9\", \"Topic9\", \"Topic9\", \"Topic9\", \"Topic9\", \"Topic9\", \"Topic9\", \"Topic9\", \"Topic9\", \"Topic9\", \"Topic9\", \"Topic9\", \"Topic9\", \"Topic9\", \"Topic9\", \"Topic9\", \"Topic9\", \"Topic9\", \"Topic9\", \"Topic9\", \"Topic9\", \"Topic9\", \"Topic9\", \"Topic9\", \"Topic9\", \"Topic9\", \"Topic9\", \"Topic9\", \"Topic9\", \"Topic9\", \"Topic9\", \"Topic10\", \"Topic10\", \"Topic10\", \"Topic10\", \"Topic10\", \"Topic10\", \"Topic10\", \"Topic10\", \"Topic10\", \"Topic10\", \"Topic10\", \"Topic10\", \"Topic10\", \"Topic10\", \"Topic10\", \"Topic10\", \"Topic10\", \"Topic10\", \"Topic10\", \"Topic10\", \"Topic10\", \"Topic10\", \"Topic10\", \"Topic10\", \"Topic10\", \"Topic10\", \"Topic10\", \"Topic10\", \"Topic10\", \"Topic10\", \"Topic10\", \"Topic10\", \"Topic10\", \"Topic10\", \"Topic10\", \"Topic10\", \"Topic10\", \"Topic10\", \"Topic10\", \"Topic10\", \"Topic10\", \"Topic10\", \"Topic10\", \"Topic10\", \"Topic11\", \"Topic11\", \"Topic11\", \"Topic11\", \"Topic11\", \"Topic11\", \"Topic11\", \"Topic11\", \"Topic11\", \"Topic11\", \"Topic11\", \"Topic11\", \"Topic11\", \"Topic11\", \"Topic11\", \"Topic11\", \"Topic11\", \"Topic11\", \"Topic11\", \"Topic11\", \"Topic11\", \"Topic11\", \"Topic11\", \"Topic11\", \"Topic11\", \"Topic11\", \"Topic11\", \"Topic11\", \"Topic11\", \"Topic11\", \"Topic11\", \"Topic11\", \"Topic11\", \"Topic11\", \"Topic11\", \"Topic11\", \"Topic11\", \"Topic12\", \"Topic12\", \"Topic12\", \"Topic12\", \"Topic12\", \"Topic12\", \"Topic12\", \"Topic12\", \"Topic12\", \"Topic12\", \"Topic12\", \"Topic12\", \"Topic12\", \"Topic12\", \"Topic12\", \"Topic12\", \"Topic12\", \"Topic12\", \"Topic12\", \"Topic12\", \"Topic12\", \"Topic12\", \"Topic12\", \"Topic12\", \"Topic12\", \"Topic12\", \"Topic12\", \"Topic12\", \"Topic12\", \"Topic12\", \"Topic12\", \"Topic12\", \"Topic12\", \"Topic12\", \"Topic12\", \"Topic12\", \"Topic12\", \"Topic13\", \"Topic13\", \"Topic13\", \"Topic13\", \"Topic13\", \"Topic13\", \"Topic13\", \"Topic13\", \"Topic13\", \"Topic13\", \"Topic13\", \"Topic13\", \"Topic13\", \"Topic13\", \"Topic13\", \"Topic13\", \"Topic13\", \"Topic13\", \"Topic13\", \"Topic13\", \"Topic13\", \"Topic13\", \"Topic13\", \"Topic13\", \"Topic13\", \"Topic13\", \"Topic13\", \"Topic13\", \"Topic13\", \"Topic13\", \"Topic13\", \"Topic13\", \"Topic13\", \"Topic13\", \"Topic13\", \"Topic14\", \"Topic14\", \"Topic14\", \"Topic14\", \"Topic14\", \"Topic14\", \"Topic14\", \"Topic14\", \"Topic14\", \"Topic14\", \"Topic14\", \"Topic14\", \"Topic14\", \"Topic14\", \"Topic14\", \"Topic14\", \"Topic14\", \"Topic14\", \"Topic14\", \"Topic14\", \"Topic14\", \"Topic14\", \"Topic14\", \"Topic14\", \"Topic14\", \"Topic14\", \"Topic14\", \"Topic14\", \"Topic14\", \"Topic14\", \"Topic14\", \"Topic15\", \"Topic15\", \"Topic15\", \"Topic15\", \"Topic15\", \"Topic15\", \"Topic15\", \"Topic15\", \"Topic15\", \"Topic15\", \"Topic15\", \"Topic15\", \"Topic15\", \"Topic15\", \"Topic15\", \"Topic15\", \"Topic15\", \"Topic15\", \"Topic15\", \"Topic15\", \"Topic15\", \"Topic15\", \"Topic15\", \"Topic15\", \"Topic15\", \"Topic15\", \"Topic15\", \"Topic15\", \"Topic15\", \"Topic15\", \"Topic15\", \"Topic15\", \"Topic15\", \"Topic15\", \"Topic15\", \"Topic16\", \"Topic16\", \"Topic16\", \"Topic16\", \"Topic16\", \"Topic16\", \"Topic16\", \"Topic16\", \"Topic16\", \"Topic16\", \"Topic16\", \"Topic16\", \"Topic16\", \"Topic16\", \"Topic16\", \"Topic16\", \"Topic16\", \"Topic16\", \"Topic16\", \"Topic16\", \"Topic16\", \"Topic16\", \"Topic16\", \"Topic16\", \"Topic16\", \"Topic16\", \"Topic16\", \"Topic16\", \"Topic16\", \"Topic16\", \"Topic16\", \"Topic17\", \"Topic17\", \"Topic17\", \"Topic17\", \"Topic17\", \"Topic17\", \"Topic17\", \"Topic17\", \"Topic17\", \"Topic17\", \"Topic17\", \"Topic17\", \"Topic17\", \"Topic17\", \"Topic17\", \"Topic17\", \"Topic17\", \"Topic17\", \"Topic17\", \"Topic17\", \"Topic17\", \"Topic17\", \"Topic17\", \"Topic17\", \"Topic17\", \"Topic17\", \"Topic17\", \"Topic17\", \"Topic17\", \"Topic17\", \"Topic17\", \"Topic17\", \"Topic18\", \"Topic18\", \"Topic18\", \"Topic18\", \"Topic18\", \"Topic18\", \"Topic18\", \"Topic18\", \"Topic18\", \"Topic18\", \"Topic18\", \"Topic18\", \"Topic18\", \"Topic18\", \"Topic18\", \"Topic18\", \"Topic18\", \"Topic18\", \"Topic18\", \"Topic18\", \"Topic18\", \"Topic18\", \"Topic18\", \"Topic18\", \"Topic18\", \"Topic18\", \"Topic18\", \"Topic18\", \"Topic18\", \"Topic18\", \"Topic18\", \"Topic18\", \"Topic19\", \"Topic19\", \"Topic19\", \"Topic19\", \"Topic19\", \"Topic19\", \"Topic19\", \"Topic19\", \"Topic19\", \"Topic19\", \"Topic19\", \"Topic19\", \"Topic19\", \"Topic19\", \"Topic19\", \"Topic19\", \"Topic19\", \"Topic19\", \"Topic19\", \"Topic19\", \"Topic19\", \"Topic19\", \"Topic19\", \"Topic19\", \"Topic19\", \"Topic19\", \"Topic19\", \"Topic19\", \"Topic19\", \"Topic19\", \"Topic19\", \"Topic19\", \"Topic19\", \"Topic19\", \"Topic20\", \"Topic20\", \"Topic20\", \"Topic20\", \"Topic20\", \"Topic20\", \"Topic20\", \"Topic20\", \"Topic20\", \"Topic20\", \"Topic20\", \"Topic20\", \"Topic20\", \"Topic20\", \"Topic20\", \"Topic20\", \"Topic20\", \"Topic20\", \"Topic20\", \"Topic20\", \"Topic20\", \"Topic20\", \"Topic20\", \"Topic20\", \"Topic20\", \"Topic20\", \"Topic20\", \"Topic20\", \"Topic20\", \"Topic20\", \"Topic20\", \"Topic20\", \"Topic20\", \"Topic20\", \"Topic20\", \"Topic20\", \"Topic20\", \"Topic20\", \"Topic20\", \"Topic20\", \"Topic20\", \"Topic20\", \"Topic20\", \"Topic20\", \"Topic20\"], \"logprob\": [30.0, 29.0, 28.0, 27.0, 26.0, 25.0, 24.0, 23.0, 22.0, 21.0, 20.0, 19.0, 18.0, 17.0, 16.0, 15.0, 14.0, 13.0, 12.0, 11.0, 10.0, 9.0, 8.0, 7.0, 6.0, 5.0, 4.0, 3.0, 2.0, 1.0, -4.1569, -4.3805, -4.6491, -4.6614, -4.7686, -4.8739, -4.9811, -5.0603, -5.0812, -5.2637, -5.4238, -5.4633, -5.4803, -5.5115, -5.5215, -5.5742, -5.657, -5.6607, -5.6929, -5.7602, -5.8111, -5.8844, -5.8859, -5.9511, -5.9588, -5.9678, -6.0086, -6.0102, -6.011, -6.0174, -4.0817, -4.7106, -4.6428, -5.0743, -5.4952, -4.2191, -4.7855, -5.2163, -4.4241, -4.3869, -4.1043, -4.4029, -4.2531, -5.5136, -5.2158, -4.3633, -4.9734, -4.389, -4.7408, -5.3327, -4.9681, -5.0334, -5.0907, -5.1073, -5.1462, -5.2027, -2.5537, -2.9861, -3.1539, -3.7364, -4.0959, -4.848, -4.939, -5.1845, -2.0665, -5.3601, -5.4, -5.4948, -5.4984, -5.517, -5.9194, -5.9559, -6.025, -6.0725, -6.2595, -6.2595, -6.394, -6.4396, -6.4638, -6.4885, -6.6093, -6.6233, -6.8525, -6.8654, -6.9808, -7.0172, -3.7315, -2.6658, -4.9281, -2.5208, -5.5002, -5.2179, -4.9694, -5.7456, -4.2683, -4.2506, -5.0374, -4.9733, -4.9946, -4.1049, -4.5388, -5.1537, -3.8159, -4.4247, -4.6337, -4.3847, -4.6952, -4.9537, -4.8654, -4.9448, -4.8906, -5.1244, -3.189, -3.9504, -3.9698, -4.2981, -5.1143, -5.1295, -5.1521, -5.1845, -5.1913, -5.2538, -5.3153, -5.3442, -5.401, -5.4224, -5.4692, -5.5374, -5.5534, -5.5838, -5.604, -5.6107, -5.6116, -5.6162, -5.6579, -5.6682, -5.6707, -5.685, -5.7101, -5.7395, -5.7499, -5.7544, -5.4083, -4.5018, -4.4498, -4.3675, -4.0992, -5.0281, -5.194, -4.7598, -5.1634, -4.7769, -5.2594, -5.0644, -4.1941, -5.248, -4.4574, -4.7968, -5.0016, -5.0524, -5.2666, -5.3102, -3.7178, -4.9327, -5.0271, -5.1286, -5.1383, -5.226, -5.2727, -5.3069, -5.3169, -5.3337, -5.3377, -5.3858, -5.4004, -5.4059, -5.406, -5.4137, -5.4303, -5.4364, -5.4852, -5.5819, -5.5861, -5.642, -5.6799, -5.7201, -5.7711, -5.7841, -5.7979, -5.8531, -5.859, -5.8666, -3.8796, -4.9293, -4.2496, -4.1993, -4.5962, -4.4239, -4.3812, -4.3819, -3.2848, -4.7622, -4.2962, -4.0203, -4.7021, -4.955, -4.3335, -4.2953, -4.4024, -4.9891, -4.076, -4.8316, -4.526, -4.8513, -3.9042, -4.3582, -4.7128, -4.4893, -4.6258, -4.1894, -4.72, -4.4663, -4.8618, -4.9231, -3.3368, -4.069, -4.3734, -4.3736, -4.496, -4.4987, -4.5023, -4.5579, -4.6739, -4.6756, -4.7049, -4.8306, -5.0973, -5.1367, -5.1809, -5.2329, -5.2383, -5.3461, -5.3463, -5.4595, -5.4635, -5.5431, -5.5947, -5.6294, -5.6354, -5.6432, -5.6454, -5.7228, -5.7692, -5.8949, -3.8492, -3.7108, -4.4232, -4.9088, -3.9978, -5.172, -3.99, -3.4014, -4.426, -4.5955, -3.64, -4.2286, -4.7356, -4.9327, -4.4567, -4.7066, -5.0986, -4.372, -4.5945, -4.6487, -4.706, -4.5641, -4.7348, -3.3146, -3.3987, -3.5147, -4.1536, -4.362, -4.3791, -4.581, -4.648, -4.672, -4.6908, -4.8123, -4.8641, -4.9965, -5.0889, -5.103, -5.1366, -5.1978, -5.2698, -5.3045, -5.3087, -5.4041, -5.4824, -5.5462, -5.5773, -5.616, -5.6693, -5.683, -5.6907, -5.7015, -5.7502, -5.231, -5.0872, -5.0664, -4.724, -4.7328, -4.0227, -3.3387, -4.872, -5.0154, -4.6592, -3.7737, -4.7339, -4.3749, -4.7738, -4.6749, -3.761, -4.574, -4.6983, -4.7718, -4.7633, -4.9517, -2.9588, -2.9903, -2.9905, -3.7531, -3.8393, -3.9774, -4.0136, -4.0755, -4.1083, -4.2591, -4.4226, -4.427, -4.557, -4.6743, -4.6765, -4.8613, -4.8396, -4.8677, -4.9713, -5.2823, -5.32, -5.3711, -5.419, -5.4941, -5.5676, -5.5771, -5.603, -5.6817, -5.6867, -5.7136, -3.9329, -5.1477, -4.0605, -4.3863, -4.3275, -4.589, -4.0625, -4.2892, -4.7196, -4.0738, -4.0483, -4.0738, -4.641, -4.7356, -4.7477, -4.7785, -3.3003, -3.5428, -3.6463, -3.76, -3.8399, -3.9617, -4.118, -4.2527, -4.3046, -4.3522, -4.3754, -4.4213, -4.5128, -4.5267, -4.6315, -4.7397, -4.7415, -4.7486, -4.7841, -4.8985, -4.9054, -5.1881, -2.6668, -5.3283, -5.3575, -5.5278, -5.6049, -5.6157, -5.6867, -5.6988, -4.1379, -4.0432, -4.4541, -4.3363, -3.7417, -3.8303, -4.313, -4.3987, -4.4977, -4.3368, -4.4031, -4.0818, -3.5795, -4.2916, -3.9835, -4.0676, -4.1649, -4.3792, -4.3435, -3.1359, -3.6851, -3.7837, -3.9225, -4.0055, -4.1117, -4.1663, -4.2122, -4.2164, -4.3361, -4.3399, -4.3799, -4.4383, -4.4652, -4.6036, -4.6139, -4.6875, -4.692, -4.7626, -4.863, -4.9005, -4.9237, -4.9584, -4.9863, -5.0014, -5.0529, -5.1336, -5.139, -5.1437, -5.1479, -3.9708, -3.0163, -4.5527, -3.824, -3.6948, -3.6112, -4.6315, -3.8874, -4.5489, -4.0529, -4.4218, -3.9847, -4.12, -4.6176, -3.4962, -3.5761, -3.6206, -3.6976, -3.7825, -4.0562, -4.1052, -4.1699, -4.2265, -4.562, -4.6806, -4.7787, -4.8506, -4.8543, -4.8784, -4.9065, -4.9736, -5.0732, -5.0809, -5.087, -5.1267, -5.2156, -5.3108, -5.3642, -5.4358, -5.4952, -5.5165, -5.549, -5.5695, -5.6211, -2.9403, -3.23, -3.7659, -3.9653, -4.6719, -3.9607, -4.2127, -3.9363, -4.8786, -4.6692, -4.805, -4.8693, -4.6804, -4.9567, -2.1837, -3.0737, -3.2005, -3.3122, -3.553, -3.661, -3.7603, -4.2639, -4.3477, -4.431, -4.5245, -4.5266, -4.5367, -4.5868, -4.6105, -4.6503, -4.7941, -4.8275, -4.8385, -4.8587, -4.8732, -4.8747, -4.9216, -4.9311, -4.9341, -4.9421, -4.9485, -4.9649, -4.9917, -5.0099, -3.8079, -3.8271, -4.1657, -4.3844, -4.7074, -4.7016, -4.7608, -1.9954, -2.3291, -3.3233, -3.6444, -3.7411, -3.9181, -3.9668, -3.9916, -4.0645, -4.0723, -4.1039, -4.1488, -4.315, -4.444, -4.6157, -4.6477, -4.6943, -4.7867, -4.8862, -4.8974, -4.9143, -4.9629, -5.0331, -5.1917, -5.2109, -5.2783, -5.3027, -5.3118, -5.312, -5.4031, -2.6171, -4.3515, -4.8217, -4.1567, -4.0029, -5.0534, -5.0661, -2.9269, -3.0547, -3.2212, -3.2547, -3.6931, -3.7105, -3.7469, -3.8451, -3.8808, -4.1067, -4.1778, -4.1813, -4.1991, -4.2234, -4.3373, -4.3771, -4.3832, -4.3847, -4.4551, -4.5941, -4.7266, -4.7666, -4.7699, -4.8379, -4.8903, -4.9303, -4.9512, -4.966, -5.0013, -5.0054, -2.8453, -4.2449, -4.0131, -3.6407, -4.8926, -1.6851, -2.234, -3.0039, -3.0956, -3.2132, -3.4317, -3.5498, -3.5799, -3.7256, -3.7818, -3.9123, -4.2112, -4.3574, -4.4025, -4.4051, -4.4595, -4.9032, -4.9971, -6.2062, -2.9927, -7.8492, -4.6397, -5.2102, -5.6916, -4.5173, -5.072, -5.5014, -12.2716, -12.2721, -12.2723, -6.0561, -2.4992, -2.5144, -3.2399, -3.2642, -3.4283, -3.5109, -3.5514, -3.8815, -3.9428, -4.0023, -4.0047, -4.1344, -4.1793, -4.2486, -4.2774, -4.3171, -4.441, -4.555, -4.6441, -4.8058, -4.8316, -4.8339, -4.8536, -4.9429, -4.9674, -4.9967, -5.035, -5.1048, -5.2964, -5.4007, -2.9705, -3.7998, -4.0842, -4.4421, -4.6921, -2.3894, -2.8533, -3.109, -3.2454, -3.4258, -3.4818, -3.4994, -3.5214, -3.6388, -3.7572, -3.8503, -4.0986, -4.3261, -4.544, -4.5892, -4.6419, -4.6628, -4.691, -4.7027, -4.8077, -4.8471, -4.8682, -4.8984, -4.9706, -5.0005, -5.1245, -5.2713, -5.3091, -5.3573, -5.5425, -4.8279, -1.7157, -2.9609, -3.2412, -3.2752, -3.5138, -3.5554, -3.6183, -3.6777, -3.8179, -3.837, -3.9486, -3.9846, -4.2024, -4.781, -4.8406, -4.9586, -5.1026, -5.2913, -5.3498, -5.5587, -5.8457, -6.1804, -6.6154, -8.0126, -3.4754, -4.1688, -11.8075, -11.8075, -11.8075, -11.8076, -11.8076, -11.8075, -2.8489, -2.9009, -2.9214, -2.936, -3.2928, -3.6458, -3.7333, -3.9502, -4.11, -4.2808, -4.4711, -4.4723, -4.491, -4.5413, -4.5624, -4.8277, -4.8665, -4.8919, -5.0447, -5.1458, -5.3203, -5.3686, -5.4521, -5.5058, -5.8292, -6.1579, -6.1579, -6.3963, -6.9216, -6.9623, -3.2318, -6.3994, -2.2941, -2.4863, -2.9752, -3.1173, -3.5163, -3.5506, -3.7311, -3.91, -4.4095, -4.8453, -4.8919, -5.2706, -5.525, -5.5353, -5.6647, -6.4094, -11.4201, -11.4201, -11.4201, -11.4201, -11.4202, -11.4202, -11.4202, -11.4202, -11.4202, -11.4203, -11.4202, -11.4202, -11.4203, -11.4203, -11.4202, -11.4202, -11.4202, -11.4202, -3.27, -3.3363, -3.5764, -4.0653, -4.1021, -4.3685, -4.6233, -5.1622, -5.5938, -11.0456, -11.0456, -11.0456, -11.0456, -11.0456, -11.0456, -11.0456, -11.0456, -11.0456, -11.0456, -11.0456, -11.0456, -11.0456, -11.0456, -11.0456, -11.0456, -11.0456, -11.0456, -11.0456, -11.0456, -11.0456, -11.0456, -11.0456, -11.0456, -11.0456, -11.0456, -11.0456, -11.0456, -11.0456, -11.0456, -11.0456, -11.0456, -11.0456, -11.0456, -11.0456, -11.0456], \"loglift\": [30.0, 29.0, 28.0, 27.0, 26.0, 25.0, 24.0, 23.0, 22.0, 21.0, 20.0, 19.0, 18.0, 17.0, 16.0, 15.0, 14.0, 13.0, 12.0, 11.0, 10.0, 9.0, 8.0, 7.0, 6.0, 5.0, 4.0, 3.0, 2.0, 1.0, 0.9171, 0.917, 0.917, 0.917, 0.9169, 0.9169, 0.9169, 0.9168, 0.9168, 0.9168, 0.9167, 0.9167, 0.9167, 0.9166, 0.9166, 0.9166, 0.9165, 0.9165, 0.9165, 0.9165, 0.9164, 0.9164, 0.9164, 0.9163, 0.9163, 0.9163, 0.9163, 0.9163, 0.9163, 0.9163, 0.9163, 0.9129, 0.9121, 0.915, 0.9152, 0.8824, 0.8908, 0.8998, 0.8647, 0.8428, 0.8216, 0.8319, 0.7053, 0.8931, 0.8371, 0.657, 0.7683, 0.5118, 0.5795, 0.8318, 0.5925, 0.5969, 0.6387, 0.6097, 0.5778, 0.5117, 2.2302, 2.2302, 2.2301, 2.23, 2.2298, 2.2292, 2.2291, 2.2288, 2.2287, 2.2285, 2.2284, 2.2283, 2.2282, 2.2282, 2.2272, 2.227, 2.2268, 2.2266, 2.2259, 2.2259, 2.2252, 2.225, 2.2249, 2.2247, 2.224, 2.2239, 2.2223, 2.2222, 2.2212, 2.2209, 2.2094, 2.1782, 2.1706, 2.0506, 2.1479, 2.1122, 2.0726, 2.1185, 1.8235, 1.7728, 1.8838, 1.855, 1.8368, 1.4879, 1.6527, 1.8827, 1.0849, 1.2937, 1.2654, 0.5738, 0.9351, 1.2256, 0.9825, 0.7722, 0.4118, 0.5997, 2.2913, 2.291, 2.291, 2.2909, 2.29, 2.29, 2.29, 2.2899, 2.2899, 2.2898, 2.2897, 2.2896, 2.2895, 2.2895, 2.2894, 2.2892, 2.2892, 2.2891, 2.2891, 2.2891, 2.2891, 2.289, 2.2889, 2.2889, 2.2889, 2.2889, 2.2888, 2.2887, 2.2887, 2.2887, 2.2854, 2.2286, 2.2065, 2.199, 2.1773, 2.2078, 2.2232, 2.1189, 2.1747, 2.0305, 2.1728, 2.0432, 1.5518, 2.1054, 1.4969, 1.5592, 1.7791, 1.837, 1.994, 1.6454, 2.5483, 2.5472, 2.547, 2.5469, 2.5468, 2.5467, 2.5465, 2.5465, 2.5464, 2.5464, 2.5464, 2.5463, 2.5462, 2.5462, 2.5462, 2.5462, 2.5462, 2.5461, 2.546, 2.5457, 2.5457, 2.5455, 2.5454, 2.5453, 2.5451, 2.545, 2.545, 2.5448, 2.5447, 2.5447, 2.522, 2.5297, 2.4778, 2.4001, 2.4378, 2.4174, 2.401, 2.3878, 2.2374, 2.4324, 2.3368, 2.2045, 2.3006, 2.378, 2.1322, 2.0636, 2.0987, 2.356, 1.8968, 2.2525, 2.0107, 2.2046, 1.3982, 1.7138, 2.0271, 1.7021, 1.8181, 1.1309, 1.8839, 1.2618, 1.5717, 1.1003, 2.7701, 2.7697, 2.7694, 2.7694, 2.7692, 2.7692, 2.7692, 2.7691, 2.769, 2.769, 2.7689, 2.7687, 2.7681, 2.768, 2.7679, 2.7678, 2.7678, 2.7674, 2.7674, 2.7671, 2.7671, 2.7668, 2.7666, 2.7664, 2.7664, 2.7664, 2.7664, 2.766, 2.7658, 2.7652, 2.7597, 2.7549, 2.7619, 2.7433, 2.6554, 2.733, 2.617, 2.538, 2.6469, 2.6124, 2.3184, 2.4472, 2.5788, 2.6284, 2.4057, 2.4714, 2.6724, 1.5271, 1.7124, 1.6321, 1.4734, 0.3617, 0.9947, 3.0394, 3.0394, 3.0393, 3.0387, 3.0385, 3.0384, 3.0381, 3.038, 3.0379, 3.0379, 3.0376, 3.0375, 3.0371, 3.0369, 3.0368, 3.0367, 3.0365, 3.0362, 3.0361, 3.0361, 3.0357, 3.0354, 3.0351, 3.0349, 3.0347, 3.0344, 3.0344, 3.0343, 3.0342, 3.034, 3.0141, 3.0036, 3.0018, 2.9554, 2.9503, 2.8726, 2.6741, 2.8722, 2.8586, 2.7017, 1.9407, 2.5458, 2.1618, 2.5406, 2.4165, 1.2594, 2.0321, 1.7352, 1.9775, 1.2348, 2.3306, 3.0884, 3.0884, 3.0884, 3.088, 3.0879, 3.0878, 3.0877, 3.0876, 3.0876, 3.0874, 3.0872, 3.0872, 3.0869, 3.0867, 3.0867, 3.0863, 3.0862, 3.0862, 3.086, 3.0849, 3.0848, 3.0846, 3.0843, 3.084, 3.0836, 3.0836, 3.0834, 3.083, 3.083, 3.0828, 2.9889, 3.0392, 2.8447, 2.8807, 2.7997, 2.6782, 2.2904, 2.3801, 2.6043, 1.9832, 1.906, 1.2286, 2.0515, 1.7302, 0.9657, 1.5023, 3.261, 3.2608, 3.2607, 3.2606, 3.2605, 3.2603, 3.2601, 3.2599, 3.2598, 3.2597, 3.2597, 3.2596, 3.2594, 3.2594, 3.2591, 3.2589, 3.2589, 3.2588, 3.2587, 3.2584, 3.2584, 3.2573, 3.257, 3.2567, 3.2565, 3.2556, 3.2551, 3.255, 3.2546, 3.2545, 3.162, 3.1519, 3.1615, 3.1308, 3.0019, 2.969, 3.0568, 3.0051, 3.0092, 2.9093, 2.9208, 2.5534, 1.9426, 2.7408, 1.3189, 1.493, 1.5484, 2.4672, 1.6108, 3.837, 3.8363, 3.8361, 3.8359, 3.8357, 3.8354, 3.8353, 3.8351, 3.8351, 3.8348, 3.8347, 3.8346, 3.8344, 3.8343, 3.8338, 3.8337, 3.8334, 3.8334, 3.833, 3.8325, 3.8323, 3.8322, 3.832, 3.8318, 3.8317, 3.8314, 3.8308, 3.8308, 3.8307, 3.8307, 3.8013, 3.5558, 3.718, 3.5547, 3.312, 3.2353, 3.6066, 3.0239, 3.4829, 2.8275, 3.2225, 2.3713, 2.5152, 2.0517, 3.943, 3.9429, 3.9428, 3.9427, 3.9425, 3.9419, 3.9417, 3.9415, 3.9414, 3.9401, 3.9395, 3.939, 3.9386, 3.9385, 3.9384, 3.9382, 3.9378, 3.9371, 3.937, 3.937, 3.9367, 3.9359, 3.9351, 3.9345, 3.9338, 3.9331, 3.9329, 3.9325, 3.9323, 3.9316, 3.7156, 3.5194, 3.4048, 3.4593, 3.6651, 3.4227, 3.4071, 2.3976, 3.2371, 2.6917, 2.9487, 2.7394, 0.34, 2.665, 4.0721, 4.0714, 4.0712, 4.0711, 4.0707, 4.0705, 4.0702, 4.0687, 4.0684, 4.068, 4.0676, 4.0676, 4.0676, 4.0673, 4.0672, 4.067, 4.0661, 4.0659, 4.0658, 4.0657, 4.0656, 4.0656, 4.0652, 4.0651, 4.0651, 4.0651, 4.065, 4.0649, 4.0647, 4.0645, 3.6428, 3.4153, 3.2489, 3.2095, 3.5043, 3.0735, 3.2991, 4.1143, 4.1141, 4.1131, 4.1126, 4.1123, 4.1119, 4.1117, 4.1117, 4.1114, 4.1114, 4.1113, 4.1111, 4.1105, 4.1099, 4.109, 4.1088, 4.1086, 4.108, 4.1073, 4.1072, 4.1071, 4.1067, 4.1061, 4.1046, 4.1044, 4.1037, 4.1035, 4.1034, 4.1033, 4.1023, 4.0295, 3.7768, 3.8742, 3.0429, 1.845, 2.1926, 2.0872, 4.6933, 4.693, 4.6926, 4.6925, 4.6911, 4.691, 4.6909, 4.6904, 4.6903, 4.689, 4.6886, 4.6886, 4.6885, 4.6883, 4.6875, 4.6872, 4.6871, 4.6871, 4.6865, 4.6852, 4.6838, 4.6834, 4.6833, 4.6825, 4.6818, 4.6813, 4.681, 4.6808, 4.6803, 4.6802, 4.631, 4.5014, 4.4241, 4.1088, 2.8421, 4.7776, 4.7772, 4.776, 4.7757, 4.7754, 4.7748, 4.7743, 4.7742, 4.7736, 4.7733, 4.7727, 4.7707, 4.7696, 4.7692, 4.7692, 4.7687, 4.7634, 4.7619, 4.7247, 4.6523, 4.5282, 4.2725, 3.701, 3.2622, 2.9895, 2.0551, 1.975, 1.5729, 1.5725, 1.5723, 1.3647, 4.8049, 4.8049, 4.8034, 4.8033, 4.8028, 4.8025, 4.8023, 4.8008, 4.8004, 4.8001, 4.8, 4.7992, 4.7989, 4.7983, 4.7981, 4.7978, 4.7966, 4.7955, 4.7945, 4.7924, 4.7921, 4.792, 4.7918, 4.7904, 4.79, 4.7896, 4.7889, 4.7877, 4.7838, 4.7813, 4.6418, 4.6685, 3.8004, 3.5896, 3.5652, 5.0696, 5.0686, 5.0679, 5.0674, 5.0666, 5.0664, 5.0663, 5.0662, 5.0656, 5.0649, 5.0643, 5.0623, 5.0601, 5.0574, 5.0568, 5.056, 5.0557, 5.0552, 5.055, 5.0533, 5.0526, 5.0522, 5.0516, 5.0501, 5.0495, 5.0467, 5.0429, 5.0418, 5.0403, 5.0342, 2.94, 5.1985, 5.1962, 5.1951, 5.195, 5.1938, 5.1935, 5.1932, 5.1928, 5.1918, 5.1916, 5.1907, 5.1904, 5.1882, 5.1795, 5.1783, 5.1757, 5.1721, 5.1665, 5.1645, 5.1566, 5.1428, 5.1211, 5.0809, 4.7882, 4.7318, 4.6819, 2.0372, 2.0371, 2.0371, 2.0371, 2.0371, 2.037, 5.5538, 5.5536, 5.5535, 5.5534, 5.5515, 5.5487, 5.5479, 5.5455, 5.5433, 5.5406, 5.537, 5.537, 5.5366, 5.5355, 5.535, 5.5281, 5.527, 5.5262, 5.521, 5.5172, 5.5096, 5.5073, 5.5029, 5.5, 5.4787, 5.4495, 5.4495, 5.4222, 5.3381, 5.3299, 4.9455, 1.5415, 5.8599, 5.8593, 5.8568, 5.8558, 5.8521, 5.8518, 5.8495, 5.8468, 5.8364, 5.822, 5.8201, 5.8009, 5.7835, 5.7827, 5.7721, 5.6801, 2.4245, 2.4245, 2.4244, 2.4244, 2.4244, 2.4244, 2.4244, 2.4244, 2.4244, 2.4244, 2.4244, 2.4244, 2.4244, 2.4244, 2.4244, 2.4244, 2.4244, 2.4244, 7.1601, 7.1579, 7.1485, 7.1214, 7.1188, 7.0971, 7.0709, 6.992, 6.8982, 2.7991, 2.799, 2.799, 2.799, 2.799, 2.799, 2.799, 2.799, 2.799, 2.799, 2.799, 2.799, 2.799, 2.799, 2.799, 2.799, 2.799, 2.799, 2.799, 2.799, 2.799, 2.799, 2.799, 2.799, 2.799, 2.799, 2.799, 2.799, 2.799, 2.799, 2.799, 2.799, 2.799, 2.799, 2.799, 2.799]}, \"token.table\": {\"Topic\": [12, 16, 6, 8, 14, 19, 9, 5, 6, 4, 1, 17, 4, 4, 2, 4, 17, 13, 2, 13, 1, 16, 1, 3, 5, 4, 6, 3, 13, 13, 1, 3, 4, 7, 8, 1, 17, 20, 11, 4, 16, 6, 5, 18, 7, 2, 19, 6, 5, 6, 10, 1, 2, 6, 9, 11, 4, 5, 10, 4, 5, 4, 6, 10, 19, 2, 4, 7, 3, 1, 3, 8, 1, 9, 1, 3, 4, 5, 8, 3, 8, 9, 18, 5, 1, 5, 5, 16, 18, 20, 11, 12, 18, 5, 3, 8, 5, 8, 9, 2, 13, 1, 3, 14, 13, 13, 11, 1, 2, 3, 7, 9, 15, 17, 7, 1, 8, 9, 17, 15, 16, 14, 12, 17, 1, 3, 6, 17, 1, 4, 5, 6, 7, 2, 14, 9, 13, 1, 8, 9, 18, 1, 10, 14, 5, 15, 5, 9, 6, 6, 10, 5, 10, 9, 15, 13, 4, 17, 4, 7, 11, 16, 1, 8, 1, 4, 3, 4, 10, 7, 10, 7, 11, 8, 2, 5, 8, 14, 11, 13, 14, 5, 19, 10, 2, 1, 2, 8, 13, 3, 9, 6, 1, 6, 8, 2, 6, 18, 10, 2, 10, 11, 9, 9, 9, 16, 17, 4, 7, 8, 15, 9, 5, 6, 3, 6, 16, 11, 19, 11, 4, 4, 9, 12, 4, 4, 18, 16, 7, 15, 7, 2, 5, 5, 8, 7, 8, 13, 2, 3, 1, 7, 8, 16, 16, 8, 10, 8, 6, 16, 9, 2, 8, 1, 3, 5, 1, 12, 13, 13, 17, 2, 7, 8, 17, 4, 14, 12, 2, 8, 1, 4, 7, 12, 18, 18, 1, 5, 7, 10, 1, 5, 18, 5, 6, 13, 4, 5, 5, 17, 13, 20, 15, 1, 8, 9, 4, 1, 5, 6, 13, 5, 5, 3, 3, 11, 1, 3, 1, 8, 15, 7, 11, 1, 3, 11, 7, 3, 1, 2, 4, 5, 7, 2, 6, 8, 11, 5, 14, 10, 3, 6, 10, 6, 1, 3, 12, 9, 17, 17, 14, 1, 2, 3, 4, 5, 7, 8, 13, 1, 3, 6, 10, 7, 6, 17, 9, 12, 4, 7, 17, 3, 5, 12, 1, 4, 13, 10, 15, 1, 2, 3, 8, 19, 10, 1, 3, 1, 3, 3, 15, 16, 1, 3, 6, 7, 11, 11, 6, 9, 1, 2, 4, 5, 6, 13, 6, 6, 16, 18, 4, 8, 19, 3, 10, 19, 1, 2, 7, 2, 1, 3, 4, 8, 9, 12, 3, 2, 15, 1, 3, 2, 8, 6, 15, 15, 11, 8, 1, 18, 5, 1, 7, 14, 5, 15, 16, 3, 4, 7, 8, 10, 3, 9, 9, 2, 7, 4, 10, 10, 7, 13, 8, 9, 2, 8, 8, 11, 5, 10, 6, 10, 1, 4, 5, 6, 18, 18, 12, 5, 10, 2, 15, 17, 15, 14, 2, 3, 6, 10, 1, 19, 1, 2, 5, 10, 1, 3, 12, 6, 1, 3, 5, 9, 14, 6, 14, 1, 7, 1, 10, 1, 2, 4, 2, 3, 4, 8, 6, 1, 7, 5, 1, 2, 3, 7, 1, 3, 1, 3, 1, 3, 9, 12, 1, 2, 12, 8, 8, 18, 2, 4, 8, 6, 1, 3, 1, 10, 7, 8, 1, 4, 5, 7, 9, 10, 14, 9, 12, 1, 8, 11, 5, 3, 1, 4, 6, 8, 2, 4, 10, 3, 12, 6, 10, 6, 6, 13, 12, 19, 7, 8, 11, 1, 8, 12, 17, 12, 1, 13, 3, 8, 12, 10, 8, 16, 15, 9, 8, 12, 1, 6, 10, 10, 6, 10, 1, 6, 15, 1, 5, 18, 1, 2, 4, 7, 8, 1, 2, 3, 3, 8, 1, 1, 2, 3, 4, 8, 2, 3, 4, 4, 1, 3, 3, 14, 2, 16, 13, 16, 15, 2, 1, 2, 3, 4, 7, 7, 6, 15, 4, 10, 10, 1, 3, 5, 8, 3, 9, 16, 20, 20, 4, 3, 11, 17, 18, 18, 18, 12, 2, 15, 7, 9, 8, 9, 18, 5, 1, 9, 8, 14, 14, 1, 5, 6, 10, 11, 1, 5, 6, 15, 18, 1, 3, 11, 12, 11, 13, 12, 3, 5, 19, 8, 1, 3, 5, 6, 4, 6, 6, 10, 17, 8, 13, 1, 2, 4, 5, 13, 1, 6, 9, 11, 8, 9, 12, 9, 18, 1, 1, 2, 7, 8, 12, 1, 4, 4, 8, 7, 5, 6, 4, 4, 6, 5, 6, 4, 6, 4, 6, 1, 1, 2, 4, 5, 17, 3, 20, 8, 3, 6, 1, 2, 5, 7, 1, 2, 1, 5, 20, 1, 3, 4, 9, 15, 1, 3, 9, 9, 14, 14, 11, 16, 1, 3, 11, 5, 5, 10, 17, 1, 1, 9, 2, 10, 3, 4, 10, 4, 1, 4, 6, 7, 4, 2, 4, 2, 18, 11, 2, 12, 15, 5, 1, 13, 16, 16, 18, 1, 6, 11, 18, 15, 4, 7, 2, 3, 7, 8, 1, 1, 6, 12, 8, 12, 12, 1, 5, 10, 13, 7, 15, 3, 5, 10, 3, 7, 5, 8, 14, 1, 3, 11, 14, 3, 6, 7, 14, 4, 6, 1, 1, 1, 8, 9, 1, 2, 3, 4, 7, 1, 5, 9, 3, 3, 19, 4, 9, 14, 1, 7, 8, 11, 16, 12, 17, 15, 9, 18, 15, 4, 2, 3, 11, 13, 18, 10, 16, 1, 8, 1, 6, 7, 8, 12, 10, 2, 4, 6, 15, 13, 2, 5, 8, 4, 5, 7, 10, 10, 7, 12, 20, 2, 5, 6, 11, 1, 11, 7, 8, 12, 1, 4, 8, 3, 1, 2, 6, 5, 6, 12, 1, 3, 1, 8, 13, 7, 19, 3, 5, 15, 8, 6, 8, 9, 1, 4, 6, 7, 8, 1, 2, 12, 13, 9, 18, 19, 4, 8, 1, 3, 1, 4, 8, 16, 7, 18, 6, 3, 2, 4, 15, 12, 1, 14, 6, 16, 5, 11, 13, 2, 5, 6, 2, 1, 1, 3, 16, 15, 1, 3, 13, 4, 6, 3, 2, 17, 14, 5, 1, 17, 15, 5, 3, 16, 18, 13, 10, 1, 5, 3, 1, 2, 7, 12, 10, 10, 1, 18, 1, 2, 7, 18, 9, 1, 15, 2, 17, 2, 7, 1, 2, 4, 7, 8, 4, 2, 7, 8, 14, 7, 15, 1, 5, 11, 12, 11, 19, 7, 8, 2, 11, 10, 6, 6, 20, 3, 1, 2, 6, 10, 4, 14, 9, 16, 4, 3, 1, 10, 6, 1, 3, 4, 1, 3, 6, 1, 3, 11, 7, 3, 7, 7, 19, 9, 16, 9, 6, 10, 1, 10, 1, 2, 1, 5, 1, 2, 7, 8, 11, 16, 1, 2, 3], \"Freq\": [0.9995945406775248, 0.9737370820677798, 0.0537584883076013, 0.7773186822855863, 0.1670871933884905, 0.8523761159790054, 0.996862541956321, 0.39193899514356023, 0.6064866408031849, 0.9982029598717842, 0.9995389729104655, 0.9717030430808047, 0.9964849597516477, 0.9975574850794738, 0.14808723571047216, 0.8509801714066569, 0.985237734417607, 0.9857254083160703, 0.9992548612166993, 0.9931046176830182, 0.8789612291872313, 0.11882952240084887, 0.1021877017160432, 0.8299635285717655, 0.06604814867012548, 0.9969156614050018, 0.9972552482975163, 0.9973273419914508, 0.9894845015055838, 0.9940608754104235, 0.7133647749065797, 0.0021211669885145327, 0.2423025367649293, 0.030512171296324428, 0.011748001782542025, 0.9992734148344742, 0.9447830938384107, 0.9797470021365542, 0.9951264615335451, 0.9961288459259957, 0.9627269809722214, 0.9922582262284629, 0.9948206235035969, 0.9964895737665431, 0.9986444543052975, 0.9990438932531073, 0.967326859187016, 0.9954631823994189, 0.9910363108792057, 0.007372214852448927, 0.9961704551467381, 0.048746950780807256, 0.9491973825634943, 0.0019255552283478957, 0.9913685697450325, 0.9956878117012815, 0.99649867800464, 0.9970352097809225, 0.9891234736732133, 0.9980787030735303, 0.9979755523115476, 0.1889447765543186, 0.2273566267329438, 0.582406701356993, 0.923830649242659, 0.9953850079466235, 0.8088686013607459, 0.19039335894098516, 0.9983349860185599, 0.9230177069976747, 0.07672011834552206, 0.9950068350013952, 0.9993408333544944, 0.9950818970750817, 0.11308366124895072, 0.20143027159969348, 0.5141772722413228, 0.14842230538924783, 0.02238114128885483, 0.9960704968183527, 0.9954114001609323, 0.9969920240377387, 0.8666784099118713, 0.9990213825567587, 0.20727635212387013, 0.7924381005905269, 0.9989299719562857, 0.9985306623826615, 0.9962528026677018, 0.84984847628681, 0.9995887421373063, 0.9854914113080194, 0.9936064432822553, 0.9952819145332608, 0.09394744805511396, 0.9054590252208397, 0.9890990343179304, 0.010062647267148306, 0.9896561936083909, 0.9976327198708032, 0.99210828126559, 0.931903735785134, 0.033329890407193634, 0.033329890407193634, 0.9869697951990345, 0.9903200049071982, 0.9935553996399346, 0.04527219395084525, 0.08551414412937437, 0.20875511655111978, 0.49233510921544216, 0.16788438590105115, 0.9787732064535507, 0.9965535126847699, 0.9957233990829029, 0.24066157752531103, 0.4922623176654089, 0.26618629029314705, 0.9937209487008426, 0.9927437269149233, 0.9933293531050877, 0.993116918529921, 0.9995812358595311, 0.9992752227657485, 0.1961591839091703, 0.3110690017021162, 0.49213901761827344, 0.5786039678455154, 0.6436983581213916, 0.1288682184756256, 0.05945291874810657, 0.16453996972448953, 0.0028923041553132927, 0.9972906187247533, 0.9955380329073059, 0.993782318196049, 0.998298799910415, 0.09075321324953452, 0.15466392680554475, 0.7528682056898004, 0.9552180025671688, 0.2041051318787576, 0.7953275959530919, 0.999236182766035, 0.9980572481794717, 0.9962443054050956, 0.9989776895466213, 0.9947555038369343, 0.9975316704748813, 0.2399591565068529, 0.7565378962091056, 0.9843169361490837, 0.014875034470205016, 0.699895899647265, 0.29714878546427737, 0.9855320743128035, 0.998492526275927, 0.9961637429633561, 0.21573308875561636, 0.7833260492085848, 0.9987224232354293, 0.991190203318283, 0.2527765884900932, 0.7461563886874706, 0.9998275126816402, 0.9969725813243328, 0.2718724066465001, 0.426308803321435, 0.2992205185576865, 0.9960347382278242, 0.9932923710398853, 0.9967293463885176, 0.9898611859378112, 0.9995099459601604, 0.9980283450481761, 0.9976551143992177, 0.99462254743752, 0.7577597579437971, 0.9943413134353452, 0.9371409354291172, 0.06059708304278503, 0.9955418550367638, 0.9194616415845891, 0.9975770208517505, 0.9973851303496973, 0.11391943646522383, 0.2911274487444609, 0.5940084901400957, 0.9959095800863436, 0.9976400100065319, 0.9992418093153662, 0.9982978592104148, 0.9995562790600059, 0.9958770258505134, 0.998597808725736, 0.9979097807136256, 0.9981080821589157, 0.9969935973969718, 0.9952383643688067, 0.9947302290880629, 0.993898129501849, 0.9953144807901233, 0.9923435918779219, 0.9975481544360216, 0.9960673998945673, 0.9875575519920594, 0.9961521418472817, 0.8622938655136011, 0.04857002181260284, 0.08869308330997039, 0.9895313948758905, 0.9963115738306816, 0.15290931003592548, 0.8457303591162271, 0.02127998712744466, 0.9758394097013907, 0.995986727512726, 0.9932898360472566, 0.994899095025692, 0.9915567634587176, 0.9956135903288267, 0.6855548464403808, 0.18261059153694667, 0.13160204641489454, 0.9974322686083528, 0.99878168521848, 0.9747782482901878, 0.9896359682652858, 0.9969609355195491, 0.9952052828950122, 0.9976575949931343, 0.9973608493522297, 0.9984359631901141, 0.9975466551851849, 0.9989420677674347, 0.998673093705848, 0.9976925414080317, 0.988452610581659, 0.9969760602357275, 0.9984014261949238, 0.6312817384544871, 0.3309797883581571, 0.037495135653344266, 0.9953225353439629, 0.9969881870568571, 0.9953721815247476, 0.004177221385295703, 0.9989002309951157, 0.9979211022656999, 0.9876397504962996, 0.997325284809356, 0.9896869429696207, 0.994018927181342, 0.055657514535573785, 0.7428574389033726, 0.19991270527063237, 0.6560550474371616, 0.3419179400323969, 0.9975573386240789, 0.9838019752084193, 0.9938082116295567, 0.6870500104355832, 0.23810853365954227, 0.07445499040128102, 0.9844258912866348, 0.11677425864727367, 0.8824797546343968, 0.9981839659140274, 0.9202924596626886, 0.07696991480815213, 0.9996101280370495, 0.9952792630096545, 0.9992670299347599, 0.9885936661719962, 0.9640155904423218, 0.8698897524862578, 0.0022861772364417164, 0.18518035615177902, 0.8115929189368093, 0.9935887114028793, 0.9996630388387391, 0.9997019267189485, 0.9707456060409162, 0.9063213014703095, 0.09082134127468655, 0.9951511633857224, 0.10827771184816762, 0.8909708860649221, 0.39549229345171527, 0.5960235971737118, 0.9965228864509822, 0.8610607817678436, 0.9962495161976639, 0.031187243137676502, 0.08108683215795891, 0.8857177051100126, 0.9943623172272106, 0.5181973408804258, 0.3470696717214338, 0.13436366862355636, 0.9939473484209236, 0.9988442452395861, 0.9956690168005643, 0.9986851455884964, 0.9979187272461071, 0.9990108130772709, 0.9763051967225115, 0.023210821913165206, 0.10319413977742425, 0.8957676875524868, 0.9948192638766178, 0.9985292910291338, 0.992748402727027, 0.9994513379688295, 0.9338417543160124, 0.06508996580581025, 0.9997577742423679, 0.9979216695728687, 0.7122353398856923, 0.19571200934766367, 0.03200783174100367, 0.007330037803283283, 0.052531937590196864, 0.8950795637713675, 0.022844258008085948, 0.08099327839230472, 0.9953777709132156, 0.650951324373034, 0.3432288801239634, 0.9924675528004658, 0.2812234886381526, 0.1232760498139847, 0.5932659897298014, 0.9971861427040235, 0.5223999255139982, 0.4772018440044218, 0.9975927319636708, 0.9920348898586092, 0.9916249620495233, 0.9801137375377518, 0.9824624551051774, 0.11383730112903563, 0.0477519765035655, 0.1586047791011283, 0.13643421858161572, 0.3201940567337294, 0.2046513278724236, 0.017906991188837065, 0.9956994183395798, 0.24359125386583785, 0.0805577374989385, 0.5360925626417455, 0.13905799925412005, 0.9981922555050047, 0.9959800652549418, 0.9886842356128923, 0.20994236360739232, 0.7872838635277213, 0.3823575057950277, 0.6158859824356617, 0.9702952108911442, 0.9997044517091942, 0.9967142490427979, 0.9894604440075663, 0.2551507570511315, 0.7435550046900511, 0.9878190426773136, 0.9931346213574065, 0.9924580347128001, 0.6666510878506928, 0.31814756662351645, 0.0031106808604457106, 0.0119063991554991, 0.9824361230411227, 0.9944694651235577, 0.9738864406304607, 0.025855392229127278, 0.9658481048944502, 0.034087214235449574, 0.9986887797903476, 0.9988662247112939, 0.9865489431858829, 0.918181457669684, 0.08163277233767989, 0.9996604259097855, 0.9983827402332273, 0.9955765736488357, 0.9921580103969948, 0.03409900976566316, 0.964244220595697, 0.39931479386422847, 0.14567723415670727, 0.43391746231000217, 0.0031142401601196327, 0.017993387591802322, 0.9943822245523132, 0.9996339791461777, 0.9930953869449012, 0.9871162710252248, 0.9873133348111301, 0.18369958544961373, 0.8146126444420801, 0.9593607436586221, 0.9980508194759937, 0.9978478476980339, 0.9946927068076163, 0.23293614317199754, 0.665632675791496, 0.10093899537453227, 0.9893607677796858, 0.15674551555979593, 0.48080882485497517, 0.006894964027557005, 0.1245690167645299, 0.2307514627889078, 0.9940158058384623, 0.9981631079879876, 0.9972306740952701, 0.9934191250568685, 0.47467254715301127, 0.5240652813364816, 0.9998093006596561, 0.9936267298216015, 0.15016095981381203, 0.8476828376586163, 0.9924009598877811, 0.9929666582632439, 0.9980783209316367, 0.9993003490633553, 0.9937885863919135, 0.9981422830475674, 0.9994501343368176, 0.9989577221586589, 0.9905384943433304, 0.996866279282413, 0.979510989550566, 0.970122580293444, 0.05885563825927232, 0.708686383971238, 0.1193237597585247, 0.10803637707866426, 0.0048374497199401905, 0.9196469269477612, 0.07866859254613379, 0.9950632485269122, 0.6743200165429314, 0.3245904465595909, 0.9995939020968604, 0.9947723020026966, 0.9936248870540376, 0.9988107818560662, 0.9946078161199906, 0.9988422071721968, 0.996584441032155, 0.9419277592447686, 0.05699870543122189, 0.9963707498625793, 0.9985078416779226, 0.9976477724007048, 0.9952111846155796, 0.995467305497741, 0.998052497126733, 0.1832843048859367, 0.3765027184377778, 0.16887984732037525, 0.27120116657919086, 0.9594098414737233, 0.877176632405891, 0.9901111508166388, 0.6286309259758714, 0.37011110730532076, 0.9963600162895768, 0.9701481690958558, 0.8628642628455655, 0.9793202733524624, 0.9992868449051854, 0.9993782567568816, 0.9982346952732113, 0.34537411479651736, 0.6539628209164825, 0.998999067179255, 0.9787168311896808, 0.8091337244093502, 0.19077875625379848, 0.9971350759658371, 0.9943310789438798, 0.10740046239531065, 0.8918907964132319, 0.9986315268770288, 0.9994352116452448, 0.1520067496156338, 0.6346673566425948, 0.131634711007353, 0.08070461448665094, 0.9912278175327305, 0.9982691268717828, 0.9365536942946215, 0.9991070179242847, 0.9974353329661508, 0.7203998028533884, 0.27870671105866385, 0.001580551074437702, 0.9983814286864818, 0.9954244049544714, 0.020521232987614536, 0.11140097907562176, 0.8618917854798105, 0.005276888482529452, 0.9965038783558534, 0.9994318009574533, 0.9978294151273303, 0.9981464470092678, 0.5731352977920421, 0.3918894596602645, 0.0051020946390982974, 0.029640740284285347, 0.22885673964743972, 0.7703159028511614, 0.9979288344459893, 0.001456121840144926, 0.9993969874408063, 0.40797869654226654, 0.5912607027642783, 0.9910530722574133, 0.6092245682180126, 0.2870517938312742, 0.10342713958853234, 0.9970895112861418, 0.9992512064161687, 0.9688810086006582, 0.5610946647765387, 0.4289118354789385, 0.009747996260884966, 0.9941573855425849, 0.9990208315306435, 0.0008274932931859549, 0.7868154545343371, 0.21266497713985225, 0.9985209412952768, 0.9977749760996869, 0.7568841097958231, 0.07345288829242165, 0.1692610034564499, 0.9949680760996358, 0.9972452161806511, 0.9942167293428065, 0.9978634888121432, 0.9973482068260039, 0.9937063169403754, 0.9990829446928784, 0.9969539876361246, 0.9969219814668062, 0.9961414210139334, 0.998152687029789, 0.1065084303442158, 0.2813211801483091, 0.610108073819584, 0.9988607899795187, 0.36192084116277795, 0.6377459756172299, 0.9839507396387995, 0.28399701901889834, 0.7140496478189444, 0.9149660069526028, 0.08317872790478208, 0.996639396893146, 0.995550166994757, 0.995816324679648, 0.997786045381123, 0.9949190751531495, 0.0847974518380896, 0.4756607064042838, 0.4385618212251196, 0.1500009720177907, 0.7029896300535265, 0.1466427413009745, 0.9944531222970465, 0.9894882768172837, 0.9990431466422164, 0.9975511086400833, 0.8897825497645884, 0.10922847852282534, 0.9965938240197546, 0.9933415688783275, 0.9935660242038867, 0.9966537719853887, 0.9954869821692787, 0.998398056581779, 0.9982803868915237, 0.995327768037477, 0.9995738947163363, 0.4147792128005795, 0.5839440682172864, 0.9910795407197744, 0.963969134275978, 0.03386918579888571, 0.6253471581043193, 0.006359462624789688, 0.366729011362872, 0.7894291149154593, 0.18838649333209825, 0.017941570793533167, 0.3016869602577998, 0.47588546784983904, 0.12363165913973756, 0.07220774545943077, 0.026569022068158504, 0.060812984647416884, 0.7061567470998558, 0.232360060742369, 0.22543307920558348, 0.773287887972641, 0.9996691963586215, 0.2804204773421159, 0.17836018112661264, 0.1285567192714512, 0.27600440683279126, 0.1364075112880284, 0.7069855835939757, 0.2539971089799867, 0.03801867554795979, 0.9984690284545927, 0.08793847112147464, 0.91172337478845, 0.9984973755101205, 0.980905941098674, 0.9998116788898981, 0.9915260320863304, 0.9974802200049859, 0.9858884694612897, 0.9977425139214156, 0.9942356490756934, 0.21808623519685802, 0.10590969467893392, 0.14727087721626905, 0.5210882315120329, 0.007520215006788207, 0.9982114945205649, 0.12540590356766693, 0.8702409671816886, 0.9979594045280777, 0.9920526294720375, 0.9973666723782938, 0.10043082294909232, 0.14399117989086732, 0.043560356941774986, 0.7114858300489915, 0.9985806345996762, 0.9969971657686213, 0.9966169788354802, 0.943585544669137, 0.9215044134750482, 0.9981431093925417, 0.5355240648641317, 0.46226841448177414, 0.985300019113515, 0.9898529185372485, 0.9595272950261764, 0.9675035276304467, 0.9959791948691604, 0.9998703471105507, 0.9938201722673836, 0.9521694557952629, 0.045887684616639175, 0.9976588406342354, 0.9907556230480059, 0.8420182579126245, 0.9988308257938728, 0.6352934943285654, 0.3642452919805589, 0.9974605067278328, 0.9968202006880643, 0.9912329079721401, 0.7709018117654548, 0.03324415841861378, 0.16851766122017311, 0.02719976597886582, 0.9981183157413919, 0.4138048676592875, 0.22077463695374255, 0.3648094268380024, 0.9985004449102606, 0.877176632405891, 0.11057502477836186, 0.8886456259626886, 0.9977575048902062, 0.9980456250793026, 0.9893098039577156, 0.9953147724082826, 0.9915138695926212, 0.9991583383039933, 0.998597805351647, 0.9908784412029444, 0.9945225721794199, 0.8616933991454863, 0.061673870992231046, 0.07634628384925375, 0.9975494462843245, 0.16360152815458734, 0.8347872846862276, 0.962790782791411, 0.03565891788116337, 0.9725523840917407, 0.9972478398576178, 0.9846713708487331, 0.052408426216744956, 0.632856467522958, 0.23501388611659843, 0.07943667118387128, 0.9844661581093724, 0.14663321109753627, 0.09870640280106528, 0.7542766734277937, 0.9922070451049065, 0.4518876637887571, 0.5472194466810697, 0.9971748313514314, 0.9987547360538135, 0.9945826891085633, 0.9994996114096215, 0.643488057885053, 0.05632333489377061, 0.11965687026788177, 0.18033136408048445, 0.9977878700491549, 0.15629365381150415, 0.8425204775776395, 0.9805836495723645, 0.01800506701192195, 0.9995325363101919, 0.9968025700480949, 0.9951081831306651, 0.9952429662602933, 0.9958042312682642, 0.9980123643565194, 0.8533800529767561, 0.1454625090301289, 0.9733644931162475, 0.02598204776484299, 0.5837343799500643, 0.4157730725116024, 0.9994233043008771, 0.260810940648409, 0.381028483603535, 0.06956898974885016, 0.2884638863644791, 0.9942769020145465, 0.9966125022512731, 0.7577608860249778, 0.9976728948178871, 0.7796732176637796, 0.219283092467938, 0.2669539743782117, 0.366339436700836, 0.27311741390209543, 0.0932220227987406, 0.9977020941000594, 0.0019113066936782747, 0.363528612020387, 0.6362522861189441, 0.9535724715089056, 0.09708299184089715, 0.025390936327619254, 0.8767340955477942, 0.9938548766707931, 0.9959329172709627, 0.003502829033081245, 0.993052030878533, 0.9963893414776516, 0.39094661822607063, 0.6041902281675637, 0.9908074774080614, 0.9940096159305057, 0.98168802924874, 0.012680815116922468, 0.5642962727030498, 0.42163710263767207, 0.9984731407169469, 0.9727991772820432, 0.0252020512249234, 0.9705554379748921, 0.9992363966055793, 0.4584389061820854, 0.5401243840108932, 0.9793576386061407, 0.020333734672020893, 0.939060680477558, 0.029408306007838114, 0.030745047190012576, 0.9977092015125795, 0.29218065089834233, 0.5938082512483632, 0.026991284147652873, 0.0863721092724892, 0.9955244228484189, 0.2185331442281408, 0.7802247599149283, 0.9972835467966839, 0.9785681860983467, 0.9954105830097598, 0.997722879649329, 0.986244930097255, 0.9894678081289262, 0.9968495534449974, 0.4407810210366807, 0.5556063290378328, 0.9968302018001924, 0.9960976453552731, 0.9870510924137827, 0.6666767729425016, 0.3332173925015698, 0.9953813781916686, 0.9758859973173495, 0.9829122575034434, 0.9985992711798586, 0.9947371542358465, 0.049523649810998376, 0.45186485448668706, 0.3063699081475427, 0.19194259305629183, 0.9996818253743318, 0.039710960891253526, 0.9185317910498643, 0.039710960891253526, 0.9988972911216527, 0.9956802869106618, 0.9935909395657505, 0.9088152422095355, 0.0899686394926056, 0.001099861118491511, 0.9936638021013623, 0.9982005049305566, 0.9917171541567867, 0.11484615489359058, 0.8839388479105046, 0.9827126799183387, 0.9980160750231699, 0.9985377324248371, 0.9967016578673823, 0.9984190093621409, 0.9984191733975464, 0.37676040752557166, 0.5988803492757221, 0.02319606986631318, 0.9966740819660816, 0.16350061016828993, 0.172647497450432, 0.6631493279553018, 0.9973453237802036, 0.8243557704066058, 0.17426411338430497, 0.9998205795281359, 0.9994880348720988, 0.14657557834892548, 0.4100912355991795, 0.442930572824895, 0.00737604691797658, 0.3213190438643548, 0.04471728444023302, 0.615438914718671, 0.010603067444591335, 0.14179965000733735, 0.8578878825443909, 0.9929629778920885, 0.9972762343094597, 0.9985074463176731, 0.9963836029276604, 0.8946513150037534, 0.10413451541035591, 0.9958276317523319, 0.48342481678219923, 0.4499745687963219, 0.06598405082145657, 0.9932162386901687, 0.9820339568579096, 0.9930175917858909, 0.9044873442460183, 0.9903056583410464, 0.9977695895718627, 0.9819168324252989, 0.9714137861731016, 0.997940699988868, 0.25687484483840206, 0.06181480223384007, 0.6511159168631153, 0.030220569980988477, 0.9613071402010432, 0.9921597755116713, 0.9870042212902492, 0.12147067951114046, 0.8768228360114506, 0.1528991305749115, 0.8455506136612576, 0.228261364619455, 0.7714827724081877, 0.9913954123484245, 0.9986408322530587, 0.9952760564834074, 0.8899753587678899, 0.10845577848784321, 0.993126328095622, 0.9936860591907276, 0.8543843658822676, 0.041988975246350764, 0.10223402668676708, 0.6591762152952934, 0.05488860314132015, 0.2570017773252467, 0.02821376796983746, 0.9923228050805334, 0.08113478107334678, 0.9182982039665158, 0.9729828847388082, 0.20495797456814424, 0.7414041018817055, 0.05228519759391435, 0.9900816650612754, 0.6289213900468825, 0.36861253676463807, 0.992548426585422, 0.904881372230738, 0.09332327468176017, 0.16751426673248299, 0.7089277807573588, 0.12309059378685212, 0.9986020345124387, 0.16991344197616529, 0.13599597947036646, 0.6936773341330202, 0.8682273676603656, 0.13038750221047893, 0.9920269005230248, 0.9829205639879343, 0.016996786794493346, 0.9988452699634928, 0.17061510084157466, 0.8229669570005367, 0.9964710884392407, 0.9666139795256348, 0.172599910039133, 0.8258426251177962, 0.9880561752329798, 0.9951190271460103, 0.09961682629827709, 0.10565420971029388, 0.7939159186802083, 0.20527742737109078, 0.481322867601164, 0.09987825928324466, 0.07126991365940072, 0.1415360257179648, 0.9181102269278512, 0.08160136369966432, 0.23207626989860022, 0.762536315381115, 0.4545037016209673, 0.5425637938100297, 0.9864454412452944, 0.7323660154227007, 0.2673495350738812, 0.9948804790648699, 0.004745385943279139, 0.9994140710170838, 0.9968415038874467, 0.9980663538400905, 0.9739797579065528, 0.9944086457704167, 0.9758735644014147, 0.9954152597706626, 0.9993450846904999, 0.06797224985588952, 0.9316196597895446, 0.992452525551697, 0.9927880542328239, 0.9995942048628288, 0.9947251614554857, 0.9982577385379126, 0.9796213712964771, 0.5929981767981007, 0.249971539142584, 0.15691644062965127, 0.9996728084351076, 0.9627060323096417, 0.034614149476301724, 0.9928629783647603, 0.9997518704988063, 0.9999085365575736, 0.9965478158893395, 0.9960542862641889, 0.9876465928107572, 0.9282685687360334, 0.07154285693533975, 0.9919265987252913, 0.9982765294920533, 0.9974698432817768, 0.9987851669855577, 0.993599886646323, 0.9925987468861557, 0.9973629937970474, 0.9943846806085432, 0.37171898096622064, 0.6263611175336317, 0.9864879198215135, 0.9970112382529481, 0.9983353255219566, 0.9804466086497442, 0.9852200843214542, 0.9910144123806993, 0.9961231777577422, 0.27532043001604173, 0.7234281643869785, 0.997114035582339, 0.7353888045851392, 0.2326749797417184, 0.031783547806220135, 0.9892966541827913, 0.9972881383388742, 0.9973973240608097, 0.9988747702071854, 0.961279152893622, 0.43568078410372935, 0.2097960644280883, 0.35459396165606333, 0.910212322255023, 0.9986288601600399, 0.7077623670495808, 0.2892594021854809, 0.999371593502032, 0.997412510241778, 0.9943052609576867, 0.9919097461895864, 0.22214788508005057, 0.16220321767749724, 0.3163924423867387, 0.1556317434435275, 0.14329019427241357, 0.995887024663842, 0.0874673615756226, 0.7494362571365846, 0.09740683448194334, 0.06560052118171694, 0.9949563314223765, 0.9916311688275626, 0.46840050645086473, 0.012267632311808363, 0.5185862749991716, 0.9972131590969815, 0.9929608768434127, 0.9107754947752097, 0.9049201914375521, 0.09389154043538107, 0.9976330626539773, 0.9992097495945755, 0.9978245306614903, 0.9945139004159215, 0.9961480792831118, 0.9135000282869686, 0.9984265800573351, 0.7259166989023732, 0.2738594717587562, 0.7131491562105131, 0.2862640979154877, 0.7719373165262988, 0.22231794715957406, 0.9968906706736032, 0.9794793986070736, 0.9974150089451174, 0.9978426478259181, 0.9956338489608766, 0.00397723241928446, 0.9986335681497478, 0.15738971154739953, 0.8412208720636871, 0.9978616463345509, 0.9488108996566114, 0.051069141907862936, 0.9942237066901266, 0.32342468832883753, 0.10584807981671046, 0.5674633167951422, 0.9966937406063798, 0.918602396081884, 0.0806880483044898, 0.9995786847973144, 0.8875016723692792, 0.997757380327003, 0.9790061200281004, 0.9980208257108616, 0.5048088269282215, 0.4941250422313279, 0.38272770953545227, 0.6155760363157624, 0.10957953692357127, 0.8888117994911892, 0.3050877580798177, 0.6940746496315853, 0.7226725821934313, 0.05871844408864228, 0.047721703676281715, 0.17055321922566768, 0.9954748612568773, 0.9680897757495897, 0.16443157907658648, 0.8355068691887745, 0.9997273747199259], \"Term\": [\"_\", \"acceleration\", \"access\", \"access\", \"access\", \"accessible\", \"acquire\", \"act\", \"act\", \"activity\", \"actually\", \"adapter\", \"addition\", \"additional\", \"address\", \"address\", \"admin\", \"adobe\", \"advance\", \"advanced\", \"advice\", \"advice\", \"age\", \"age\", \"age\", \"agency\", \"aim\", \"air\", \"alarm\", \"algorithm\", \"also\", \"also\", \"also\", \"also\", \"also\", \"always\", \"american_express\", \"ammunition\", \"amp\", \"analysis\", \"annoy\", \"anywhere\", \"apparently\", \"apple\", \"application\", \"appreciate\", \"appreciated\", \"arab\", \"argument\", \"argument\", \"armenian\", \"article\", \"article\", \"article\", \"assembly\", \"assign\", \"associate\", \"assumption\", \"atf\", \"atheism\", \"atheist\", \"attack\", \"attack\", \"attack\", \"automate\", \"automatically\", \"available\", \"available\", \"average\", \"back\", \"back\", \"background\", \"bad\", \"band\", \"base\", \"base\", \"base\", \"base\", \"base\", \"baseball\", \"battery\", \"be\", \"bee\", \"belief\", \"believe\", \"believe\", \"bible\", \"bike\", \"bio\", \"birthday\", \"bit\", \"bj\", \"blank\", \"blind\", \"board\", \"board\", \"book\", \"book\", \"bottom\", \"brain\", \"brave\", \"break\", \"break\", \"break\", \"brief\", \"buffer\", \"bug\", \"build\", \"build\", \"build\", \"build\", \"build\", \"bury\", \"bus\", \"button\", \"buy\", \"buy\", \"buy\", \"cable\", \"caltech\", \"cap\", \"captain\", \"car\", \"card\", \"carry\", \"carry\", \"carry\", \"carrying\", \"case\", \"case\", \"case\", \"case\", \"case\", \"case_western\", \"cd\", \"channel\", \"character\", \"cheap\", \"cheap\", \"cheap\", \"cherry\", \"child\", \"child\", \"chip\", \"christian\", \"christianity\", \"church\", \"circuit\", \"citizen\", \"civilian\", \"civilian\", \"claim\", \"claim\", \"clearly\", \"clearly\", \"click\", \"clipper\", \"clock\", \"code\", \"code\", \"color\", \"colorado_boulder\", \"com\", \"com\", \"come\", \"communication\", \"community\", \"community\", \"community\", \"compile\", \"compound\", \"compression\", \"compute\", \"computer\", \"computer_science\", \"conclusion\", \"configuration\", \"conjecture\", \"connector\", \"contain\", \"contain\", \"context\", \"contrib\", \"controller\", \"cool\", \"copy\", \"copy\", \"copy\", \"corner\", \"corporation\", \"cost\", \"country\", \"course\", \"court\", \"cpu\", \"crash\", \"crime\", \"criminal\", \"cross\", \"cub\", \"cult\", \"curious\", \"customer\", \"cycle\", \"cylinder\", \"dark\", \"data\", \"datum\", \"datum\", \"datum\", \"daughter\", \"dealer\", \"death\", \"death\", \"debate\", \"debate\", \"decent\", \"default\", \"dept\", \"depth\", \"description\", \"design\", \"design\", \"design\", \"develop\", \"development\", \"diagnostic\", \"diet\", \"digital\", \"direct\", \"directory\", \"disclaimer\", \"discussion\", \"disease\", \"disk\", \"display\", \"distribution\", \"distribution_inet\", \"distribution_usa\", \"division\", \"do\", \"do\", \"do\", \"doctor\", \"dog\", \"drive\", \"drive\", \"driver\", \"drug\", \"dry\", \"dual\", \"dump\", \"duo\", \"early\", \"early\", \"early\", \"earth\", \"earth\", \"eat\", \"ed\", \"electrical\", \"email\", \"email\", \"email\", \"enable\", \"encryption\", \"encryption\", \"engine\", \"engineering\", \"engineering\", \"enough\", \"ensure\", \"entry\", \"environmental\", \"eric\", \"eric_bosco\", \"error\", \"error\", \"error\", \"escape\", \"even\", \"evidence\", \"evidently\", \"exactly\", \"exactly\", \"excuse\", \"exist\", \"exist\", \"expansion\", \"expansion\", \"export\", \"express_access\", \"external\", \"extra\", \"extra\", \"extra\", \"facility\", \"fact\", \"fact\", \"fact\", \"fairly\", \"faith\", \"false\", \"family\", \"fan\", \"faq\", \"far\", \"far\", \"fast\", \"fast\", \"father\", \"feature\", \"fee\", \"feel\", \"field\", \"field\", \"file\", \"final\", \"find\", \"find\", \"find\", \"find\", \"find\", \"fine\", \"fine\", \"fine\", \"finger\", \"finish\", \"finish\", \"finland\", \"fire\", \"fire\", \"fire\", \"firearm\", \"first\", \"first\", \"flight\", \"floor\", \"floppy\", \"floppy_disk\", \"flyer\", \"follow\", \"follow\", \"follow\", \"follow\", \"follow\", \"follow\", \"follow\", \"font\", \"force\", \"force\", \"force\", \"force\", \"format\", \"freedom\", \"ftp_site\", \"fuel\", \"fuel\", \"function\", \"function\", \"functionality\", \"game\", \"gateway\", \"gear\", \"general\", \"general\", \"generic\", \"genocide\", \"german\", \"get\", \"get\", \"get\", \"get\", \"giant\", \"girl\", \"give\", \"give\", \"go\", \"go\", \"goal\", \"god\", \"going\", \"good\", \"good\", \"government\", \"graphic\", \"greatly_appreciate\", \"green\", \"ground\", \"ground\", \"group\", \"group\", \"group\", \"group\", \"group\", \"guilty\", \"gun\", \"gun_control\", \"hair\", \"hang\", \"hardware\", \"hardware\", \"hassle\", \"health\", \"hell\", \"helmet\", \"help\", \"help\", \"help\", \"hence\", \"high\", \"high\", \"high\", \"high\", \"high\", \"highway\", \"hit\", \"hole\", \"holy\", \"home\", \"home\", \"host\", \"hr\", \"human\", \"human\", \"human_being\", \"icon\", \"ide\", \"idea\", \"ie\", \"ignore\", \"ill\", \"image\", \"implementation\", \"imply\", \"impressive\", \"incline\", \"include\", \"include\", \"include\", \"include\", \"include\", \"increase\", \"increase\", \"industry\", \"info\", \"info\", \"information\", \"inhabitant\", \"innocent\", \"input\", \"insert\", \"instal\", \"insurance\", \"interested\", \"interested\", \"interface\", \"internal\", \"interpretation\", \"invasion\", \"islamic\", \"israeli\", \"issue\", \"issue\", \"issue\", \"issue\", \"ist\", \"ists_ca\", \"jack\", \"jewish\", \"jewish\", \"joke\", \"jon_livesey\", \"keen\", \"keith_allan\", \"key\", \"keyword\", \"kid\", \"kill\", \"kill\", \"kind\", \"kit\", \"know\", \"know\", \"knowledge\", \"koresh\", \"last\", \"last\", \"launch\", \"law\", \"lead\", \"lead\", \"lead\", \"lead\", \"leafs\", \"legal\", \"lemieux\", \"let\", \"library\", \"lie\", \"lie\", \"line\", \"line\", \"link\", \"list\", \"list\", \"list\", \"list\", \"listen\", \"little\", \"load\", \"logic\", \"look\", \"look\", \"look\", \"look\", \"lose\", \"lose\", \"lot\", \"lot\", \"love\", \"low\", \"low\", \"lunar\", \"m\", \"m\", \"m\", \"mac\", \"machine\", \"macintosh\", \"mail\", \"mail\", \"mail\", \"majority\", \"make\", \"make\", \"man\", \"man\", \"manager\", \"manual\", \"many\", \"many\", \"many\", \"map\", \"market\", \"massacre\", \"master\", \"material\", \"max\", \"maybe\", \"mb\", \"meaning\", \"medical\", \"medium\", \"member\", \"member\", \"member\", \"memory\", \"message\", \"message\", \"mid\", \"mile\", \"mile\", \"military\", \"military\", \"militia\", \"minority\", \"mirror\", \"mission\", \"mit\", \"mode\", \"mode\", \"mode\", \"model\", \"model\", \"model\", \"modem\", \"module\", \"money\", \"monitor\", \"month\", \"month\", \"moon\", \"moslem\", \"motherboard\", \"motif\", \"motto\", \"mount\", \"mouse\", \"mph\", \"much\", \"murder\", \"murder\", \"muslim\", \"nation\", \"nation\", \"nature\", \"nature\", \"nature\", \"necessarily\", \"necessarily\", \"necessarily\", \"need\", \"need\", \"need\", \"need\", \"need\", \"net\", \"net\", \"net\", \"network\", \"network\", \"never\", \"new\", \"new\", \"new\", \"new\", \"new\", \"news\", \"news\", \"news\", \"newsgroup\", \"next\", \"next\", \"nhl\", \"nist\", \"nntp_poste\", \"noise\", \"normal\", \"nose\", \"notice\", \"nuclear\", \"number\", \"number\", \"number\", \"number\", \"number\", \"object\", \"objective\", \"objective\", \"obtain\", \"occupation\", \"occupy\", \"offer\", \"offer\", \"offer\", \"offer\", \"office\", \"oil\", \"ok\", \"okay\", \"online_communication\", \"operate\", \"operation\", \"operation\", \"operator\", \"opinions_expresse\", \"oracle\", \"oracle_corporation\", \"orbit\", \"organization\", \"origin\", \"output\", \"output\", \"package\", \"panel\", \"parity\", \"patient\", \"pay\", \"pay\", \"pc\", \"pen\", \"penguin\", \"people\", \"people\", \"people\", \"people\", \"period\", \"person\", \"person\", \"person\", \"physical\", \"physics_laboratory\", \"pick\", \"pick\", \"picture\", \"pin\", \"pixel\", \"plane\", \"planetary\", \"play\", \"player\", \"please_respond\", \"plug\", \"point\", \"point\", \"point\", \"police\", \"policy\", \"policy\", \"political\", \"political\", \"poll\", \"port\", \"positively\", \"post\", \"post\", \"post\", \"post\", \"postscript\", \"power\", \"power\", \"power\", \"previously\", \"price\", \"price\", \"printer\", \"private\", \"pro\", \"probably\", \"problem\", \"problem\", \"problem\", \"problem\", \"processor\", \"produce\", \"produce\", \"product\", \"product\", \"program\", \"proof\", \"property\", \"proposal\", \"propose\", \"protect\", \"prove\", \"prove\", \"provide\", \"provide\", \"public\", \"public\", \"put\", \"question\", \"question\", \"question\", \"question\", \"quick\", \"race\", \"radio_shack\", \"ram\", \"rate\", \"rate\", \"read\", \"read\", \"read\", \"read\", \"really\", \"really\", \"reason\", \"reason\", \"rec\", \"receive\", \"receive\", \"receive\", \"receiver\", \"recommend\", \"record\", \"record\", \"red\", \"register\", \"register\", \"registration\", \"regularly\", \"related\", \"release\", \"release\", \"release\", \"religion\", \"religious\", \"religious\", \"reload\", \"remember\", \"replace\", \"replace\", \"reply\", \"reply\", \"report\", \"report\", \"report\", \"request\", \"require\", \"require\", \"require\", \"require\", \"requirement\", \"research\", \"research\", \"reserve_university\", \"reset\", \"resolution\", \"resource\", \"responce\", \"resurrection\", \"revelation\", \"review\", \"review\", \"ride\", \"rider\", \"rifle\", \"right\", \"right\", \"rob\", \"rom\", \"roman\", \"route\", \"routine\", \"run\", \"run\", \"run\", \"run\", \"s\", \"safety\", \"safety\", \"safety\", \"sale\", \"satellite\", \"saturn\", \"say\", \"say\", \"say\", \"scale\", \"scan\", \"schneider\", \"science\", \"science\", \"scope\", \"score\", \"screen\", \"scripture\", \"scsi\", \"season\", \"second\", \"second\", \"second\", \"secret\", \"section\", \"section\", \"section\", \"secure\", \"security\", \"security\", \"see\", \"seem\", \"sell\", \"sell\", \"sell\", \"send\", \"send\", \"send\", \"send\", \"send\", \"sense\", \"sense\", \"serial\", \"series\", \"serious\", \"server\", \"service\", \"service\", \"session\", \"set\", \"set\", \"set\", \"shape\", \"sho\", \"shuttle\", \"si\", \"sight\", \"signal\", \"simms\", \"sister\", \"site\", \"size\", \"size\", \"size\", \"size\", \"sk\", \"slaughter\", \"slight\", \"slow\", \"slow\", \"society\", \"society\", \"software\", \"software\", \"solar\", \"soldier\", \"solid\", \"solution\", \"solution\", \"son\", \"soul\", \"sound\", \"sound\", \"sound\", \"source\", \"source\", \"source\", \"source\", \"soviet\", \"space\", \"space\", \"spacecraft\", \"speak\", \"speak\", \"speak\", \"spec\", \"special\", \"special\", \"specification\", \"speed\", \"speed\", \"standard\", \"standard\", \"standard\", \"star\", \"state\", \"state\", \"state\", \"statement\", \"statement\", \"steve\", \"still\", \"still\", \"stop\", \"strange\", \"strange\", \"strip\", \"stroke\", \"study\", \"study\", \"suitable\", \"super\", \"supply\", \"supply\", \"supply\", \"support\", \"support\", \"support\", \"support\", \"support\", \"sure\", \"sure\", \"surface\", \"surface\", \"switch\", \"switch\", \"sy\", \"system\", \"system\", \"take\", \"take\", \"talk\", \"tap\", \"tape\", \"tar\", \"task\", \"tavare\", \"tax\", \"team\", \"technology\", \"technology\", \"technology_pasadena\", \"telescope\", \"tell\", \"telnet\", \"terrorism\", \"testing\", \"text\", \"text\", \"text\", \"thank\", \"therefore\", \"therefore\", \"thermal\", \"thing\", \"think\", \"third\", \"ticket\", \"tight\", \"time\", \"time\", \"tire\", \"tool\", \"topic\", \"total\", \"touch\", \"trace\", \"trade\", \"tradition\", \"transfer\", \"transfer\", \"translate\", \"treatment\", \"trial\", \"tricky\", \"trigger\", \"trivial\", \"troop\", \"true\", \"true\", \"trust\", \"try\", \"try\", \"try\", \"turbo\", \"turk\", \"turkish\", \"turn\", \"turning\", \"type\", \"type\", \"type\", \"unauthenticated_us\", \"unit\", \"universe\", \"universe\", \"university\", \"upgrade\", \"usa\", \"usage\", \"use\", \"use\", \"use\", \"use\", \"use\", \"usenet\", \"user\", \"user\", \"user\", \"user\", \"utility\", \"uunet\", \"value\", \"value\", \"value\", \"vehicle\", \"vendor\", \"verification\", \"version\", \"version\", \"version_pl\", \"video\", \"village\", \"violation\", \"violence\", \"vms_vnews\", \"vote\", \"want\", \"want\", \"war\", \"war\", \"warrant\", \"warrant\", \"warranty\", \"wash\", \"waste\", \"watch\", \"way\", \"way\", \"weapon\", \"week\", \"week\", \"weight\", \"well\", \"well\", \"western\", \"wide\", \"wide\", \"wide\", \"widget\", \"win\", \"win\", \"window\", \"windshield\", \"wing\", \"winter\", \"wire\", \"withdraw\", \"withdraw\", \"woman\", \"woman\", \"wonder\", \"wonder\", \"word\", \"word\", \"work\", \"work\", \"work\", \"work\", \"workstation\", \"worse\", \"write\", \"write\", \"year\"]}, \"R\": 30, \"lambda.step\": 0.01, \"plot.opts\": {\"xlab\": \"PC1\", \"ylab\": \"PC2\"}, \"topic.order\": [6, 12, 13, 11, 3, 4, 14, 1, 9, 5, 20, 10, 16, 2, 7, 15, 18, 19, 8, 17]};\n",
       "\n",
       "function LDAvis_load_lib(url, callback){\n",
       "  var s = document.createElement('script');\n",
       "  s.src = url;\n",
       "  s.async = true;\n",
       "  s.onreadystatechange = s.onload = callback;\n",
       "  s.onerror = function(){console.warn(\"failed to load library \" + url);};\n",
       "  document.getElementsByTagName(\"head\")[0].appendChild(s);\n",
       "}\n",
       "\n",
       "if(typeof(LDAvis) !== \"undefined\"){\n",
       "   // already loaded: just create the visualization\n",
       "   !function(LDAvis){\n",
       "       new LDAvis(\"#\" + \"ldavis_el296791406112963079042835510570\", ldavis_el296791406112963079042835510570_data);\n",
       "   }(LDAvis);\n",
       "}else if(typeof define === \"function\" && define.amd){\n",
       "   // require.js is available: use it to load d3/LDAvis\n",
       "   require.config({paths: {d3: \"https://d3js.org/d3.v5\"}});\n",
       "   require([\"d3\"], function(d3){\n",
       "      window.d3 = d3;\n",
       "      LDAvis_load_lib(\"https://cdn.jsdelivr.net/gh/bmabey/pyLDAvis@3.3.1/pyLDAvis/js/ldavis.v3.0.0.js\", function(){\n",
       "        new LDAvis(\"#\" + \"ldavis_el296791406112963079042835510570\", ldavis_el296791406112963079042835510570_data);\n",
       "      });\n",
       "    });\n",
       "}else{\n",
       "    // require.js not available: dynamically load d3 & LDAvis\n",
       "    LDAvis_load_lib(\"https://d3js.org/d3.v5.js\", function(){\n",
       "         LDAvis_load_lib(\"https://cdn.jsdelivr.net/gh/bmabey/pyLDAvis@3.3.1/pyLDAvis/js/ldavis.v3.0.0.js\", function(){\n",
       "                 new LDAvis(\"#\" + \"ldavis_el296791406112963079042835510570\", ldavis_el296791406112963079042835510570_data);\n",
       "            })\n",
       "         });\n",
       "}\n",
       "</script>"
      ]
     },
     "metadata": {},
     "execution_count": 22
    }
   ],
   "metadata": {}
  }
 ],
 "metadata": {
  "orig_nbformat": 4,
  "language_info": {
   "name": "python",
   "version": "3.9.6",
   "mimetype": "text/x-python",
   "codemirror_mode": {
    "name": "ipython",
    "version": 3
   },
   "pygments_lexer": "ipython3",
   "nbconvert_exporter": "python",
   "file_extension": ".py"
  },
  "kernelspec": {
   "name": "python3",
   "display_name": "Python 3.9.6 64-bit ('NLP': conda)"
  },
  "interpreter": {
   "hash": "86c899ea07089cc9d284ea9f9b0758fa4e79f644b216f9a03b961d7e004425f1"
  }
 },
 "nbformat": 4,
 "nbformat_minor": 2
}