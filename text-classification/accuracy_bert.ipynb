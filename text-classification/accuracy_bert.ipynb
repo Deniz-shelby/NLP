{
 "cells": [
  {
   "cell_type": "code",
   "execution_count": 1,
   "source": [
    "from datasets import load_dataset\n",
    "import datasets\n",
    "from transformers import (\n",
    "    AutoTokenizer,\n",
    "    AutoConfig,\n",
    "    AutoModelForSequenceClassification,\n",
    "    TrainingArguments,\n",
    "    Trainer,\n",
    ")\n",
    "import torch\n",
    "import numpy as np"
   ],
   "outputs": [],
   "metadata": {}
  },
  {
   "cell_type": "code",
   "execution_count": 3,
   "source": [
    "# load dataset\n",
    "ag_dataset = load_dataset('ag_news')\n",
    "\n",
    "# Create a train/dev/test splits\n",
    "ag_dev_dataset = load_dataset('ag_news', split='train[10%:11%]')\n",
    "ag_train_dataset = load_dataset('ag_news', split='train[:10%]')\n",
    "ag_test_dataset = load_dataset('ag_news', split='test[11%:12%]')\n",
    "\n",
    "# merge the splits in a single `datasets.DatasetDict` object\n",
    "ag_split = {split: data for split, data in zip(['train', 'test', 'dev'], [ag_train_dataset, ag_test_dataset, ag_dev_dataset])}\n",
    "ag_dataset_split =  datasets.DatasetDict(ag_split)\n",
    "\n",
    "# Count the number of labels.\n",
    "# Important: use all the splits to compute the labels. \n",
    "num_labels = len(set(ag_dataset_split['train'].unique('label') + \n",
    "                     ag_dataset_split['test'].unique('label') +\n",
    "                     ag_dataset_split['dev'].unique('label')))"
   ],
   "outputs": [
    {
     "output_type": "stream",
     "name": "stderr",
     "text": [
      "Using custom data configuration default\n",
      "Reusing dataset ag_news (/home/deniz/.cache/huggingface/datasets/ag_news/default/0.0.0/bc2bcb40336ace1a0374767fc29bb0296cdaf8a6da7298436239c54d79180548)\n",
      "Using custom data configuration default\n",
      "Reusing dataset ag_news (/home/deniz/.cache/huggingface/datasets/ag_news/default/0.0.0/bc2bcb40336ace1a0374767fc29bb0296cdaf8a6da7298436239c54d79180548)\n",
      "Using custom data configuration default\n",
      "Reusing dataset ag_news (/home/deniz/.cache/huggingface/datasets/ag_news/default/0.0.0/bc2bcb40336ace1a0374767fc29bb0296cdaf8a6da7298436239c54d79180548)\n",
      "Using custom data configuration default\n",
      "Reusing dataset ag_news (/home/deniz/.cache/huggingface/datasets/ag_news/default/0.0.0/bc2bcb40336ace1a0374767fc29bb0296cdaf8a6da7298436239c54d79180548)\n"
     ]
    }
   ],
   "metadata": {}
  },
  {
   "cell_type": "code",
   "execution_count": 82,
   "source": [
    "ag_dataset['train'].features['label'].names"
   ],
   "outputs": [
    {
     "output_type": "execute_result",
     "data": {
      "text/plain": [
       "['World', 'Sports', 'Business', 'Sci/Tech']"
      ]
     },
     "metadata": {},
     "execution_count": 82
    }
   ],
   "metadata": {}
  },
  {
   "cell_type": "code",
   "execution_count": 6,
   "source": [
    "model_pretrained = 'bert-base-uncased'\n",
    "tokenizer = AutoTokenizer.from_pretrained(model_pretrained)\n",
    "\n",
    "\"\"\"🤔 **Understanding BERT tokenizer**\"\"\"\n",
    "\n",
    "# Define a tokenization function for the dataset used a standard for text classification\n",
    "def tokenize(dataset):\n",
    "    sentences = dataset['text']\n",
    "    return tokenizer(sentences, \n",
    "                     padding='max_length',\n",
    "                     truncation=True)\n",
    "    \n",
    "# apply it \n",
    "ag_dataset_tokenized = ag_dataset_split.map(tokenize,\n",
    "                                            batched=True,\n",
    "                                            remove_columns=['text'],\n",
    "                                            desc='Tokenize data')"
   ],
   "outputs": [
    {
     "output_type": "stream",
     "name": "stderr",
     "text": [
      "Loading cached processed dataset at /home/deniz/.cache/huggingface/datasets/ag_news/default/0.0.0/bc2bcb40336ace1a0374767fc29bb0296cdaf8a6da7298436239c54d79180548/cache-202c20a3ee59b4d0.arrow\n",
      "Tokenize data: 100%|██████████| 1/1 [00:00<00:00, 13.46ba/s]\n",
      "Loading cached processed dataset at /home/deniz/.cache/huggingface/datasets/ag_news/default/0.0.0/bc2bcb40336ace1a0374767fc29bb0296cdaf8a6da7298436239c54d79180548/cache-0a9fc35bce44a8ca.arrow\n"
     ]
    }
   ],
   "metadata": {}
  },
  {
   "cell_type": "markdown",
   "source": [
    "# Assignment 1"
   ],
   "metadata": {}
  },
  {
   "cell_type": "code",
   "execution_count": 62,
   "source": [
    "# load model\n",
    "from transformers import BertForSequenceClassification\n",
    "\n",
    "checkpoint = 'bert-ag-news-classification'\n",
    "model = BertForSequenceClassification.from_pretrained(checkpoint)"
   ],
   "outputs": [
    {
     "output_type": "stream",
     "name": "stderr",
     "text": [
      "loading configuration file bert-ag-news-classification/config.json\n",
      "Model config BertConfig {\n",
      "  \"_name_or_path\": \"bert-base-uncased\",\n",
      "  \"architectures\": [\n",
      "    \"BertForSequenceClassification\"\n",
      "  ],\n",
      "  \"attention_probs_dropout_prob\": 0.1,\n",
      "  \"gradient_checkpointing\": false,\n",
      "  \"hidden_act\": \"gelu\",\n",
      "  \"hidden_dropout_prob\": 0.1,\n",
      "  \"hidden_size\": 768,\n",
      "  \"id2label\": {\n",
      "    \"0\": \"LABEL_0\",\n",
      "    \"1\": \"LABEL_1\",\n",
      "    \"2\": \"LABEL_2\",\n",
      "    \"3\": \"LABEL_3\"\n",
      "  },\n",
      "  \"initializer_range\": 0.02,\n",
      "  \"intermediate_size\": 3072,\n",
      "  \"label2id\": {\n",
      "    \"LABEL_0\": 0,\n",
      "    \"LABEL_1\": 1,\n",
      "    \"LABEL_2\": 2,\n",
      "    \"LABEL_3\": 3\n",
      "  },\n",
      "  \"layer_norm_eps\": 1e-12,\n",
      "  \"max_position_embeddings\": 512,\n",
      "  \"model_type\": \"bert\",\n",
      "  \"num_attention_heads\": 12,\n",
      "  \"num_hidden_layers\": 12,\n",
      "  \"pad_token_id\": 0,\n",
      "  \"position_embedding_type\": \"absolute\",\n",
      "  \"problem_type\": \"single_label_classification\",\n",
      "  \"torch_dtype\": \"float32\",\n",
      "  \"transformers_version\": \"4.9.2\",\n",
      "  \"type_vocab_size\": 2,\n",
      "  \"use_cache\": true,\n",
      "  \"vocab_size\": 30522\n",
      "}\n",
      "\n",
      "loading weights file bert-ag-news-classification/pytorch_model.bin\n",
      "All model checkpoint weights were used when initializing BertForSequenceClassification.\n",
      "\n",
      "All the weights of BertForSequenceClassification were initialized from the model checkpoint at bert-ag-news-classification.\n",
      "If your task is similar to the task the model of the checkpoint was trained on, you can already use BertForSequenceClassification for predictions without further training.\n"
     ]
    }
   ],
   "metadata": {}
  },
  {
   "cell_type": "code",
   "execution_count": 32,
   "source": [
    "test_data = ag_dataset_tokenized['test']\n",
    "display(test_data)\n",
    "print(type(test_data))"
   ],
   "outputs": [
    {
     "output_type": "display_data",
     "data": {
      "text/plain": [
       "Dataset({\n",
       "    features: ['attention_mask', 'input_ids', 'label', 'token_type_ids'],\n",
       "    num_rows: 76\n",
       "})"
      ]
     },
     "metadata": {}
    },
    {
     "output_type": "stream",
     "name": "stdout",
     "text": [
      "<class 'datasets.arrow_dataset.Dataset'>\n"
     ]
    }
   ],
   "metadata": {}
  },
  {
   "cell_type": "code",
   "execution_count": 31,
   "source": [
    "\n",
    "X = test_data.pop['label']\n",
    "y = test_data['label']\n",
    "\n"
   ],
   "outputs": [
    {
     "output_type": "error",
     "ename": "AttributeError",
     "evalue": "'Dataset' object has no attribute 'pop'",
     "traceback": [
      "\u001b[0;31m---------------------------------------------------------------------------\u001b[0m",
      "\u001b[0;31mAttributeError\u001b[0m                            Traceback (most recent call last)",
      "\u001b[0;32m<ipython-input-31-64cbc215b898>\u001b[0m in \u001b[0;36m<module>\u001b[0;34m\u001b[0m\n\u001b[1;32m      1\u001b[0m \u001b[0;31m# x = ['inpput_ids]\u001b[0m\u001b[0;34m\u001b[0m\u001b[0;34m\u001b[0m\u001b[0;34m\u001b[0m\u001b[0m\n\u001b[1;32m      2\u001b[0m \u001b[0;31m# y = ['label'] len 76\u001b[0m\u001b[0;34m\u001b[0m\u001b[0;34m\u001b[0m\u001b[0;34m\u001b[0m\u001b[0m\n\u001b[0;32m----> 3\u001b[0;31m \u001b[0mX\u001b[0m \u001b[0;34m=\u001b[0m \u001b[0mtest_data\u001b[0m\u001b[0;34m.\u001b[0m\u001b[0mpop\u001b[0m\u001b[0;34m[\u001b[0m\u001b[0;34m'label'\u001b[0m\u001b[0;34m]\u001b[0m\u001b[0;34m\u001b[0m\u001b[0;34m\u001b[0m\u001b[0m\n\u001b[0m\u001b[1;32m      4\u001b[0m \u001b[0my\u001b[0m \u001b[0;34m=\u001b[0m \u001b[0mtest_data\u001b[0m\u001b[0;34m[\u001b[0m\u001b[0;34m'label'\u001b[0m\u001b[0;34m]\u001b[0m\u001b[0;34m\u001b[0m\u001b[0;34m\u001b[0m\u001b[0m\n\u001b[1;32m      5\u001b[0m \u001b[0;34m\u001b[0m\u001b[0m\n",
      "\u001b[0;31mAttributeError\u001b[0m: 'Dataset' object has no attribute 'pop'"
     ]
    }
   ],
   "metadata": {}
  },
  {
   "cell_type": "code",
   "execution_count": 20,
   "source": [
    "test_trainer = Trainer(model) "
   ],
   "outputs": [],
   "metadata": {}
  },
  {
   "cell_type": "code",
   "execution_count": 44,
   "source": [
    "raw_pred = test_trainer.predict(test_data)\n",
    "print(raw_pred) "
   ],
   "outputs": [
    {
     "output_type": "stream",
     "name": "stderr",
     "text": [
      "***** Running Prediction *****\n",
      "  Num examples = 76\n",
      "  Batch size = 8\n",
      "69it [05:53,  3.07it/s]"
     ]
    },
    {
     "output_type": "stream",
     "name": "stdout",
     "text": [
      "PredictionOutput(predictions=array([[-2.5035717 , -2.9519646 ,  6.6624565 , -2.0078204 ],\n",
      "       [-2.536739  ,  7.585553  , -2.2686212 , -2.2535117 ],\n",
      "       [ 6.920326  , -3.1424928 , -1.7501704 , -2.3241503 ],\n",
      "       [-2.6477304 , -3.7205415 ,  6.2286735 , -0.59329695],\n",
      "       [-2.7142355 ,  7.541787  , -2.2311554 , -2.196851  ],\n",
      "       [ 7.079184  , -3.0627112 , -2.202116  , -1.9797345 ],\n",
      "       [-2.3463845 ,  7.655073  , -2.5317554 , -2.2617478 ],\n",
      "       [-2.8457031 ,  7.572767  , -2.117573  , -2.1961508 ],\n",
      "       [ 6.979641  , -2.9510245 , -1.8092418 , -2.5048544 ],\n",
      "       [-2.296682  , -2.5306756 , -1.6837465 ,  6.9158545 ],\n",
      "       [ 7.151075  , -3.085416  , -1.9056581 , -2.2572904 ],\n",
      "       [ 6.5139275 , -2.826248  , -2.6685624 , -0.99780065],\n",
      "       [ 7.106532  , -3.1863363 , -1.9037312 , -2.159581  ],\n",
      "       [-1.1108124 ,  6.6217904 , -1.5569422 , -3.228916  ],\n",
      "       [-1.2298164 , -2.609883  , -2.1834183 ,  6.597465  ],\n",
      "       [-2.5323946 ,  7.5350814 , -2.3839374 , -2.2075    ],\n",
      "       [ 2.8368506 , -3.0240958 , -3.6465776 ,  4.243035  ],\n",
      "       [-2.4012265 ,  7.6231894 , -2.2302132 , -2.4689007 ],\n",
      "       [-2.3618283 ,  7.5544357 , -2.3546379 , -2.4449873 ],\n",
      "       [-2.7084453 ,  7.472956  , -2.0463881 , -1.9864833 ],\n",
      "       [-2.456162  ,  7.6277914 , -2.3549383 , -2.3498337 ],\n",
      "       [-2.9166687 ,  7.59255   , -2.0530138 , -2.0950608 ],\n",
      "       [-2.3222861 ,  7.6443324 , -2.6080942 , -2.1917207 ],\n",
      "       [-2.395783  , -3.4508505 , -0.56052905,  6.6243434 ],\n",
      "       [ 7.072864  , -3.1267204 , -1.974876  , -2.119076  ],\n",
      "       [ 2.673215  , -3.7904603 ,  3.748234  , -3.3135011 ],\n",
      "       [-2.5071652 ,  7.5190263 , -2.552664  , -1.9669847 ],\n",
      "       [-2.437385  ,  7.5766773 , -2.402442  , -2.2882316 ],\n",
      "       [-1.4071857 , -3.1200948 ,  6.254114  , -2.4817693 ],\n",
      "       [-2.074331  , -2.6972096 ,  6.6482067 , -2.7873795 ],\n",
      "       [-0.44578162, -2.0722983 , -3.139692  ,  6.3420463 ],\n",
      "       [-2.5911074 , -3.0717475 ,  6.696728  , -1.8643699 ],\n",
      "       [ 7.112422  , -2.9124882 , -2.1222808 , -2.28771   ],\n",
      "       [ 7.155637  , -3.1367466 , -1.9863399 , -2.1899698 ],\n",
      "       [-2.3942814 ,  7.663751  , -2.474122  , -2.2666032 ],\n",
      "       [ 1.4166539 ,  2.3623393 , -0.06350566, -3.2263048 ],\n",
      "       [-2.6525054 ,  7.5072227 , -2.3072696 , -2.1789978 ],\n",
      "       [-3.761611  ,  6.6395125 , -0.90291166, -1.2302927 ],\n",
      "       [-3.0003603 ,  7.2291274 , -1.0870454 , -2.477836  ],\n",
      "       [-2.5986767 ,  7.53636   , -1.998498  , -2.4941723 ],\n",
      "       [-1.3669558 , -3.185813  ,  6.301151  , -2.638504  ],\n",
      "       [-2.6896667 , -3.7153924 ,  0.47521895,  6.2068677 ],\n",
      "       [-2.4481416 ,  7.5958257 , -2.275523  , -2.285944  ],\n",
      "       [ 6.992951  , -2.9374754 , -1.9259    , -2.2164872 ],\n",
      "       [-2.0408354 , -2.8014028 , -1.699224  ,  6.940991  ],\n",
      "       [ 4.3516216 , -2.1096857 , -2.7100024 ,  0.8536411 ],\n",
      "       [ 7.0587974 , -3.071913  , -1.9413768 , -2.112141  ],\n",
      "       [-2.0671372 , -3.573892  ,  6.607917  , -1.8807818 ],\n",
      "       [-0.9179983 ,  6.854151  , -1.8494774 , -3.2330842 ],\n",
      "       [-2.5007565 ,  7.6245856 , -2.2853546 , -2.3683002 ],\n",
      "       [-2.862384  ,  7.5299673 , -1.942644  , -2.358842  ],\n",
      "       [-2.7075696 , -3.2506409 , -0.28593925,  6.504754  ],\n",
      "       [-2.486805  ,  7.598988  , -2.313812  , -2.3696778 ],\n",
      "       [-2.998114  , -3.5672698 ,  6.274236  , -0.43644875],\n",
      "       [-2.708272  , -2.9700062 ,  6.7015414 , -1.8176675 ],\n",
      "       [-2.571324  ,  7.6254854 , -2.3068817 , -2.3098078 ],\n",
      "       [-2.0720618 , -3.5450985 , -0.82308185,  6.73302   ],\n",
      "       [ 5.7624574 , -3.7878213 , -2.7891247 ,  0.7654355 ],\n",
      "       [ 7.132553  , -3.0919409 , -2.0224118 , -2.1570456 ],\n",
      "       [-2.332728  , -3.0657496 ,  6.69303   , -2.1749442 ],\n",
      "       [ 5.6011653 , -2.6569476 , -0.82039034, -2.112171  ],\n",
      "       [ 7.0895557 , -3.2173452 , -2.028338  , -1.8986387 ],\n",
      "       [ 7.1029134 , -3.1194394 , -2.0688713 , -2.0075297 ],\n",
      "       [-2.397717  , -3.3431752 ,  6.6245494 , -1.7000566 ],\n",
      "       [ 0.43855408, -4.035604  ,  5.5535407 , -2.8128612 ],\n",
      "       [-2.5549414 ,  7.628049  , -2.3258467 , -2.30331   ],\n",
      "       [-1.8710399 , -3.9065108 ,  6.4749413 , -1.5750228 ],\n",
      "       [ 7.110234  , -3.007672  , -2.050494  , -2.2444942 ],\n",
      "       [-2.7708044 , -3.4729304 ,  0.12008619,  6.372848  ],\n",
      "       [-0.7365986 ,  6.833378  , -2.0374327 , -3.2418685 ],\n",
      "       [-1.9733741 , -2.9779332 ,  6.6751003 , -2.6566658 ],\n",
      "       [-1.8420775 , -3.5126834 ,  6.4908977 , -2.064381  ],\n",
      "       [ 7.0973234 , -2.830898  , -2.2896333 , -2.065131  ],\n",
      "       [-2.242497  , -3.0116258 ,  6.615081  , -2.363742  ],\n",
      "       [-2.1908717 , -3.124712  , -1.1043857 ,  6.803455  ],\n",
      "       [-2.5482204 , -2.7256954 ,  6.730156  , -2.3213809 ]],\n",
      "      dtype=float32), label_ids=array([2, 1, 0, 3, 1, 0, 1, 1, 0, 3, 0, 0, 0, 1, 3, 1, 0, 1, 1, 1, 1, 1,\n",
      "       1, 3, 0, 2, 1, 1, 2, 2, 3, 2, 0, 0, 1, 1, 1, 1, 1, 1, 2, 2, 1, 0,\n",
      "       3, 2, 0, 2, 1, 1, 1, 2, 1, 2, 2, 1, 2, 0, 0, 2, 0, 0, 0, 2, 2, 1,\n",
      "       2, 0, 3, 1, 2, 2, 0, 2, 3, 2]), metrics={'test_loss': 0.4783497750759125, 'test_runtime': 1.3819, 'test_samples_per_second': 54.998, 'test_steps_per_second': 7.237})\n"
     ]
    }
   ],
   "metadata": {}
  },
  {
   "cell_type": "code",
   "execution_count": 47,
   "source": [
    "raw_pred.predictions"
   ],
   "outputs": [
    {
     "output_type": "execute_result",
     "data": {
      "text/plain": [
       "array([[-2.5035717 , -2.9519646 ,  6.6624565 , -2.0078204 ],\n",
       "       [-2.536739  ,  7.585553  , -2.2686212 , -2.2535117 ],\n",
       "       [ 6.920326  , -3.1424928 , -1.7501704 , -2.3241503 ],\n",
       "       [-2.6477304 , -3.7205415 ,  6.2286735 , -0.59329695],\n",
       "       [-2.7142355 ,  7.541787  , -2.2311554 , -2.196851  ],\n",
       "       [ 7.079184  , -3.0627112 , -2.202116  , -1.9797345 ],\n",
       "       [-2.3463845 ,  7.655073  , -2.5317554 , -2.2617478 ],\n",
       "       [-2.8457031 ,  7.572767  , -2.117573  , -2.1961508 ],\n",
       "       [ 6.979641  , -2.9510245 , -1.8092418 , -2.5048544 ],\n",
       "       [-2.296682  , -2.5306756 , -1.6837465 ,  6.9158545 ],\n",
       "       [ 7.151075  , -3.085416  , -1.9056581 , -2.2572904 ],\n",
       "       [ 6.5139275 , -2.826248  , -2.6685624 , -0.99780065],\n",
       "       [ 7.106532  , -3.1863363 , -1.9037312 , -2.159581  ],\n",
       "       [-1.1108124 ,  6.6217904 , -1.5569422 , -3.228916  ],\n",
       "       [-1.2298164 , -2.609883  , -2.1834183 ,  6.597465  ],\n",
       "       [-2.5323946 ,  7.5350814 , -2.3839374 , -2.2075    ],\n",
       "       [ 2.8368506 , -3.0240958 , -3.6465776 ,  4.243035  ],\n",
       "       [-2.4012265 ,  7.6231894 , -2.2302132 , -2.4689007 ],\n",
       "       [-2.3618283 ,  7.5544357 , -2.3546379 , -2.4449873 ],\n",
       "       [-2.7084453 ,  7.472956  , -2.0463881 , -1.9864833 ],\n",
       "       [-2.456162  ,  7.6277914 , -2.3549383 , -2.3498337 ],\n",
       "       [-2.9166687 ,  7.59255   , -2.0530138 , -2.0950608 ],\n",
       "       [-2.3222861 ,  7.6443324 , -2.6080942 , -2.1917207 ],\n",
       "       [-2.395783  , -3.4508505 , -0.56052905,  6.6243434 ],\n",
       "       [ 7.072864  , -3.1267204 , -1.974876  , -2.119076  ],\n",
       "       [ 2.673215  , -3.7904603 ,  3.748234  , -3.3135011 ],\n",
       "       [-2.5071652 ,  7.5190263 , -2.552664  , -1.9669847 ],\n",
       "       [-2.437385  ,  7.5766773 , -2.402442  , -2.2882316 ],\n",
       "       [-1.4071857 , -3.1200948 ,  6.254114  , -2.4817693 ],\n",
       "       [-2.074331  , -2.6972096 ,  6.6482067 , -2.7873795 ],\n",
       "       [-0.44578162, -2.0722983 , -3.139692  ,  6.3420463 ],\n",
       "       [-2.5911074 , -3.0717475 ,  6.696728  , -1.8643699 ],\n",
       "       [ 7.112422  , -2.9124882 , -2.1222808 , -2.28771   ],\n",
       "       [ 7.155637  , -3.1367466 , -1.9863399 , -2.1899698 ],\n",
       "       [-2.3942814 ,  7.663751  , -2.474122  , -2.2666032 ],\n",
       "       [ 1.4166539 ,  2.3623393 , -0.06350566, -3.2263048 ],\n",
       "       [-2.6525054 ,  7.5072227 , -2.3072696 , -2.1789978 ],\n",
       "       [-3.761611  ,  6.6395125 , -0.90291166, -1.2302927 ],\n",
       "       [-3.0003603 ,  7.2291274 , -1.0870454 , -2.477836  ],\n",
       "       [-2.5986767 ,  7.53636   , -1.998498  , -2.4941723 ],\n",
       "       [-1.3669558 , -3.185813  ,  6.301151  , -2.638504  ],\n",
       "       [-2.6896667 , -3.7153924 ,  0.47521895,  6.2068677 ],\n",
       "       [-2.4481416 ,  7.5958257 , -2.275523  , -2.285944  ],\n",
       "       [ 6.992951  , -2.9374754 , -1.9259    , -2.2164872 ],\n",
       "       [-2.0408354 , -2.8014028 , -1.699224  ,  6.940991  ],\n",
       "       [ 4.3516216 , -2.1096857 , -2.7100024 ,  0.8536411 ],\n",
       "       [ 7.0587974 , -3.071913  , -1.9413768 , -2.112141  ],\n",
       "       [-2.0671372 , -3.573892  ,  6.607917  , -1.8807818 ],\n",
       "       [-0.9179983 ,  6.854151  , -1.8494774 , -3.2330842 ],\n",
       "       [-2.5007565 ,  7.6245856 , -2.2853546 , -2.3683002 ],\n",
       "       [-2.862384  ,  7.5299673 , -1.942644  , -2.358842  ],\n",
       "       [-2.7075696 , -3.2506409 , -0.28593925,  6.504754  ],\n",
       "       [-2.486805  ,  7.598988  , -2.313812  , -2.3696778 ],\n",
       "       [-2.998114  , -3.5672698 ,  6.274236  , -0.43644875],\n",
       "       [-2.708272  , -2.9700062 ,  6.7015414 , -1.8176675 ],\n",
       "       [-2.571324  ,  7.6254854 , -2.3068817 , -2.3098078 ],\n",
       "       [-2.0720618 , -3.5450985 , -0.82308185,  6.73302   ],\n",
       "       [ 5.7624574 , -3.7878213 , -2.7891247 ,  0.7654355 ],\n",
       "       [ 7.132553  , -3.0919409 , -2.0224118 , -2.1570456 ],\n",
       "       [-2.332728  , -3.0657496 ,  6.69303   , -2.1749442 ],\n",
       "       [ 5.6011653 , -2.6569476 , -0.82039034, -2.112171  ],\n",
       "       [ 7.0895557 , -3.2173452 , -2.028338  , -1.8986387 ],\n",
       "       [ 7.1029134 , -3.1194394 , -2.0688713 , -2.0075297 ],\n",
       "       [-2.397717  , -3.3431752 ,  6.6245494 , -1.7000566 ],\n",
       "       [ 0.43855408, -4.035604  ,  5.5535407 , -2.8128612 ],\n",
       "       [-2.5549414 ,  7.628049  , -2.3258467 , -2.30331   ],\n",
       "       [-1.8710399 , -3.9065108 ,  6.4749413 , -1.5750228 ],\n",
       "       [ 7.110234  , -3.007672  , -2.050494  , -2.2444942 ],\n",
       "       [-2.7708044 , -3.4729304 ,  0.12008619,  6.372848  ],\n",
       "       [-0.7365986 ,  6.833378  , -2.0374327 , -3.2418685 ],\n",
       "       [-1.9733741 , -2.9779332 ,  6.6751003 , -2.6566658 ],\n",
       "       [-1.8420775 , -3.5126834 ,  6.4908977 , -2.064381  ],\n",
       "       [ 7.0973234 , -2.830898  , -2.2896333 , -2.065131  ],\n",
       "       [-2.242497  , -3.0116258 ,  6.615081  , -2.363742  ],\n",
       "       [-2.1908717 , -3.124712  , -1.1043857 ,  6.803455  ],\n",
       "       [-2.5482204 , -2.7256954 ,  6.730156  , -2.3213809 ]],\n",
       "      dtype=float32)"
      ]
     },
     "metadata": {},
     "execution_count": 47
    }
   ],
   "metadata": {}
  },
  {
   "cell_type": "code",
   "execution_count": 48,
   "source": [
    "y_pred = np.argmax(raw_pred.predictions, axis=1)"
   ],
   "outputs": [],
   "metadata": {}
  },
  {
   "cell_type": "code",
   "execution_count": 38,
   "source": [
    "y_true = test_data['label']\n",
    "print(y_true)"
   ],
   "outputs": [
    {
     "output_type": "stream",
     "name": "stdout",
     "text": [
      "[2, 1, 0, 3, 1, 0, 1, 1, 0, 3, 0, 0, 0, 1, 3, 1, 0, 1, 1, 1, 1, 1, 1, 3, 0, 2, 1, 1, 2, 2, 3, 2, 0, 0, 1, 1, 1, 1, 1, 1, 2, 2, 1, 0, 3, 2, 0, 2, 1, 1, 1, 2, 1, 2, 2, 1, 2, 0, 0, 2, 0, 0, 0, 2, 2, 1, 2, 0, 3, 1, 2, 2, 0, 2, 3, 2]\n"
     ]
    }
   ],
   "metadata": {}
  },
  {
   "cell_type": "code",
   "execution_count": null,
   "source": [],
   "outputs": [],
   "metadata": {}
  },
  {
   "cell_type": "markdown",
   "source": [
    "# Confusion Matrix"
   ],
   "metadata": {}
  },
  {
   "cell_type": "code",
   "execution_count": 49,
   "source": [
    "from sklearn.metrics import confusion_matrix\n",
    "\n",
    "confusion_matrix(y_true, y_pred)"
   ],
   "outputs": [
    {
     "output_type": "execute_result",
     "data": {
      "text/plain": [
       "array([[18,  0,  0,  1],\n",
       "       [ 0, 28,  0,  0],\n",
       "       [ 1,  0, 17,  3],\n",
       "       [ 0,  0,  1,  7]])"
      ]
     },
     "metadata": {},
     "execution_count": 49
    }
   ],
   "metadata": {}
  },
  {
   "cell_type": "markdown",
   "source": [
    "# Balanced Accuracy_score"
   ],
   "metadata": {}
  },
  {
   "cell_type": "code",
   "execution_count": 50,
   "source": [
    "from sklearn.metrics import balanced_accuracy_score\n",
    "\n",
    "balanced_accuracy_score(y_true, y_pred)"
   ],
   "outputs": [
    {
     "output_type": "execute_result",
     "data": {
      "text/plain": [
       "0.9079730576441103"
      ]
     },
     "metadata": {},
     "execution_count": 50
    }
   ],
   "metadata": {}
  },
  {
   "cell_type": "markdown",
   "source": [
    "# Accuracy Score"
   ],
   "metadata": {}
  },
  {
   "cell_type": "code",
   "execution_count": 51,
   "source": [
    "from sklearn.metrics import accuracy_score\n",
    "\n",
    "accuracy_score(y_true, y_pred)"
   ],
   "outputs": [
    {
     "output_type": "execute_result",
     "data": {
      "text/plain": [
       "0.9210526315789473"
      ]
     },
     "metadata": {},
     "execution_count": 51
    }
   ],
   "metadata": {}
  },
  {
   "cell_type": "markdown",
   "source": [
    "# f1_score"
   ],
   "metadata": {}
  },
  {
   "cell_type": "code",
   "execution_count": 59,
   "source": [
    "from sklearn.metrics import f1_score\n",
    "f1_score_macro = f1_score(y_true, y_pred, average='macro').round(2)\n",
    "f1_score_micro = f1_score(y_true, y_pred, average='micro').round(2)\n",
    "f1_score_weighted = f1_score(y_true, y_pred, average='weighted').round(2)\n",
    "print(f'f1_score_macro: {f1_score_macro}')\n",
    "print(f'f1_score_micro: {f1_score_micro}')\n",
    "print(f'f1_score_weighted: {f1_score_weighted}')"
   ],
   "outputs": [
    {
     "output_type": "stream",
     "name": "stdout",
     "text": [
      "f1_score_macro: 0.89\n",
      "f1_score_micro: 0.92\n",
      "f1_score_weighted: 0.92\n"
     ]
    }
   ],
   "metadata": {}
  },
  {
   "cell_type": "markdown",
   "source": [
    "# recall"
   ],
   "metadata": {}
  },
  {
   "cell_type": "code",
   "execution_count": 60,
   "source": [
    "from sklearn.metrics import recall_score\n",
    "\n",
    "recall_score_macro = recall_score(y_true, y_pred, average='macro').round(2)\n",
    "recall_score_micro = recall_score(y_true, y_pred, average='micro').round(2)\n",
    "recall_score_weighted = recall_score(y_true, y_pred, average='weighted').round(2)\n",
    "print(f'recall_score_macro: {recall_score_macro}')\n",
    "print(f'recall_score_micro: {recall_score_micro}')\n",
    "print(f'recall_score_weighted: {recall_score_weighted}')"
   ],
   "outputs": [
    {
     "output_type": "stream",
     "name": "stdout",
     "text": [
      "recall_score_macro: 0.91\n",
      "recall_score_micro: 0.92\n",
      "recall_score_weighted: 0.92\n"
     ]
    }
   ],
   "metadata": {}
  },
  {
   "cell_type": "markdown",
   "source": [
    "# Assignment 2"
   ],
   "metadata": {}
  },
  {
   "cell_type": "code",
   "execution_count": 63,
   "source": [
    "from transformers import BertForSequenceClassification\n",
    "\n",
    "checkpoint = 'bert-ag-news-classification'\n",
    "model = BertForSequenceClassification.from_pretrained(checkpoint)\n",
    "\n",
    "tokenizer = AutoTokenizer.from_pretrained(model_pretrained)"
   ],
   "outputs": [
    {
     "output_type": "stream",
     "name": "stderr",
     "text": [
      "loading configuration file bert-ag-news-classification/config.json\n",
      "Model config BertConfig {\n",
      "  \"_name_or_path\": \"bert-base-uncased\",\n",
      "  \"architectures\": [\n",
      "    \"BertForSequenceClassification\"\n",
      "  ],\n",
      "  \"attention_probs_dropout_prob\": 0.1,\n",
      "  \"gradient_checkpointing\": false,\n",
      "  \"hidden_act\": \"gelu\",\n",
      "  \"hidden_dropout_prob\": 0.1,\n",
      "  \"hidden_size\": 768,\n",
      "  \"id2label\": {\n",
      "    \"0\": \"LABEL_0\",\n",
      "    \"1\": \"LABEL_1\",\n",
      "    \"2\": \"LABEL_2\",\n",
      "    \"3\": \"LABEL_3\"\n",
      "  },\n",
      "  \"initializer_range\": 0.02,\n",
      "  \"intermediate_size\": 3072,\n",
      "  \"label2id\": {\n",
      "    \"LABEL_0\": 0,\n",
      "    \"LABEL_1\": 1,\n",
      "    \"LABEL_2\": 2,\n",
      "    \"LABEL_3\": 3\n",
      "  },\n",
      "  \"layer_norm_eps\": 1e-12,\n",
      "  \"max_position_embeddings\": 512,\n",
      "  \"model_type\": \"bert\",\n",
      "  \"num_attention_heads\": 12,\n",
      "  \"num_hidden_layers\": 12,\n",
      "  \"pad_token_id\": 0,\n",
      "  \"position_embedding_type\": \"absolute\",\n",
      "  \"problem_type\": \"single_label_classification\",\n",
      "  \"torch_dtype\": \"float32\",\n",
      "  \"transformers_version\": \"4.9.2\",\n",
      "  \"type_vocab_size\": 2,\n",
      "  \"use_cache\": true,\n",
      "  \"vocab_size\": 30522\n",
      "}\n",
      "\n",
      "loading weights file bert-ag-news-classification/pytorch_model.bin\n",
      "All model checkpoint weights were used when initializing BertForSequenceClassification.\n",
      "\n",
      "All the weights of BertForSequenceClassification were initialized from the model checkpoint at bert-ag-news-classification.\n",
      "If your task is similar to the task the model of the checkpoint was trained on, you can already use BertForSequenceClassification for predictions without further training.\n",
      "loading configuration file https://huggingface.co/bert-base-uncased/resolve/main/config.json from cache at /home/deniz/.cache/huggingface/transformers/3c61d016573b14f7f008c02c4e51a366c67ab274726fe2910691e2a761acf43e.37395cee442ab11005bcd270f3c34464dc1704b715b5d7d52b1a461abe3b9e4e\n",
      "Model config BertConfig {\n",
      "  \"architectures\": [\n",
      "    \"BertForMaskedLM\"\n",
      "  ],\n",
      "  \"attention_probs_dropout_prob\": 0.1,\n",
      "  \"gradient_checkpointing\": false,\n",
      "  \"hidden_act\": \"gelu\",\n",
      "  \"hidden_dropout_prob\": 0.1,\n",
      "  \"hidden_size\": 768,\n",
      "  \"initializer_range\": 0.02,\n",
      "  \"intermediate_size\": 3072,\n",
      "  \"layer_norm_eps\": 1e-12,\n",
      "  \"max_position_embeddings\": 512,\n",
      "  \"model_type\": \"bert\",\n",
      "  \"num_attention_heads\": 12,\n",
      "  \"num_hidden_layers\": 12,\n",
      "  \"pad_token_id\": 0,\n",
      "  \"position_embedding_type\": \"absolute\",\n",
      "  \"transformers_version\": \"4.9.2\",\n",
      "  \"type_vocab_size\": 2,\n",
      "  \"use_cache\": true,\n",
      "  \"vocab_size\": 30522\n",
      "}\n",
      "\n",
      "loading file https://huggingface.co/bert-base-uncased/resolve/main/vocab.txt from cache at /home/deniz/.cache/huggingface/transformers/45c3f7a79a80e1cf0a489e5c62b43f173c15db47864303a55d623bb3c96f72a5.d789d64ebfe299b0e416afc4a169632f903f693095b4629a7ea271d5a0cf2c99\n",
      "loading file https://huggingface.co/bert-base-uncased/resolve/main/tokenizer.json from cache at /home/deniz/.cache/huggingface/transformers/534479488c54aeaf9c3406f647aa2ec13648c06771ffe269edabebd4c412da1d.7f2721073f19841be16f41b0a70b600ca6b880c8f3df6f3535cbc704371bdfa4\n",
      "loading file https://huggingface.co/bert-base-uncased/resolve/main/added_tokens.json from cache at None\n",
      "loading file https://huggingface.co/bert-base-uncased/resolve/main/special_tokens_map.json from cache at None\n",
      "loading file https://huggingface.co/bert-base-uncased/resolve/main/tokenizer_config.json from cache at /home/deniz/.cache/huggingface/transformers/c1d7f0a763fb63861cc08553866f1fc3e5a6f4f07621be277452d26d71303b7e.20430bd8e10ef77a7d2977accefe796051e01bc2fc4aa146bc862997a1a15e79\n",
      "loading configuration file https://huggingface.co/bert-base-uncased/resolve/main/config.json from cache at /home/deniz/.cache/huggingface/transformers/3c61d016573b14f7f008c02c4e51a366c67ab274726fe2910691e2a761acf43e.37395cee442ab11005bcd270f3c34464dc1704b715b5d7d52b1a461abe3b9e4e\n",
      "Model config BertConfig {\n",
      "  \"architectures\": [\n",
      "    \"BertForMaskedLM\"\n",
      "  ],\n",
      "  \"attention_probs_dropout_prob\": 0.1,\n",
      "  \"gradient_checkpointing\": false,\n",
      "  \"hidden_act\": \"gelu\",\n",
      "  \"hidden_dropout_prob\": 0.1,\n",
      "  \"hidden_size\": 768,\n",
      "  \"initializer_range\": 0.02,\n",
      "  \"intermediate_size\": 3072,\n",
      "  \"layer_norm_eps\": 1e-12,\n",
      "  \"max_position_embeddings\": 512,\n",
      "  \"model_type\": \"bert\",\n",
      "  \"num_attention_heads\": 12,\n",
      "  \"num_hidden_layers\": 12,\n",
      "  \"pad_token_id\": 0,\n",
      "  \"position_embedding_type\": \"absolute\",\n",
      "  \"transformers_version\": \"4.9.2\",\n",
      "  \"type_vocab_size\": 2,\n",
      "  \"use_cache\": true,\n",
      "  \"vocab_size\": 30522\n",
      "}\n",
      "\n"
     ]
    }
   ],
   "metadata": {}
  },
  {
   "cell_type": "code",
   "execution_count": 72,
   "source": [
    "from transformers import TextClassificationPipeline\n",
    "pipeline_classify = TextClassificationPipeline(model=model, tokenizer=tokenizer)"
   ],
   "outputs": [],
   "metadata": {}
  },
  {
   "cell_type": "markdown",
   "source": [
    "## World = 0\n",
    "## Sports = 1\n",
    "## Business = 2\n",
    "## Sci/Tech = 3\n"
   ],
   "metadata": {}
  },
  {
   "cell_type": "code",
   "execution_count": 84,
   "source": [
    "while True:\n",
    "    prompt = input('\\n\\nInsert prompt\\n')\n",
    "    if prompt == 'exit':\n",
    "        break\n",
    "    else:\n",
    "        print(pipeline_classify(prompt))\n",
    "\n"
   ],
   "outputs": [
    {
     "output_type": "stream",
     "name": "stdout",
     "text": [
      "[{'label': 'LABEL_2', 'score': 0.9976270794868469}]\n"
     ]
    }
   ],
   "metadata": {}
  },
  {
   "cell_type": "code",
   "execution_count": null,
   "source": [],
   "outputs": [],
   "metadata": {}
  }
 ],
 "metadata": {
  "orig_nbformat": 4,
  "language_info": {
   "name": "python",
   "version": "3.9.6",
   "mimetype": "text/x-python",
   "codemirror_mode": {
    "name": "ipython",
    "version": 3
   },
   "pygments_lexer": "ipython3",
   "nbconvert_exporter": "python",
   "file_extension": ".py"
  },
  "kernelspec": {
   "name": "python3",
   "display_name": "Python 3.9.6 64-bit ('NLP': conda)"
  },
  "interpreter": {
   "hash": "86c899ea07089cc9d284ea9f9b0758fa4e79f644b216f9a03b961d7e004425f1"
  }
 },
 "nbformat": 4,
 "nbformat_minor": 2
}